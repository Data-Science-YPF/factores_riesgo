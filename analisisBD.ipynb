{
  "cells": [
    {
      "cell_type": "markdown",
      "metadata": {},
      "source": [
        "# Factores de riesgo\n",
        "Este proyecto se corresponde al trabajo final del curso de Data Science dictado por la Fundación YPF en el año 2024."
      ]
    },
    {
      "cell_type": "markdown",
      "metadata": {},
      "source": [
        "## Objetivos del proyecto\n",
        "Desarrollar un modelo predictivo para identificar individuos con alto riesgo de desarrollar enfermedades crónicas (como hipertensión, diabetes, colesterol alto) basándose en sus comportamientos y condiciones de vida."
      ]
    },
    {
      "cell_type": "markdown",
      "metadata": {},
      "source": [
        "## Setup de archivos"
      ]
    },
    {
      "cell_type": "markdown",
      "metadata": {},
      "source": [
        "### Imports"
      ]
    },
    {
      "cell_type": "code",
      "execution_count": 1,
      "metadata": {
        "id": "UEHMxNzhQP-1"
      },
      "outputs": [],
      "source": [
        "import pandas as pd\n",
        "import numpy as np\n",
        "import matplotlib.pyplot as plt\n",
        "import sklearn as skl\n",
        "\n",
        "from utils.funcions import (\n",
        "    calcular_nulos_y_porcentaje\n",
        ")"
      ]
    },
    {
      "cell_type": "markdown",
      "metadata": {},
      "source": [
        "### Lectura de datasets"
      ]
    },
    {
      "cell_type": "code",
      "execution_count": null,
      "metadata": {
        "colab": {
          "base_uri": "https://localhost:8080/",
          "height": 329
        },
        "id": "KM_o7UC3Qi6_",
        "outputId": "513de1bd-515b-48d5-bc94-2d5fb885d98f"
      },
      "outputs": [],
      "source": [
        "# Conecto drive\n",
        "from google.colab import drive\n",
        "drive.mount('/content/drive')\n",
        "\n",
        "# Leo el archivo\n",
        "friesgo_2018 = pd.read_csv('/content/drive/MyDrive/INGENIAS/TrabajoP/bd/friesgo2018.txt', delimiter = '|')"
      ]
    },
    {
      "cell_type": "code",
      "execution_count": 2,
      "metadata": {},
      "outputs": [],
      "source": [
        "## Leo el archivo localmente\n",
        "friesgo_2018 = pd.read_csv('datasets/friesgo2018.txt', delimiter = '|')"
      ]
    },
    {
      "cell_type": "markdown",
      "metadata": {},
      "source": [
        "## Analizando el dataset (raw)"
      ]
    },
    {
      "cell_type": "code",
      "execution_count": 10,
      "metadata": {
        "colab": {
          "base_uri": "https://localhost:8080/"
        },
        "id": "WNaMprnG9AQy",
        "outputId": "688f914a-2d1f-466a-895f-84e3f9d6db29"
      },
      "outputs": [
        {
          "data": {
            "text/plain": [
              "(29224, 287)"
            ]
          },
          "execution_count": 10,
          "metadata": {},
          "output_type": "execute_result"
        }
      ],
      "source": [
        "# Determino filas y columnas\n",
        "friesgo_2018.shape"
      ]
    },
    {
      "cell_type": "code",
      "execution_count": 12,
      "metadata": {
        "id": "4ZG1b1ya9GtN"
      },
      "outputs": [
        {
          "data": {
            "text/html": [
              "<div>\n",
              "<style scoped>\n",
              "    .dataframe tbody tr th:only-of-type {\n",
              "        vertical-align: middle;\n",
              "    }\n",
              "\n",
              "    .dataframe tbody tr th {\n",
              "        vertical-align: top;\n",
              "    }\n",
              "\n",
              "    .dataframe thead th {\n",
              "        text-align: right;\n",
              "    }\n",
              "</style>\n",
              "<table border=\"1\" class=\"dataframe\">\n",
              "  <thead>\n",
              "    <tr style=\"text-align: right;\">\n",
              "      <th></th>\n",
              "      <th>id</th>\n",
              "      <th>cod_provincia</th>\n",
              "      <th>region</th>\n",
              "      <th>tamanio_aglomerado</th>\n",
              "      <th>aglomerado</th>\n",
              "      <th>localidades_150</th>\n",
              "      <th>submuestra</th>\n",
              "      <th>bhcv01</th>\n",
              "      <th>bhcv02</th>\n",
              "      <th>bhcv03</th>\n",
              "      <th>...</th>\n",
              "      <th>glucemia_elevada</th>\n",
              "      <th>prevalencia_glucemia_elevada_combinada</th>\n",
              "      <th>findrisc</th>\n",
              "      <th>bimq06</th>\n",
              "      <th>bimq06_01</th>\n",
              "      <th>colesterol_elevado</th>\n",
              "      <th>prevalencia_colesterol_combinada</th>\n",
              "      <th>wf1p</th>\n",
              "      <th>wf2p</th>\n",
              "      <th>wf3p</th>\n",
              "    </tr>\n",
              "  </thead>\n",
              "  <tbody>\n",
              "    <tr>\n",
              "      <th>0</th>\n",
              "      <td>1128639</td>\n",
              "      <td>2</td>\n",
              "      <td>1</td>\n",
              "      <td>1</td>\n",
              "      <td>1</td>\n",
              "      <td>1</td>\n",
              "      <td>1</td>\n",
              "      <td>3</td>\n",
              "      <td>2</td>\n",
              "      <td>1</td>\n",
              "      <td>...</td>\n",
              "      <td>NaN</td>\n",
              "      <td>NaN</td>\n",
              "      <td>2.0</td>\n",
              "      <td>NaN</td>\n",
              "      <td>NaN</td>\n",
              "      <td>NaN</td>\n",
              "      <td>NaN</td>\n",
              "      <td>2378</td>\n",
              "      <td>4464</td>\n",
              "      <td>0</td>\n",
              "    </tr>\n",
              "    <tr>\n",
              "      <th>1</th>\n",
              "      <td>1709939</td>\n",
              "      <td>2</td>\n",
              "      <td>1</td>\n",
              "      <td>1</td>\n",
              "      <td>1</td>\n",
              "      <td>1</td>\n",
              "      <td>0</td>\n",
              "      <td>1</td>\n",
              "      <td>4</td>\n",
              "      <td>1</td>\n",
              "      <td>...</td>\n",
              "      <td>NaN</td>\n",
              "      <td>NaN</td>\n",
              "      <td>NaN</td>\n",
              "      <td>NaN</td>\n",
              "      <td>NaN</td>\n",
              "      <td>NaN</td>\n",
              "      <td>NaN</td>\n",
              "      <td>3588</td>\n",
              "      <td>0</td>\n",
              "      <td>0</td>\n",
              "    </tr>\n",
              "    <tr>\n",
              "      <th>2</th>\n",
              "      <td>6874130</td>\n",
              "      <td>2</td>\n",
              "      <td>1</td>\n",
              "      <td>1</td>\n",
              "      <td>1</td>\n",
              "      <td>1</td>\n",
              "      <td>0</td>\n",
              "      <td>3</td>\n",
              "      <td>2</td>\n",
              "      <td>1</td>\n",
              "      <td>...</td>\n",
              "      <td>NaN</td>\n",
              "      <td>NaN</td>\n",
              "      <td>NaN</td>\n",
              "      <td>NaN</td>\n",
              "      <td>NaN</td>\n",
              "      <td>NaN</td>\n",
              "      <td>NaN</td>\n",
              "      <td>2740</td>\n",
              "      <td>0</td>\n",
              "      <td>0</td>\n",
              "    </tr>\n",
              "    <tr>\n",
              "      <th>3</th>\n",
              "      <td>10319375</td>\n",
              "      <td>2</td>\n",
              "      <td>1</td>\n",
              "      <td>1</td>\n",
              "      <td>1</td>\n",
              "      <td>1</td>\n",
              "      <td>1</td>\n",
              "      <td>3</td>\n",
              "      <td>1</td>\n",
              "      <td>1</td>\n",
              "      <td>...</td>\n",
              "      <td>NaN</td>\n",
              "      <td>NaN</td>\n",
              "      <td>NaN</td>\n",
              "      <td>NaN</td>\n",
              "      <td>NaN</td>\n",
              "      <td>NaN</td>\n",
              "      <td>NaN</td>\n",
              "      <td>493</td>\n",
              "      <td>0</td>\n",
              "      <td>0</td>\n",
              "    </tr>\n",
              "    <tr>\n",
              "      <th>4</th>\n",
              "      <td>11140857</td>\n",
              "      <td>2</td>\n",
              "      <td>1</td>\n",
              "      <td>1</td>\n",
              "      <td>1</td>\n",
              "      <td>1</td>\n",
              "      <td>0</td>\n",
              "      <td>3</td>\n",
              "      <td>3</td>\n",
              "      <td>1</td>\n",
              "      <td>...</td>\n",
              "      <td>NaN</td>\n",
              "      <td>NaN</td>\n",
              "      <td>NaN</td>\n",
              "      <td>NaN</td>\n",
              "      <td>NaN</td>\n",
              "      <td>NaN</td>\n",
              "      <td>NaN</td>\n",
              "      <td>2016</td>\n",
              "      <td>0</td>\n",
              "      <td>0</td>\n",
              "    </tr>\n",
              "  </tbody>\n",
              "</table>\n",
              "<p>5 rows × 287 columns</p>\n",
              "</div>"
            ],
            "text/plain": [
              "         id  cod_provincia  region  tamanio_aglomerado  aglomerado  \\\n",
              "0   1128639              2       1                   1           1   \n",
              "1   1709939              2       1                   1           1   \n",
              "2   6874130              2       1                   1           1   \n",
              "3  10319375              2       1                   1           1   \n",
              "4  11140857              2       1                   1           1   \n",
              "\n",
              "   localidades_150  submuestra  bhcv01  bhcv02  bhcv03  ...  glucemia_elevada  \\\n",
              "0                1           1       3       2       1  ...               NaN   \n",
              "1                1           0       1       4       1  ...               NaN   \n",
              "2                1           0       3       2       1  ...               NaN   \n",
              "3                1           1       3       1       1  ...               NaN   \n",
              "4                1           0       3       3       1  ...               NaN   \n",
              "\n",
              "   prevalencia_glucemia_elevada_combinada  findrisc  bimq06  bimq06_01  \\\n",
              "0                                     NaN       2.0     NaN        NaN   \n",
              "1                                     NaN       NaN     NaN        NaN   \n",
              "2                                     NaN       NaN     NaN        NaN   \n",
              "3                                     NaN       NaN     NaN        NaN   \n",
              "4                                     NaN       NaN     NaN        NaN   \n",
              "\n",
              "   colesterol_elevado  prevalencia_colesterol_combinada  wf1p  wf2p  wf3p  \n",
              "0                 NaN                               NaN  2378  4464     0  \n",
              "1                 NaN                               NaN  3588     0     0  \n",
              "2                 NaN                               NaN  2740     0     0  \n",
              "3                 NaN                               NaN   493     0     0  \n",
              "4                 NaN                               NaN  2016     0     0  \n",
              "\n",
              "[5 rows x 287 columns]"
            ]
          },
          "execution_count": 12,
          "metadata": {},
          "output_type": "execute_result"
        }
      ],
      "source": [
        "# Obtengo las 5 primeras filas del dataset\n",
        "friesgo_2018.head()"
      ]
    },
    {
      "cell_type": "markdown",
      "metadata": {
        "id": "ZO9DswVDhrE3"
      },
      "source": [
        "##  Evaluacion de columnas del dataset\n",
        "\n",
        "Vamos a agrupar las columnas por temática, manteniendo ciertas columnas que permiten la identificacion del registro (como el id) y aquellas necesarias para realizar analisis, tales como variables demograficas.\n",
        "Por cada temática:\n",
        "\n",
        "*   Visualizo las primeras filas\n",
        "*   Renombro columnas y evaluo los nulos\n",
        "*   Calculo de porcentaje de faltantes por columna"
      ]
    },
    {
      "cell_type": "markdown",
      "metadata": {},
      "source": [
        "### Busqueda y localizacion de bloques tematicos"
      ]
    },
    {
      "cell_type": "code",
      "execution_count": null,
      "metadata": {},
      "outputs": [],
      "source": [
        "#Busco el indice de una columna para dividir los bloques tematicos\n",
        "friesgo_2018.columns.get_loc('cobertura_salud')"
      ]
    },
    {
      "cell_type": "code",
      "execution_count": null,
      "metadata": {
        "id": "rTauus0Pgzne"
      },
      "outputs": [],
      "source": [
        "#caracteristicas del encuestado, sexo, nivel de instruccion rango etario, etc.\n",
        "caracteristicas_encuestado = friesgo_2018.iloc[:,51:65]\n",
        "#caracteristicas_encuestado.head(20)\n",
        "calcular_nulos_y_porcentaje(caracteristicas_encuestado)"
      ]
    },
    {
      "cell_type": "code",
      "execution_count": null,
      "metadata": {
        "id": "feLGvucYAi_P"
      },
      "outputs": [],
      "source": [
        "saludgeneral_actfisica  = friesgo_2018.iloc[:,73:97]\n",
        "#saludgeneral_actfisica.head(20)\n",
        "calcular_nulos_y_porcentaje(saludgeneral_actfisica)"
      ]
    },
    {
      "cell_type": "code",
      "execution_count": null,
      "metadata": {},
      "outputs": [],
      "source": [
        "hipertension = friesgo_2018.iloc[:,140:159]\n",
        "#hipertension.head(20)\n",
        "calcular_nulos_y_porcentaje(hipertension)"
      ]
    },
    {
      "cell_type": "code",
      "execution_count": null,
      "metadata": {},
      "outputs": [],
      "source": [
        "pesocorporal = friesgo_2018.iloc[:,160:168]\n",
        "#pesocorporal.head(20)\n",
        "calcular_nulos_y_porcentaje(pesocorporal)"
      ]
    },
    {
      "cell_type": "code",
      "execution_count": null,
      "metadata": {},
      "outputs": [],
      "source": [
        "alimentacion = friesgo_2018.iloc[:,169:186]\n",
        "#alimentacion.head(20)\n",
        "calcular_nulos_y_porcentaje(alimentacion)"
      ]
    },
    {
      "cell_type": "code",
      "execution_count": null,
      "metadata": {},
      "outputs": [],
      "source": [
        "diabetes = friesgo_2018.iloc[:,218:236]\n",
        "#diabetes.head(20)\n",
        "calcular_nulos_y_porcentaje(diabetes)"
      ]
    },
    {
      "cell_type": "code",
      "execution_count": null,
      "metadata": {},
      "outputs": [],
      "source": [
        "mediciones_antropometricas = friesgo_2018.iloc[:,252:273]\n",
        "#mediciones_antropometricas.head(20)\n",
        "calcular_nulos_y_porcentaje(mediciones_antropometricas)"
      ]
    },
    {
      "cell_type": "code",
      "execution_count": null,
      "metadata": {},
      "outputs": [],
      "source": [
        "mediciones_bioquimicas = friesgo_2018.iloc[:,274:283]\n",
        "#mediciones_bioquimicas.head(20)\n",
        "calcular_nulos_y_porcentaje(mediciones_bioquimicas)"
      ]
    },
    {
      "cell_type": "markdown",
      "metadata": {},
      "source": [
        "### Tabaquismo\n",
        "Agregar detalle de columnas implicadas en este dataset.\n",
        "\n",
        "#### Remuevo las siguientes columnas por ser calculadas en base a las respuestas de otras preguntas\n",
        "\n",
        "* consumo_tabaco_100\n",
        "* ta_paquete_y_armado\n",
        "* ta_dejar_fumar\n",
        "* ta_otros_productos\n",
        "* hta_nofumadores\n",
        "* ta_perc_publicidad\n",
        "* ta_percepcion_riesgo"
      ]
    },
    {
      "cell_type": "code",
      "execution_count": 22,
      "metadata": {},
      "outputs": [],
      "source": [
        "# Creo el DataFrame para tabaquismo\n",
        "# Selecciono la columna 0 - correspondiente a la columna id - y el rango de preguntas para tabaquismo\n",
        "tabaquismo = friesgo_2018.iloc[:, [0] + list(range(98, 132))]"
      ]
    },
    {
      "cell_type": "code",
      "execution_count": null,
      "metadata": {},
      "outputs": [],
      "source": [
        "# Visualizo las primeras 20 filas\n",
        "tabaquismo.head(20)"
      ]
    },
    {
      "cell_type": "code",
      "execution_count": 24,
      "metadata": {},
      "outputs": [
        {
          "name": "stderr",
          "output_type": "stream",
          "text": [
            "C:\\Users\\Biank\\AppData\\Local\\Temp\\ipykernel_4224\\2009123552.py:2: SettingWithCopyWarning: \n",
            "A value is trying to be set on a copy of a slice from a DataFrame\n",
            "\n",
            "See the caveats in the documentation: https://pandas.pydata.org/pandas-docs/stable/user_guide/indexing.html#returning-a-view-versus-a-copy\n",
            "  tabaquismo.rename(columns = {\n"
          ]
        }
      ],
      "source": [
        "# Renombro columnas\n",
        "tabaquismo.rename(columns = {\n",
        "    'bita01':       'es_fumador',\n",
        "    'bita02':       'edad_fuma_primera_vez',\n",
        "    'bita02_99':    'edad_fuma_primera_vez_ns_nc',\n",
        "    'bita03':       'fumado_100_cigarrillos',\n",
        "    'bita04':       'periodicidad_fumador',\n",
        "    'bita04_01':    'es_cigarrillo_armado',\n",
        "    'bita04_02':    'es_cigarrillo_paquete',\n",
        "    'bita05':       'marca_cigarrillos',\n",
        "    'bita06_a':     'tipo_paquete_comprado',\n",
        "    'bita06_b':     'cant_cigarrillos_comprados',\n",
        "    'bita06_b_99':  'cant_cigarrillos_comprados_ns_nc',\n",
        "    'bita06_c':     'cigarrillos_sabor',\n",
        "    'bita06_d':     'cigarrillos_tipo_capsula',\n",
        "    'bita07':       'dinero_pagado_ultima_compra_cigarrillos',\n",
        "    'bita07_99':    'dinero_pagado_ultima_compra_cigarrillos_ns_nc',\n",
        "    'bita08':       'intento_dejar_fumar',\n",
        "    'bita09_01':    'es_fumador_cigarro_habano',\n",
        "    'bita09_02':    'es_fumador_cigarritos',\n",
        "    'bita09_03':    'es_fumador_pipa_comun',\n",
        "    'bita09_04':    'es_fumador_pipa_agua',\n",
        "    'bita09_05':    'es_fumador_tabaco_masticar',\n",
        "    'bita09_06':    'es_fumador_cigarrillo_electronico',\n",
        "    'bita10_01':    'hubo_fumadores_casa',\n",
        "    'bita10_02':    'hubo_fumadores_trabajo',\n",
        "    'bita10_03':    'hubo_fumadores_escuela',\n",
        "    'bita10_04':    'hubo_fumadores_restaurant',\n",
        "    'bita10_05':    'hubo_fumadores_hospital',\n",
        "    'bita10_06':    'hubo_fumadores_otros_lugares',\n",
        "    'bita11':       'publicidad_comercios',\n",
        "    'bita12':       'publicidad_email',\n",
        "    'bita13':       'suscripcion_cigarrera',\n",
        "    'bita14':       'vio_propaganda_riesgo_fumar',\n",
        "    'bita15':       'propaganda_piensa_dejar_fumar',\n",
        "    'bita16':       'acuerdo_impuesto_tabaco'\n",
        "}, inplace = True)"
      ]
    },
    {
      "cell_type": "code",
      "execution_count": null,
      "metadata": {
        "id": "d3Iu10gRcqMm"
      },
      "outputs": [],
      "source": [
        "# Visualizo nulos y porcentaje\n",
        "calcular_nulos_y_porcentaje(tabaquismo)"
      ]
    },
    {
      "cell_type": "markdown",
      "metadata": {},
      "source": [
        "### Ubicacion"
      ]
    },
    {
      "cell_type": "markdown",
      "metadata": {},
      "source": [
        "Esta seccion contiene las siguientes columnas:\n",
        "+ id\n",
        "+ cod_provincia\n",
        "+ region\n",
        "+ tamanio_aglomerado\n",
        "+ aglomerado : Aglomerado urbano de 500.000 y más habitantes\n",
        "+ localidades_150 : Tamaño de localidad - 150.000 habitantes o más. (1 True 0 False)\n",
        "+ submuestra : Identificación de la submuestra de los pasos 2 y 3 (*). Correspondientes a las mediciones antropometricas y bioquimicas. (De no usar las mediciones recomiendo borrar esta columna). (1 True 0 False)\n",
        "(*) Ver readme"
      ]
    },
    {
      "cell_type": "code",
      "execution_count": null,
      "metadata": {},
      "outputs": [],
      "source": [
        "# Creo una tabla aparte para ubicacion\n",
        "ubicacion = friesgo_2018.iloc[:,0:7]\n",
        "#ubicacion.head()"
      ]
    },
    {
      "cell_type": "markdown",
      "metadata": {},
      "source": [
        "### Consumo alcohol"
      ]
    },
    {
      "cell_type": "markdown",
      "metadata": {},
      "source": [
        "Este bloque tematico esta compuesto por las siguientes columnas:\n",
        "+ id \n",
        "+ ha_consumido_alc COD\n",
        "+ fecha_ult_cons COD\n",
        "+ freq_30_ds (Int 1:7)\n",
        "+ freq_30_dm (Int 0:30)\n",
        "+ freq_30_nsnc (solo 99)\n",
        "+ tragos_cerveza \n",
        "+ tragos_cerveza_notoma *\n",
        "+ tragos_vino\n",
        "+ tragos_vino_notoma *\n",
        "+ tragos_bebida_fuerte\n",
        "+ tragos_bebida_fuerte_notoma *\n",
        "+ toma_otras_bebidas **\n",
        "+ sobrecon_cant_cerveza \n",
        "+ sobrecon_cerv_notoma *\n",
        "+ sobrecon_cant_vino\n",
        "+ sobrecon_vino_notoma *\n",
        "+ sobrecon_cant_bebfuerte \n",
        "+ sobrecon_bebfuerte_notoma *\n",
        "+ sobrecon_otrasb **\n",
        "+ manejo_alcholizado30,\n",
        "+ aprueba_aumento_imp_alchol\n",
        "+ consumo_regular_riesgo **\n",
        "+ consumo_episodico_excesivo **\n",
        "(*) Solo un valor 98:'No toma'\n",
        "(**) 1:'Si' , 2: 'No'"
      ]
    },
    {
      "cell_type": "code",
      "execution_count": 5,
      "metadata": {},
      "outputs": [
        {
          "data": {
            "text/html": [
              "<div>\n",
              "<style scoped>\n",
              "    .dataframe tbody tr th:only-of-type {\n",
              "        vertical-align: middle;\n",
              "    }\n",
              "\n",
              "    .dataframe tbody tr th {\n",
              "        vertical-align: top;\n",
              "    }\n",
              "\n",
              "    .dataframe thead th {\n",
              "        text-align: right;\n",
              "    }\n",
              "</style>\n",
              "<table border=\"1\" class=\"dataframe\">\n",
              "  <thead>\n",
              "    <tr style=\"text-align: right;\">\n",
              "      <th></th>\n",
              "      <th>id</th>\n",
              "      <th>bica01</th>\n",
              "      <th>bica02</th>\n",
              "      <th>bica03_01</th>\n",
              "      <th>bica03_02</th>\n",
              "      <th>bica03_99</th>\n",
              "      <th>bica04_01_b</th>\n",
              "      <th>bica04_01_c</th>\n",
              "      <th>bica04_02_b</th>\n",
              "      <th>bica04_02_c</th>\n",
              "      <th>...</th>\n",
              "      <th>bica05_01_b</th>\n",
              "      <th>bica05_01_c</th>\n",
              "      <th>bica05_02_b</th>\n",
              "      <th>bica05_02_c</th>\n",
              "      <th>bica05_03_b</th>\n",
              "      <th>bica05_03_c</th>\n",
              "      <th>bica05_04</th>\n",
              "      <th>bica06</th>\n",
              "      <th>bica07</th>\n",
              "      <th>consumo_regular_riesgo</th>\n",
              "    </tr>\n",
              "  </thead>\n",
              "  <tbody>\n",
              "    <tr>\n",
              "      <th>0</th>\n",
              "      <td>1128639</td>\n",
              "      <td>1</td>\n",
              "      <td>1.0</td>\n",
              "      <td>1.0</td>\n",
              "      <td>NaN</td>\n",
              "      <td>NaN</td>\n",
              "      <td>1.0</td>\n",
              "      <td>NaN</td>\n",
              "      <td>NaN</td>\n",
              "      <td>98.0</td>\n",
              "      <td>...</td>\n",
              "      <td>3.0</td>\n",
              "      <td>NaN</td>\n",
              "      <td>1.0</td>\n",
              "      <td>NaN</td>\n",
              "      <td>NaN</td>\n",
              "      <td>98.0</td>\n",
              "      <td>2.0</td>\n",
              "      <td>2.0</td>\n",
              "      <td>2</td>\n",
              "      <td>2.0</td>\n",
              "    </tr>\n",
              "    <tr>\n",
              "      <th>1</th>\n",
              "      <td>1709939</td>\n",
              "      <td>1</td>\n",
              "      <td>1.0</td>\n",
              "      <td>NaN</td>\n",
              "      <td>1.0</td>\n",
              "      <td>NaN</td>\n",
              "      <td>NaN</td>\n",
              "      <td>98.0</td>\n",
              "      <td>1.0</td>\n",
              "      <td>NaN</td>\n",
              "      <td>...</td>\n",
              "      <td>NaN</td>\n",
              "      <td>98.0</td>\n",
              "      <td>NaN</td>\n",
              "      <td>98.0</td>\n",
              "      <td>NaN</td>\n",
              "      <td>98.0</td>\n",
              "      <td>2.0</td>\n",
              "      <td>2.0</td>\n",
              "      <td>2</td>\n",
              "      <td>2.0</td>\n",
              "    </tr>\n",
              "    <tr>\n",
              "      <th>2</th>\n",
              "      <td>6874130</td>\n",
              "      <td>1</td>\n",
              "      <td>2.0</td>\n",
              "      <td>NaN</td>\n",
              "      <td>NaN</td>\n",
              "      <td>NaN</td>\n",
              "      <td>NaN</td>\n",
              "      <td>NaN</td>\n",
              "      <td>NaN</td>\n",
              "      <td>NaN</td>\n",
              "      <td>...</td>\n",
              "      <td>NaN</td>\n",
              "      <td>NaN</td>\n",
              "      <td>NaN</td>\n",
              "      <td>NaN</td>\n",
              "      <td>NaN</td>\n",
              "      <td>NaN</td>\n",
              "      <td>NaN</td>\n",
              "      <td>NaN</td>\n",
              "      <td>2</td>\n",
              "      <td>2.0</td>\n",
              "    </tr>\n",
              "    <tr>\n",
              "      <th>3</th>\n",
              "      <td>10319375</td>\n",
              "      <td>1</td>\n",
              "      <td>3.0</td>\n",
              "      <td>NaN</td>\n",
              "      <td>NaN</td>\n",
              "      <td>NaN</td>\n",
              "      <td>NaN</td>\n",
              "      <td>NaN</td>\n",
              "      <td>NaN</td>\n",
              "      <td>NaN</td>\n",
              "      <td>...</td>\n",
              "      <td>NaN</td>\n",
              "      <td>NaN</td>\n",
              "      <td>NaN</td>\n",
              "      <td>NaN</td>\n",
              "      <td>NaN</td>\n",
              "      <td>NaN</td>\n",
              "      <td>NaN</td>\n",
              "      <td>NaN</td>\n",
              "      <td>1</td>\n",
              "      <td>2.0</td>\n",
              "    </tr>\n",
              "    <tr>\n",
              "      <th>4</th>\n",
              "      <td>11140857</td>\n",
              "      <td>1</td>\n",
              "      <td>1.0</td>\n",
              "      <td>1.0</td>\n",
              "      <td>NaN</td>\n",
              "      <td>NaN</td>\n",
              "      <td>1.5</td>\n",
              "      <td>NaN</td>\n",
              "      <td>NaN</td>\n",
              "      <td>98.0</td>\n",
              "      <td>...</td>\n",
              "      <td>NaN</td>\n",
              "      <td>98.0</td>\n",
              "      <td>NaN</td>\n",
              "      <td>98.0</td>\n",
              "      <td>NaN</td>\n",
              "      <td>98.0</td>\n",
              "      <td>2.0</td>\n",
              "      <td>2.0</td>\n",
              "      <td>99</td>\n",
              "      <td>2.0</td>\n",
              "    </tr>\n",
              "  </tbody>\n",
              "</table>\n",
              "<p>5 rows × 23 columns</p>\n",
              "</div>"
            ],
            "text/plain": [
              "         id  bica01  bica02  bica03_01  bica03_02  bica03_99  bica04_01_b  \\\n",
              "0   1128639       1     1.0        1.0        NaN        NaN          1.0   \n",
              "1   1709939       1     1.0        NaN        1.0        NaN          NaN   \n",
              "2   6874130       1     2.0        NaN        NaN        NaN          NaN   \n",
              "3  10319375       1     3.0        NaN        NaN        NaN          NaN   \n",
              "4  11140857       1     1.0        1.0        NaN        NaN          1.5   \n",
              "\n",
              "   bica04_01_c  bica04_02_b  bica04_02_c  ...  bica05_01_b  bica05_01_c  \\\n",
              "0          NaN          NaN         98.0  ...          3.0          NaN   \n",
              "1         98.0          1.0          NaN  ...          NaN         98.0   \n",
              "2          NaN          NaN          NaN  ...          NaN          NaN   \n",
              "3          NaN          NaN          NaN  ...          NaN          NaN   \n",
              "4          NaN          NaN         98.0  ...          NaN         98.0   \n",
              "\n",
              "   bica05_02_b  bica05_02_c  bica05_03_b  bica05_03_c  bica05_04  bica06  \\\n",
              "0          1.0          NaN          NaN         98.0        2.0     2.0   \n",
              "1          NaN         98.0          NaN         98.0        2.0     2.0   \n",
              "2          NaN          NaN          NaN          NaN        NaN     NaN   \n",
              "3          NaN          NaN          NaN          NaN        NaN     NaN   \n",
              "4          NaN         98.0          NaN         98.0        2.0     2.0   \n",
              "\n",
              "   bica07  consumo_regular_riesgo  \n",
              "0       2                     2.0  \n",
              "1       2                     2.0  \n",
              "2       2                     2.0  \n",
              "3       1                     2.0  \n",
              "4      99                     2.0  \n",
              "\n",
              "[5 rows x 23 columns]"
            ]
          },
          "execution_count": 5,
          "metadata": {},
          "output_type": "execute_result"
        }
      ],
      "source": [
        "# Creo mi tabla de consumo de alcohol\n",
        "consumo_alcohol = friesgo_2018.iloc[:, [0] + list(range(195,217))]\n",
        "consumo_alcohol.head()"
      ]
    },
    {
      "cell_type": "code",
      "execution_count": 4,
      "metadata": {},
      "outputs": [
        {
          "data": {
            "text/plain": [
              "Index(['id', 'bica01', 'bica02', 'bica03_01', 'bica03_02', 'bica03_99',\n",
              "       'bica04_01_b', 'bica04_01_c', 'bica04_02_b', 'bica04_02_c',\n",
              "       'bica04_03_b', 'bica04_03_c', 'bica04_04', 'bica05_01_b', 'bica05_01_c',\n",
              "       'bica05_02_b', 'bica05_02_c', 'bica05_03_b', 'bica05_03_c', 'bica05_04',\n",
              "       'bica06', 'bica07', 'consumo_regular_riesgo'],\n",
              "      dtype='object')"
            ]
          },
          "execution_count": 4,
          "metadata": {},
          "output_type": "execute_result"
        }
      ],
      "source": [
        "consumo_alcohol.columns"
      ]
    },
    {
      "cell_type": "code",
      "execution_count": 6,
      "metadata": {},
      "outputs": [
        {
          "name": "stderr",
          "output_type": "stream",
          "text": [
            "C:\\Users\\Biank\\AppData\\Local\\Temp\\ipykernel_4224\\2100149357.py:2: SettingWithCopyWarning: \n",
            "A value is trying to be set on a copy of a slice from a DataFrame\n",
            "\n",
            "See the caveats in the documentation: https://pandas.pydata.org/pandas-docs/stable/user_guide/indexing.html#returning-a-view-versus-a-copy\n",
            "  consumo_alcohol.rename( columns = {\n"
          ]
        }
      ],
      "source": [
        "# Renombro las columnas\n",
        "consumo_alcohol.rename( columns = {\n",
        "    'bica01': 'ha_consumido_alc',\n",
        "    'bica02': 'fecha_ult_cons',\n",
        "    'bica03_01': 'freq_30_ds',\n",
        "    'bica03_02': 'freq_30_dm',\n",
        "    'bica03_99': 'freq_30_nsnc',\n",
        "    'bica04_01_b': 'tragos_cerveza',\n",
        "    'bica04_01_c': 'tragos_cerveza_notoma',\n",
        "    'bica04_02_b': 'tragos_vino',\n",
        "    'bica04_02_c': 'tragos_vino_notoma',\n",
        "    'bica04_03_b': 'tragos_bebida_fuerte',\n",
        "    'bica04_03_c': 'tragos_bebida_fuerte_notoma',\n",
        "    'bica04_04': 'toma_otras_bebidas',\n",
        "    'bica05_01_b': 'sobrecon_cant_cerveza',\n",
        "    'bica05_01_c': 'sobrecon_cerv_notoma',\n",
        "    'bica05_02_b': 'sobrecon_cant_vino',\n",
        "    'bica05_02_c': 'sobrecon_vino_notoma',\n",
        "    'bica05_03_b': 'sobrecon_cant_bebfuerte',\n",
        "    'bica05_03_c': 'sobrecon_bebfuerte_notoma',\n",
        "    'bica05_04': 'sobrecon_otrasb',\n",
        "    'bica06': 'manejo_alcholizado30',\n",
        "    'bica07': 'aprueba_aumento_imp_alchol'\n",
        "}, inplace= True)"
      ]
    },
    {
      "cell_type": "markdown",
      "metadata": {},
      "source": [
        "### Colesterol"
      ]
    },
    {
      "cell_type": "markdown",
      "metadata": {},
      "source": [
        "Esta seccion contiene las siguientes columnas :\n",
        "+ medido_colesterol **\n",
        "+ fecha_med_colesterol COD\n",
        "+ colesterol_alto **\n",
        "+ tratamiento_medico_col *\n",
        "+ trat_hab_col *\n",
        "+ trat_farmac_col *\n",
        "+ control_colesterol **\n",
        "+ prevalencia_colesterol **\n",
        "\n",
        "(*)No voy a hacer un diccionario para los siguientes ya que se repite el patron= 1: No, 2:Si \n",
        "(**) Anterior + codigo 99:Ns/Nc\n",
        "(COD) Tiene codificacion"
      ]
    },
    {
      "cell_type": "code",
      "execution_count": 6,
      "metadata": {},
      "outputs": [
        {
          "data": {
            "text/plain": [
              "Index(['id', 'bico01', 'bico02', 'bico03', 'bico04', 'bico05_01', 'bico05_02',\n",
              "       'control_colesterol', 'prevalencia_colesterol'],\n",
              "      dtype='object')"
            ]
          },
          "execution_count": 6,
          "metadata": {},
          "output_type": "execute_result"
        }
      ],
      "source": [
        "# Creo mi tabla de tematica: colesterol\n",
        "colesterol = friesgo_2018.iloc[:, [0] + list(range(187,195))]"
      ]
    },
    {
      "cell_type": "code",
      "execution_count": null,
      "metadata": {},
      "outputs": [],
      "source": [
        "# Renombro las columnas \n",
        "colesterol.rename( columns={\n",
        "    'bico01': 'medido_colesterol',\n",
        "    'bico02': 'fecha_med_colesterol',\n",
        "    'bico03': 'colesterol_alto',\n",
        "    'bico04': 'tratamiento_medico_col',\n",
        "    'bico05_01': 'trat_habitos_col',\n",
        "    'bico05_02': 'trat_farmac_col',\n",
        "    'control_colesterol': 'autocontrol_col'\n",
        "}, inplace= True)"
      ]
    },
    {
      "cell_type": "code",
      "execution_count": 9,
      "metadata": {},
      "outputs": [
        {
          "data": {
            "text/html": [
              "<div>\n",
              "<style scoped>\n",
              "    .dataframe tbody tr th:only-of-type {\n",
              "        vertical-align: middle;\n",
              "    }\n",
              "\n",
              "    .dataframe tbody tr th {\n",
              "        vertical-align: top;\n",
              "    }\n",
              "\n",
              "    .dataframe thead th {\n",
              "        text-align: right;\n",
              "    }\n",
              "</style>\n",
              "<table border=\"1\" class=\"dataframe\">\n",
              "  <thead>\n",
              "    <tr style=\"text-align: right;\">\n",
              "      <th></th>\n",
              "      <th>id</th>\n",
              "      <th>medido_colesterol</th>\n",
              "      <th>fecha_med_colesterol</th>\n",
              "      <th>colesterol_alto</th>\n",
              "      <th>tratamiento_medico_col</th>\n",
              "      <th>trat_habitos_col</th>\n",
              "      <th>trat_farmac_col</th>\n",
              "      <th>autocontrol_col</th>\n",
              "      <th>prevalencia_colesterol</th>\n",
              "    </tr>\n",
              "  </thead>\n",
              "  <tbody>\n",
              "    <tr>\n",
              "      <th>0</th>\n",
              "      <td>1128639</td>\n",
              "      <td>1</td>\n",
              "      <td>2.0</td>\n",
              "      <td>2</td>\n",
              "      <td>NaN</td>\n",
              "      <td>NaN</td>\n",
              "      <td>NaN</td>\n",
              "      <td>NaN</td>\n",
              "      <td>2.0</td>\n",
              "    </tr>\n",
              "    <tr>\n",
              "      <th>1</th>\n",
              "      <td>1709939</td>\n",
              "      <td>1</td>\n",
              "      <td>2.0</td>\n",
              "      <td>1</td>\n",
              "      <td>2.0</td>\n",
              "      <td>NaN</td>\n",
              "      <td>NaN</td>\n",
              "      <td>1.0</td>\n",
              "      <td>1.0</td>\n",
              "    </tr>\n",
              "    <tr>\n",
              "      <th>2</th>\n",
              "      <td>6874130</td>\n",
              "      <td>1</td>\n",
              "      <td>2.0</td>\n",
              "      <td>2</td>\n",
              "      <td>NaN</td>\n",
              "      <td>NaN</td>\n",
              "      <td>NaN</td>\n",
              "      <td>NaN</td>\n",
              "      <td>2.0</td>\n",
              "    </tr>\n",
              "    <tr>\n",
              "      <th>3</th>\n",
              "      <td>10319375</td>\n",
              "      <td>1</td>\n",
              "      <td>2.0</td>\n",
              "      <td>1</td>\n",
              "      <td>1.0</td>\n",
              "      <td>2.0</td>\n",
              "      <td>1.0</td>\n",
              "      <td>1.0</td>\n",
              "      <td>1.0</td>\n",
              "    </tr>\n",
              "    <tr>\n",
              "      <th>4</th>\n",
              "      <td>11140857</td>\n",
              "      <td>1</td>\n",
              "      <td>1.0</td>\n",
              "      <td>2</td>\n",
              "      <td>NaN</td>\n",
              "      <td>NaN</td>\n",
              "      <td>NaN</td>\n",
              "      <td>NaN</td>\n",
              "      <td>2.0</td>\n",
              "    </tr>\n",
              "  </tbody>\n",
              "</table>\n",
              "</div>"
            ],
            "text/plain": [
              "         id  medido_colesterol  fecha_med_colesterol  colesterol_alto  \\\n",
              "0   1128639                  1                   2.0                2   \n",
              "1   1709939                  1                   2.0                1   \n",
              "2   6874130                  1                   2.0                2   \n",
              "3  10319375                  1                   2.0                1   \n",
              "4  11140857                  1                   1.0                2   \n",
              "\n",
              "   tratamiento_medico_col  trat_habitos_col  trat_farmac_col  autocontrol_col  \\\n",
              "0                     NaN               NaN              NaN              NaN   \n",
              "1                     2.0               NaN              NaN              1.0   \n",
              "2                     NaN               NaN              NaN              NaN   \n",
              "3                     1.0               2.0              1.0              1.0   \n",
              "4                     NaN               NaN              NaN              NaN   \n",
              "\n",
              "   prevalencia_colesterol  \n",
              "0                     2.0  \n",
              "1                     1.0  \n",
              "2                     2.0  \n",
              "3                     1.0  \n",
              "4                     2.0  "
            ]
          },
          "execution_count": 9,
          "metadata": {},
          "output_type": "execute_result"
        }
      ],
      "source": [
        "#colesterol.columns\n",
        "#colesterol.head()\n",
        "#calcular_nulos_y_porcentaje(colesterol)"
      ]
    },
    {
      "cell_type": "markdown",
      "metadata": {},
      "source": [
        "### Salud general y actividad fisica"
      ]
    },
    {
      "cell_type": "markdown",
      "metadata": {},
      "source": [
        "Según el diccionario de registros correspondiente al dataset, las variables (nombres de columnas) que corresponden a los temas indicados son: \n",
        "\n",
        "*SALUD GENERAL*\n",
        "+ \"bisg01\", \n",
        "+ \"bisg02\",\n",
        "+ \"bisg03\",\n",
        "+ \"bisg04\",\n",
        "+ \"bisg05\",\n",
        "+ \"bisg06\",\n",
        "\n",
        "*ACTIVIDAD FÍSICA*\n",
        "+ \"biaf01\",\n",
        "+ \"biaf02_m\",\n",
        "+ \"biaf02_99\",\n",
        "+ \"biaf03\",\n",
        "+ \"biaf04_m\",\n",
        "+ \"biaf04_99\",\n",
        "+ \"biaf05\",\n",
        "+ \"biaf06_m\",\n",
        "+ \"biaf06_99\",\n",
        "+ \"biaf07_m\",\n",
        "+ \"biaf07_99\",\n",
        "+ \"biaf08\",\n",
        "+ \"biaf09\",\n",
        "+ \"biaf10_01\",\n",
        "+ \"biaf10_02\",\n",
        "+ \"biaf10_03\",\n",
        "+ \"biaf10_04\",\n",
        "+ \"nivel_actividad_fisica\",\n",
        "+ \"barreras_actividad_fisica\""
      ]
    },
    {
      "cell_type": "code",
      "execution_count": null,
      "metadata": {},
      "outputs": [],
      "source": [
        "#Formando el subset salud_y_af y renombrando sus variables\n",
        "salud_y_af = friesgo_2018.iloc[:, [0] + list(range(73,98))]\n",
        "#salud_y_af.head()"
      ]
    },
    {
      "cell_type": "code",
      "execution_count": 41,
      "metadata": {},
      "outputs": [
        {
          "name": "stderr",
          "output_type": "stream",
          "text": [
            "C:\\Users\\Biank\\AppData\\Local\\Temp\\ipykernel_4224\\3558483967.py:6: SettingWithCopyWarning: \n",
            "A value is trying to be set on a copy of a slice from a DataFrame\n",
            "\n",
            "See the caveats in the documentation: https://pandas.pydata.org/pandas-docs/stable/user_guide/indexing.html#returning-a-view-versus-a-copy\n",
            "  salud_y_af.rename(columns = {\n"
          ]
        }
      ],
      "source": [
        "\n",
        "# Renombro columnas\n",
        "salud_y_af.rename(columns = {\n",
        "    #SALUD GENERAL \n",
        "\"bisg01\" : \"salud_actual\",\n",
        "\"bisg02\" : \"nivel_de_movilidad\",\n",
        "\"bisg03\" : \"capacidad_cuidado_personal\",\n",
        "\"bisg04\" : \"capacidad_actividades_cotidianas\",\n",
        "\"bisg05\" : \"dolor_malestar_general\",\n",
        "\"bisg06\" : \"ansiedad_depresion\",\n",
        "\n",
        "#ACTIVIDAD FÍSICA  af\n",
        "\"biaf01\" : \"af_intensa_veces_por_semana\",\n",
        "\"iaf02_m\" : \"af_intensa_min_totales_por_semana\",\n",
        "\"biaf02_99\" : \"af_intensa_min_totales_por_semana_nsnc\",\n",
        "\"biaf03\" : \"af_moderada_veces_por_semana\",\n",
        "\"biaf04_m\" : \"af_moderada_min_totales_por_semana\",\n",
        "\"biaf04_99\" : \"actividad_fisica_moderada_min_totales_por_semana_nsnc\",\n",
        "\"biaf05\" : \"caminata_veces_por_semana\",\n",
        "\"biaf06_m\" : \"caminata_min_totales_por_semana\",\n",
        "\"biaf06_99\" : \"caminata_min_totales_por_semana_nsnc\",\n",
        "\"biaf07_m\" : \"tiempo_sentado_min_por_dia\",\n",
        "\"biaf07_99\" : \"tiempo_sentado_min_por_dia_nsnc\",\n",
        "\"biaf08\" : \"razon_ninguna_actividad_la_ultima_semana\",\n",
        "\"biaf09\" : \"razon_poca_actividad_la_ultima_semana\",\n",
        "\"biaf10_01\" : \"af_fue_actividad_domestica\",\n",
        "\"biaf10_02\" : \"af_fue_actividad_laboral\",\n",
        "\"biaf10_03\" : \"af_fue_traslado\",\n",
        "\"biaf10_04\" : \"af_fue_deporte\",\n",
        "\"nivel_actividad_fisica\" : \"nivel_af\",\n",
        "\"barreras_actividad_fisica\" : \"barreras_af\"\n",
        "\n",
        "}, inplace = True)"
      ]
    },
    {
      "cell_type": "code",
      "execution_count": 42,
      "metadata": {},
      "outputs": [
        {
          "data": {
            "text/plain": [
              "Index(['id', 'salud_actual', 'nivel_de_movilidad',\n",
              "       'capacidad_cuidado_personal', 'capacidad_actividades_cotidianas',\n",
              "       'dolor_malestar_general', 'ansiedad_depresion',\n",
              "       'af_intensa_veces_por_semana', 'biaf02_m',\n",
              "       'af_intensa_min_totales_por_semana_nsnc',\n",
              "       'af_moderada_veces_por_semana', 'af_moderada_min_totales_por_semana',\n",
              "       'actividad_fisica_moderada_min_totales_por_semana_nsnc',\n",
              "       'caminata_veces_por_semana', 'caminata_min_totales_por_semana',\n",
              "       'caminata_min_totales_por_semana_nsnc', 'tiempo_sentado_min_por_dia',\n",
              "       'tiempo_sentado_min_por_dia_nsnc',\n",
              "       'razon_ninguna_actividad_la_ultima_semana',\n",
              "       'razon_poca_actividad_la_ultima_semana', 'af_fue_actividad_domestica',\n",
              "       'af_fue_actividad_laboral', 'af_fue_traslado', 'af_fue_deporte',\n",
              "       'nivel_af', 'barreras_af'],\n",
              "      dtype='object')"
            ]
          },
          "execution_count": 42,
          "metadata": {},
          "output_type": "execute_result"
        }
      ],
      "source": [
        "#salud_y_af.columns"
      ]
    },
    {
      "cell_type": "markdown",
      "metadata": {},
      "source": [
        "## Analisis / trabajo sobre base de datos \"UTIL\""
      ]
    },
    {
      "cell_type": "markdown",
      "metadata": {},
      "source": [
        "En esta seccion:\n",
        "+ A partir de las tablas limpias crearemos el dataset a utilizar\n",
        "+ Realizaremos "
      ]
    }
  ],
  "metadata": {
    "colab": {
      "provenance": []
    },
    "kernelspec": {
      "display_name": "Python 3",
      "name": "python3"
    },
    "language_info": {
      "codemirror_mode": {
        "name": "ipython",
        "version": 3
      },
      "file_extension": ".py",
      "mimetype": "text/x-python",
      "name": "python",
      "nbconvert_exporter": "python",
      "pygments_lexer": "ipython3",
      "version": "3.12.1"
    }
  },
  "nbformat": 4,
  "nbformat_minor": 0
}
