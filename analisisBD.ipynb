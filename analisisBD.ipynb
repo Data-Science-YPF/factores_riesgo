{
  "cells": [
    {
      "cell_type": "markdown",
      "metadata": {},
      "source": [
        "# Factores de riesgo\n",
        "Este proyecto se corresponde al trabajo final del curso de Data Science dictado por la Fundación YPF en el año 2024."
      ]
    },
    {
      "cell_type": "markdown",
      "metadata": {},
      "source": [
        "## Objetivos del proyecto\n",
        "Desarrollar un modelo predictivo para identificar individuos con alto riesgo de desarrollar enfermedades crónicas (como hipertensión, diabetes, colesterol alto) basándose en sus comportamientos y condiciones de vida."
      ]
    },
    {
      "cell_type": "markdown",
      "metadata": {},
      "source": [
        "## Setup de archivos"
      ]
    },
    {
      "cell_type": "markdown",
      "metadata": {},
      "source": [
        "### Imports"
      ]
    },
    {
      "cell_type": "code",
      "execution_count": 8,
      "metadata": {
        "id": "UEHMxNzhQP-1"
      },
      "outputs": [],
      "source": [
        "import pandas as pd\n",
        "import numpy as np\n",
        "import matplotlib.pyplot as plt\n",
        "import sklearn as skl\n",
        "\n",
        "from utils.funcions import (\n",
        "    calcular_nulos_y_porcentaje\n",
        ")"
      ]
    },
    {
      "cell_type": "markdown",
      "metadata": {},
      "source": [
        "### Lectura de datasets"
      ]
    },
    {
      "cell_type": "code",
      "execution_count": null,
      "metadata": {
        "colab": {
          "base_uri": "https://localhost:8080/",
          "height": 329
        },
        "id": "KM_o7UC3Qi6_",
        "outputId": "513de1bd-515b-48d5-bc94-2d5fb885d98f"
      },
      "outputs": [],
      "source": [
        "# Conecto drive\n",
        "from google.colab import drive\n",
        "drive.mount('/content/drive')\n",
        "\n",
        "# Leo el archivo\n",
        "friesgo_2018 = pd.read_csv('/content/drive/MyDrive/INGENIAS/TrabajoP/bd/friesgo2018.txt', delimiter = '|')"
      ]
    },
    {
      "cell_type": "code",
      "execution_count": null,
      "metadata": {},
      "outputs": [],
      "source": [
        "## Leo el archivo localmente\n",
        "friesgo_2018 = pd.read_csv('datasets/friesgo2018.txt', delimiter = '|')"
      ]
    },
    {
      "cell_type": "markdown",
      "metadata": {},
      "source": [
        "## Analizando el dataset"
      ]
    },
    {
      "cell_type": "code",
      "execution_count": 10,
      "metadata": {
        "colab": {
          "base_uri": "https://localhost:8080/"
        },
        "id": "WNaMprnG9AQy",
        "outputId": "688f914a-2d1f-466a-895f-84e3f9d6db29"
      },
      "outputs": [
        {
          "data": {
            "text/plain": [
              "(29224, 287)"
            ]
          },
          "execution_count": 10,
          "metadata": {},
          "output_type": "execute_result"
        }
      ],
      "source": [
        "# Determino filas y columnas\n",
        "friesgo_2018.shape"
      ]
    },
    {
      "cell_type": "code",
      "execution_count": 12,
      "metadata": {
        "id": "4ZG1b1ya9GtN"
      },
      "outputs": [
        {
          "data": {
            "text/html": [
              "<div>\n",
              "<style scoped>\n",
              "    .dataframe tbody tr th:only-of-type {\n",
              "        vertical-align: middle;\n",
              "    }\n",
              "\n",
              "    .dataframe tbody tr th {\n",
              "        vertical-align: top;\n",
              "    }\n",
              "\n",
              "    .dataframe thead th {\n",
              "        text-align: right;\n",
              "    }\n",
              "</style>\n",
              "<table border=\"1\" class=\"dataframe\">\n",
              "  <thead>\n",
              "    <tr style=\"text-align: right;\">\n",
              "      <th></th>\n",
              "      <th>id</th>\n",
              "      <th>cod_provincia</th>\n",
              "      <th>region</th>\n",
              "      <th>tamanio_aglomerado</th>\n",
              "      <th>aglomerado</th>\n",
              "      <th>localidades_150</th>\n",
              "      <th>submuestra</th>\n",
              "      <th>bhcv01</th>\n",
              "      <th>bhcv02</th>\n",
              "      <th>bhcv03</th>\n",
              "      <th>...</th>\n",
              "      <th>glucemia_elevada</th>\n",
              "      <th>prevalencia_glucemia_elevada_combinada</th>\n",
              "      <th>findrisc</th>\n",
              "      <th>bimq06</th>\n",
              "      <th>bimq06_01</th>\n",
              "      <th>colesterol_elevado</th>\n",
              "      <th>prevalencia_colesterol_combinada</th>\n",
              "      <th>wf1p</th>\n",
              "      <th>wf2p</th>\n",
              "      <th>wf3p</th>\n",
              "    </tr>\n",
              "  </thead>\n",
              "  <tbody>\n",
              "    <tr>\n",
              "      <th>0</th>\n",
              "      <td>1128639</td>\n",
              "      <td>2</td>\n",
              "      <td>1</td>\n",
              "      <td>1</td>\n",
              "      <td>1</td>\n",
              "      <td>1</td>\n",
              "      <td>1</td>\n",
              "      <td>3</td>\n",
              "      <td>2</td>\n",
              "      <td>1</td>\n",
              "      <td>...</td>\n",
              "      <td>NaN</td>\n",
              "      <td>NaN</td>\n",
              "      <td>2.0</td>\n",
              "      <td>NaN</td>\n",
              "      <td>NaN</td>\n",
              "      <td>NaN</td>\n",
              "      <td>NaN</td>\n",
              "      <td>2378</td>\n",
              "      <td>4464</td>\n",
              "      <td>0</td>\n",
              "    </tr>\n",
              "    <tr>\n",
              "      <th>1</th>\n",
              "      <td>1709939</td>\n",
              "      <td>2</td>\n",
              "      <td>1</td>\n",
              "      <td>1</td>\n",
              "      <td>1</td>\n",
              "      <td>1</td>\n",
              "      <td>0</td>\n",
              "      <td>1</td>\n",
              "      <td>4</td>\n",
              "      <td>1</td>\n",
              "      <td>...</td>\n",
              "      <td>NaN</td>\n",
              "      <td>NaN</td>\n",
              "      <td>NaN</td>\n",
              "      <td>NaN</td>\n",
              "      <td>NaN</td>\n",
              "      <td>NaN</td>\n",
              "      <td>NaN</td>\n",
              "      <td>3588</td>\n",
              "      <td>0</td>\n",
              "      <td>0</td>\n",
              "    </tr>\n",
              "    <tr>\n",
              "      <th>2</th>\n",
              "      <td>6874130</td>\n",
              "      <td>2</td>\n",
              "      <td>1</td>\n",
              "      <td>1</td>\n",
              "      <td>1</td>\n",
              "      <td>1</td>\n",
              "      <td>0</td>\n",
              "      <td>3</td>\n",
              "      <td>2</td>\n",
              "      <td>1</td>\n",
              "      <td>...</td>\n",
              "      <td>NaN</td>\n",
              "      <td>NaN</td>\n",
              "      <td>NaN</td>\n",
              "      <td>NaN</td>\n",
              "      <td>NaN</td>\n",
              "      <td>NaN</td>\n",
              "      <td>NaN</td>\n",
              "      <td>2740</td>\n",
              "      <td>0</td>\n",
              "      <td>0</td>\n",
              "    </tr>\n",
              "    <tr>\n",
              "      <th>3</th>\n",
              "      <td>10319375</td>\n",
              "      <td>2</td>\n",
              "      <td>1</td>\n",
              "      <td>1</td>\n",
              "      <td>1</td>\n",
              "      <td>1</td>\n",
              "      <td>1</td>\n",
              "      <td>3</td>\n",
              "      <td>1</td>\n",
              "      <td>1</td>\n",
              "      <td>...</td>\n",
              "      <td>NaN</td>\n",
              "      <td>NaN</td>\n",
              "      <td>NaN</td>\n",
              "      <td>NaN</td>\n",
              "      <td>NaN</td>\n",
              "      <td>NaN</td>\n",
              "      <td>NaN</td>\n",
              "      <td>493</td>\n",
              "      <td>0</td>\n",
              "      <td>0</td>\n",
              "    </tr>\n",
              "    <tr>\n",
              "      <th>4</th>\n",
              "      <td>11140857</td>\n",
              "      <td>2</td>\n",
              "      <td>1</td>\n",
              "      <td>1</td>\n",
              "      <td>1</td>\n",
              "      <td>1</td>\n",
              "      <td>0</td>\n",
              "      <td>3</td>\n",
              "      <td>3</td>\n",
              "      <td>1</td>\n",
              "      <td>...</td>\n",
              "      <td>NaN</td>\n",
              "      <td>NaN</td>\n",
              "      <td>NaN</td>\n",
              "      <td>NaN</td>\n",
              "      <td>NaN</td>\n",
              "      <td>NaN</td>\n",
              "      <td>NaN</td>\n",
              "      <td>2016</td>\n",
              "      <td>0</td>\n",
              "      <td>0</td>\n",
              "    </tr>\n",
              "  </tbody>\n",
              "</table>\n",
              "<p>5 rows × 287 columns</p>\n",
              "</div>"
            ],
            "text/plain": [
              "         id  cod_provincia  region  tamanio_aglomerado  aglomerado  \\\n",
              "0   1128639              2       1                   1           1   \n",
              "1   1709939              2       1                   1           1   \n",
              "2   6874130              2       1                   1           1   \n",
              "3  10319375              2       1                   1           1   \n",
              "4  11140857              2       1                   1           1   \n",
              "\n",
              "   localidades_150  submuestra  bhcv01  bhcv02  bhcv03  ...  glucemia_elevada  \\\n",
              "0                1           1       3       2       1  ...               NaN   \n",
              "1                1           0       1       4       1  ...               NaN   \n",
              "2                1           0       3       2       1  ...               NaN   \n",
              "3                1           1       3       1       1  ...               NaN   \n",
              "4                1           0       3       3       1  ...               NaN   \n",
              "\n",
              "   prevalencia_glucemia_elevada_combinada  findrisc  bimq06  bimq06_01  \\\n",
              "0                                     NaN       2.0     NaN        NaN   \n",
              "1                                     NaN       NaN     NaN        NaN   \n",
              "2                                     NaN       NaN     NaN        NaN   \n",
              "3                                     NaN       NaN     NaN        NaN   \n",
              "4                                     NaN       NaN     NaN        NaN   \n",
              "\n",
              "   colesterol_elevado  prevalencia_colesterol_combinada  wf1p  wf2p  wf3p  \n",
              "0                 NaN                               NaN  2378  4464     0  \n",
              "1                 NaN                               NaN  3588     0     0  \n",
              "2                 NaN                               NaN  2740     0     0  \n",
              "3                 NaN                               NaN   493     0     0  \n",
              "4                 NaN                               NaN  2016     0     0  \n",
              "\n",
              "[5 rows x 287 columns]"
            ]
          },
          "execution_count": 12,
          "metadata": {},
          "output_type": "execute_result"
        }
      ],
      "source": [
        "# Obtengo las 5 primeras filas del dataset\n",
        "friesgo_2018.head()"
      ]
    },
    {
      "cell_type": "markdown",
      "metadata": {
        "id": "ZO9DswVDhrE3"
      },
      "source": [
        "##  Evaluacion de columnas del dataset\n",
        "\n",
        "Vamos a agrupar las columnas por temática, manteniendo ciertas columnas que permiten la identificacion del registro (como el id) y aquellas necesarias para realizar analisis, tales como variables demograficas.\n",
        "Por cada temática:\n",
        "\n",
        "*   Visualizo las primeras filas\n",
        "*   Renombro columnas y evaluo los nulos\n",
        "*   Calculo de porcentaje de faltantes por columna"
      ]
    },
    {
      "cell_type": "markdown",
      "metadata": {},
      "source": [
        "### Tabaquismo\n",
        "Agregar detalle de columnas implicadas en este dataset."
      ]
    },
    {
      "cell_type": "code",
      "execution_count": null,
      "metadata": {
        "id": "EpMGJrqNf_B2"
      },
      "outputs": [],
      "source": [
        "ubicacion_id = friesgo_2018.iloc[:,0:7]\n",
        "#ubicacion_id.head(20)\n",
        "calcular_nulos_y_porcentaje(ubicacion_id)"
      ]
    },
    {
      "cell_type": "code",
      "execution_count": null,
      "metadata": {
        "id": "rTauus0Pgzne"
      },
      "outputs": [],
      "source": [
        "#caracteristicas del encuestado, sexo, nivel de instruccion rango etario, etc.\n",
        "caracteristicas_encuestado = friesgo_2018.iloc[:,51:65]\n",
        "#caracteristicas_encuestado.head(20)\n",
        "calcular_nulos_y_porcentaje(caracteristicas_encuestado)"
      ]
    },
    {
      "cell_type": "code",
      "execution_count": null,
      "metadata": {
        "id": "feLGvucYAi_P"
      },
      "outputs": [],
      "source": [
        "saludgeneral_actfisica  = friesgo_2018.iloc[:,73:97]\n",
        "#saludgeneral_actfisica.head(20)\n",
        "calcular_nulos_y_porcentaje(saludgeneral_actfisica)"
      ]
    },
    {
      "cell_type": "code",
      "execution_count": null,
      "metadata": {
        "id": "d3Iu10gRcqMm"
      },
      "outputs": [],
      "source": [
        "tabaquismo = friesgo_2018.iloc[:,98:139]\n",
        "#tabaquismo.head(20)\n",
        "calcular_nulos_y_porcentaje(tabaquismo)"
      ]
    },
    {
      "cell_type": "code",
      "execution_count": null,
      "metadata": {
        "id": "wthHNu3bdPAF"
      },
      "outputs": [],
      "source": [
        "hipertension = friesgo_2018.iloc[:,140:159]\n",
        "#hipertension.head(20)\n",
        "calcular_nulos_y_porcentaje(hipertension)"
      ]
    },
    {
      "cell_type": "code",
      "execution_count": null,
      "metadata": {
        "id": "Ehhf9M5PdvrI"
      },
      "outputs": [],
      "source": [
        "pesocorporal = friesgo_2018.iloc[:,160:168]\n",
        "#pesocorporal.head(20)\n",
        "calcular_nulos_y_porcentaje(pesocorporal)"
      ]
    },
    {
      "cell_type": "code",
      "execution_count": null,
      "metadata": {
        "id": "H1RAXy1beDG1"
      },
      "outputs": [],
      "source": [
        "alimentacion = friesgo_2018.iloc[:,169:186]\n",
        "#alimentacion.head(20)\n",
        "calcular_nulos_y_porcentaje(alimentacion)"
      ]
    },
    {
      "cell_type": "code",
      "execution_count": null,
      "metadata": {
        "id": "Z7qgkUhxeXw9"
      },
      "outputs": [],
      "source": [
        "colesterol = friesgo_2018.iloc[:,187:194]\n",
        "#colesterol.head(20)\n",
        "calcular_nulos_y_porcentaje(colesterol)"
      ]
    },
    {
      "cell_type": "code",
      "execution_count": null,
      "metadata": {
        "id": "7UVUIr6QelPQ"
      },
      "outputs": [],
      "source": [
        "consumo_alcohol = friesgo_2018.iloc[:,195:217]\n",
        "#consumo_alcohol.head(20)\n",
        "calcular_nulos_y_porcentaje(consumo_alcohol)"
      ]
    },
    {
      "cell_type": "code",
      "execution_count": null,
      "metadata": {
        "id": "ykEfxcMfezup"
      },
      "outputs": [],
      "source": [
        "diabetes = friesgo_2018.iloc[:,218:236]\n",
        "#diabetes.head(20)\n",
        "calcular_nulos_y_porcentaje(diabetes)"
      ]
    },
    {
      "cell_type": "code",
      "execution_count": null,
      "metadata": {
        "id": "d010bFJsfVN2"
      },
      "outputs": [],
      "source": [
        "mediciones_antropometricas = friesgo_2018.iloc[:,252:273]\n",
        "#mediciones_antropometricas.head(20)\n",
        "calcular_nulos_y_porcentaje(mediciones_antropometricas)"
      ]
    },
    {
      "cell_type": "code",
      "execution_count": null,
      "metadata": {
        "id": "T5BIYpEWflcG"
      },
      "outputs": [],
      "source": [
        "mediciones_bioquimicas = friesgo_2018.iloc[:,274:283]\n",
        "#mediciones_bioquimicas.head(20)\n",
        "calcular_nulos_y_porcentaje(mediciones_bioquimicas)"
      ]
    },
    {
      "cell_type": "code",
      "execution_count": null,
      "metadata": {
        "colab": {
          "base_uri": "https://localhost:8080/"
        },
        "id": "jzQ7pUbqbWYv",
        "outputId": "41b3de1c-e868-48df-e342-a73b6680df56"
      },
      "outputs": [
        {
          "data": {
            "text/plain": [
              "65"
            ]
          },
          "execution_count": 34,
          "metadata": {},
          "output_type": "execute_result"
        }
      ],
      "source": [
        "#busco el indice de una columna\n",
        "friesgo_2018.columns.get_loc('cobertura_salud')\n"
      ]
    },
    {
      "cell_type": "code",
      "execution_count": null,
      "metadata": {
        "colab": {
          "base_uri": "https://localhost:8080/"
        },
        "id": "-z3akF7FqKpB",
        "outputId": "4359029d-d345-4e2f-f7cf-84931b31d927"
      },
      "outputs": [
        {
          "name": "stdout",
          "output_type": "stream",
          "text": [
            "(29224, 7)\n",
            "(29224, 14)\n",
            "(29224, 24)\n",
            "(29224, 41)\n",
            "(29224, 19)\n",
            "(29224, 8)\n",
            "(29224, 17)\n",
            "(29224, 7)\n",
            "(29224, 22)\n",
            "(29224, 18)\n",
            "(29224, 21)\n",
            "(29224, 9)\n"
          ]
        }
      ],
      "source": [
        "#cuento cuantas columnas tiene cada tabla a lo vago\n",
        "cuenta1 = ubicacion_id.shape\n",
        "cuenta2 = caracteristicas_encuestado.shape\n",
        "cuenta3 = saludgeneral_actfisica.shape\n",
        "cuenta4 = tabaquismo.shape\n",
        "cuenta5 = hipertension.shape\n",
        "cuenta6 = pesocorporal.shape\n",
        "cuenta7 = alimentacion.shape\n",
        "cuenta8 = colesterol.shape\n",
        "cuenta9 = consumo_alcohol.shape\n",
        "cuenta10 = diabetes.shape\n",
        "cuenta11 = mediciones_antropometricas.shape\n",
        "cuenta12 = mediciones_bioquimicas.shape\n",
        "print(cuenta1)\n",
        "print(cuenta2)\n",
        "print(cuenta3)\n",
        "print(cuenta4)\n",
        "print(cuenta5)\n",
        "print(cuenta6)\n",
        "print(cuenta7)\n",
        "print(cuenta8)\n",
        "print(cuenta9)\n",
        "print(cuenta10)\n",
        "print(cuenta11)\n",
        "print(cuenta12)"
      ]
    }
  ],
  "metadata": {
    "colab": {
      "provenance": []
    },
    "kernelspec": {
      "display_name": "Python 3",
      "name": "python3"
    },
    "language_info": {
      "codemirror_mode": {
        "name": "ipython",
        "version": 3
      },
      "file_extension": ".py",
      "mimetype": "text/x-python",
      "name": "python",
      "nbconvert_exporter": "python",
      "pygments_lexer": "ipython3",
      "version": "3.11.7"
    }
  },
  "nbformat": 4,
  "nbformat_minor": 0
}
