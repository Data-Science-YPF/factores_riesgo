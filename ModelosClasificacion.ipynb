{
  "cells": [
    {
      "cell_type": "markdown",
      "metadata": {
        "id": "77G1NaOEdij4"
      },
      "source": [
        "# Programa Ingenias+ Data Science"
      ]
    },
    {
      "cell_type": "markdown",
      "metadata": {},
      "source": [
        "## Objetivo del proyecto\n",
        "\n",
        "Predecir si una persona tendra un IMC anormal o no, en base a sus habitos y/o condiciones socioeconomicas"
      ]
    },
    {
      "cell_type": "markdown",
      "metadata": {
        "id": "eE-jSERRQzjI"
      },
      "source": [
        "## Objetivo del notebook\n",
        "\n",
        "Este notebook tiene como objetivo probar diferentes algoritmos de clasificacion para determinar cual puede brindarnos mejores parametros\n"
      ]
    },
    {
      "cell_type": "markdown",
      "metadata": {
        "id": "xismw4RAdrgW"
      },
      "source": [
        "## Importacion archivos y librerias"
      ]
    },
    {
      "cell_type": "code",
      "execution_count": 1,
      "metadata": {
        "id": "qB6woNjyeb2O"
      },
      "outputs": [],
      "source": [
        "# imports de librerias y funciones\n",
        "import pandas as pd\n",
        "import numpy as np\n",
        "import matplotlib.pyplot as plt\n",
        "import seaborn as sns\n",
        "\n",
        "from sklearn.preprocessing import LabelEncoder,  OneHotEncoder\n",
        "from sklearn.model_selection import train_test_split, GridSearchCV\n",
        "from sklearn.ensemble import RandomForestClassifier\n",
        "from sklearn.metrics import classification_report\n",
        "from sklearn.pipeline import Pipeline\n",
        "\n",
        "from utils.codificaciones import *\n",
        "from utils.funcions import *"
      ]
    },
    {
      "cell_type": "code",
      "execution_count": 2,
      "metadata": {
        "id": "QfLBXRR5eure"
      },
      "outputs": [],
      "source": [
        "# importo mi csv\n",
        "friesgo = pd.read_csv('datasets/friesgo.csv')"
      ]
    },
    {
      "cell_type": "markdown",
      "metadata": {
        "id": "lVT2jhLdRWrN"
      },
      "source": [
        "# Preprocesado"
      ]
    },
    {
      "cell_type": "markdown",
      "metadata": {
        "id": "ZUQ4mty3RbyG"
      },
      "source": [
        "Codificando las variables categoricas y eliminando los nan"
      ]
    },
    {
      "cell_type": "code",
      "execution_count": 3,
      "metadata": {},
      "outputs": [
        {
          "data": {
            "text/plain": [
              "array([ 2.,  1., nan])"
            ]
          },
          "execution_count": 3,
          "metadata": {},
          "output_type": "execute_result"
        }
      ],
      "source": [
        "# Aqui eliminaremos los registro que tengan nulos en la variable objetivo, comenzando por reemplazar lo valores 99 : ns/nc\n",
        "friesgo['mantiene_ha_alta'] = friesgo['mantiene_ha_alta'].replace(99, np.nan)\n",
        "friesgo.mantiene_ha_alta.unique()"
      ]
    },
    {
      "cell_type": "code",
      "execution_count": 4,
      "metadata": {
        "id": "T72QvWGoSl2m"
      },
      "outputs": [],
      "source": [
        "# Primero busco cuales columnas efectivamente son categoricas y cuales numericas\n",
        "variables_categoricas = ['cod_provincia','tamanio_aglomerado','sexo','condicion_actividad','ansiedad_depresion'\n",
        "                           ,'nivel_actividad_fisica','condicion_fumador','consumo_sal'\n",
        "                           ,'colesterol_elevado','freq_cons_alc','es_diabetico','mantiene_ha_alta']\n",
        "variables_numericas = ['edad','media_fv_diaria','imc_numerico']"
      ]
    },
    {
      "cell_type": "code",
      "execution_count": 7,
      "metadata": {},
      "outputs": [],
      "source": [
        "# Creo una bd codificada a pesar de que ya esten codificados (para probar si algo cambia)\n",
        "friesgo_cod = friesgo.copy()"
      ]
    },
    {
      "cell_type": "code",
      "execution_count": 8,
      "metadata": {},
      "outputs": [
        {
          "data": {
            "text/html": [
              "<div>\n",
              "<style scoped>\n",
              "    .dataframe tbody tr th:only-of-type {\n",
              "        vertical-align: middle;\n",
              "    }\n",
              "\n",
              "    .dataframe tbody tr th {\n",
              "        vertical-align: top;\n",
              "    }\n",
              "\n",
              "    .dataframe thead th {\n",
              "        text-align: right;\n",
              "    }\n",
              "</style>\n",
              "<table border=\"1\" class=\"dataframe\">\n",
              "  <thead>\n",
              "    <tr style=\"text-align: right;\">\n",
              "      <th></th>\n",
              "      <th>Nulos</th>\n",
              "      <th>Porcentaje</th>\n",
              "    </tr>\n",
              "  </thead>\n",
              "  <tbody>\n",
              "    <tr>\n",
              "      <th>id</th>\n",
              "      <td>0</td>\n",
              "      <td>0.0%</td>\n",
              "    </tr>\n",
              "    <tr>\n",
              "      <th>cod_provincia</th>\n",
              "      <td>0</td>\n",
              "      <td>0.0%</td>\n",
              "    </tr>\n",
              "    <tr>\n",
              "      <th>tamanio_aglomerado</th>\n",
              "      <td>0</td>\n",
              "      <td>0.0%</td>\n",
              "    </tr>\n",
              "    <tr>\n",
              "      <th>sexo</th>\n",
              "      <td>0</td>\n",
              "      <td>0.0%</td>\n",
              "    </tr>\n",
              "    <tr>\n",
              "      <th>edad</th>\n",
              "      <td>0</td>\n",
              "      <td>0.0%</td>\n",
              "    </tr>\n",
              "    <tr>\n",
              "      <th>condicion_actividad</th>\n",
              "      <td>0</td>\n",
              "      <td>0.0%</td>\n",
              "    </tr>\n",
              "    <tr>\n",
              "      <th>ansiedad_depresion</th>\n",
              "      <td>0</td>\n",
              "      <td>0.0%</td>\n",
              "    </tr>\n",
              "    <tr>\n",
              "      <th>nivel_actividad_fisica</th>\n",
              "      <td>254</td>\n",
              "      <td>0.87%</td>\n",
              "    </tr>\n",
              "    <tr>\n",
              "      <th>condicion_fumador</th>\n",
              "      <td>0</td>\n",
              "      <td>0.0%</td>\n",
              "    </tr>\n",
              "    <tr>\n",
              "      <th>mantiene_ha_alta</th>\n",
              "      <td>2235</td>\n",
              "      <td>7.65%</td>\n",
              "    </tr>\n",
              "    <tr>\n",
              "      <th>consumo_sal</th>\n",
              "      <td>0</td>\n",
              "      <td>0.0%</td>\n",
              "    </tr>\n",
              "    <tr>\n",
              "      <th>media_fv_diaria</th>\n",
              "      <td>753</td>\n",
              "      <td>2.58%</td>\n",
              "    </tr>\n",
              "    <tr>\n",
              "      <th>colesterol_elevado</th>\n",
              "      <td>24313</td>\n",
              "      <td>83.2%</td>\n",
              "    </tr>\n",
              "    <tr>\n",
              "      <th>freq_cons_alc</th>\n",
              "      <td>0</td>\n",
              "      <td>0.0%</td>\n",
              "    </tr>\n",
              "    <tr>\n",
              "      <th>es_diabetico</th>\n",
              "      <td>0</td>\n",
              "      <td>0.0%</td>\n",
              "    </tr>\n",
              "    <tr>\n",
              "      <th>imc_numerico</th>\n",
              "      <td>705</td>\n",
              "      <td>2.41%</td>\n",
              "    </tr>\n",
              "  </tbody>\n",
              "</table>\n",
              "</div>"
            ],
            "text/plain": [
              "                        Nulos Porcentaje\n",
              "id                          0       0.0%\n",
              "cod_provincia               0       0.0%\n",
              "tamanio_aglomerado          0       0.0%\n",
              "sexo                        0       0.0%\n",
              "edad                        0       0.0%\n",
              "condicion_actividad         0       0.0%\n",
              "ansiedad_depresion          0       0.0%\n",
              "nivel_actividad_fisica    254      0.87%\n",
              "condicion_fumador           0       0.0%\n",
              "mantiene_ha_alta         2235      7.65%\n",
              "consumo_sal                 0       0.0%\n",
              "media_fv_diaria           753      2.58%\n",
              "colesterol_elevado      24313      83.2%\n",
              "freq_cons_alc               0       0.0%\n",
              "es_diabetico                0       0.0%\n",
              "imc_numerico              705      2.41%"
            ]
          },
          "execution_count": 8,
          "metadata": {},
          "output_type": "execute_result"
        }
      ],
      "source": [
        "calcular_nulos_y_porcentaje(friesgo_cod)"
      ]
    },
    {
      "cell_type": "code",
      "execution_count": 9,
      "metadata": {},
      "outputs": [],
      "source": [
        "friesgo_cod = friesgo_cod.dropna()"
      ]
    },
    {
      "cell_type": "code",
      "execution_count": 10,
      "metadata": {},
      "outputs": [
        {
          "data": {
            "text/html": [
              "<div>\n",
              "<style scoped>\n",
              "    .dataframe tbody tr th:only-of-type {\n",
              "        vertical-align: middle;\n",
              "    }\n",
              "\n",
              "    .dataframe tbody tr th {\n",
              "        vertical-align: top;\n",
              "    }\n",
              "\n",
              "    .dataframe thead th {\n",
              "        text-align: right;\n",
              "    }\n",
              "</style>\n",
              "<table border=\"1\" class=\"dataframe\">\n",
              "  <thead>\n",
              "    <tr style=\"text-align: right;\">\n",
              "      <th></th>\n",
              "      <th>Nulos</th>\n",
              "      <th>Porcentaje</th>\n",
              "    </tr>\n",
              "  </thead>\n",
              "  <tbody>\n",
              "    <tr>\n",
              "      <th>id</th>\n",
              "      <td>0</td>\n",
              "      <td>0.0%</td>\n",
              "    </tr>\n",
              "    <tr>\n",
              "      <th>cod_provincia</th>\n",
              "      <td>0</td>\n",
              "      <td>0.0%</td>\n",
              "    </tr>\n",
              "    <tr>\n",
              "      <th>tamanio_aglomerado</th>\n",
              "      <td>0</td>\n",
              "      <td>0.0%</td>\n",
              "    </tr>\n",
              "    <tr>\n",
              "      <th>sexo</th>\n",
              "      <td>0</td>\n",
              "      <td>0.0%</td>\n",
              "    </tr>\n",
              "    <tr>\n",
              "      <th>edad</th>\n",
              "      <td>0</td>\n",
              "      <td>0.0%</td>\n",
              "    </tr>\n",
              "    <tr>\n",
              "      <th>condicion_actividad</th>\n",
              "      <td>0</td>\n",
              "      <td>0.0%</td>\n",
              "    </tr>\n",
              "    <tr>\n",
              "      <th>ansiedad_depresion</th>\n",
              "      <td>0</td>\n",
              "      <td>0.0%</td>\n",
              "    </tr>\n",
              "    <tr>\n",
              "      <th>nivel_actividad_fisica</th>\n",
              "      <td>0</td>\n",
              "      <td>0.0%</td>\n",
              "    </tr>\n",
              "    <tr>\n",
              "      <th>condicion_fumador</th>\n",
              "      <td>0</td>\n",
              "      <td>0.0%</td>\n",
              "    </tr>\n",
              "    <tr>\n",
              "      <th>mantiene_ha_alta</th>\n",
              "      <td>0</td>\n",
              "      <td>0.0%</td>\n",
              "    </tr>\n",
              "    <tr>\n",
              "      <th>consumo_sal</th>\n",
              "      <td>0</td>\n",
              "      <td>0.0%</td>\n",
              "    </tr>\n",
              "    <tr>\n",
              "      <th>media_fv_diaria</th>\n",
              "      <td>0</td>\n",
              "      <td>0.0%</td>\n",
              "    </tr>\n",
              "    <tr>\n",
              "      <th>colesterol_elevado</th>\n",
              "      <td>0</td>\n",
              "      <td>0.0%</td>\n",
              "    </tr>\n",
              "    <tr>\n",
              "      <th>freq_cons_alc</th>\n",
              "      <td>0</td>\n",
              "      <td>0.0%</td>\n",
              "    </tr>\n",
              "    <tr>\n",
              "      <th>es_diabetico</th>\n",
              "      <td>0</td>\n",
              "      <td>0.0%</td>\n",
              "    </tr>\n",
              "    <tr>\n",
              "      <th>imc_numerico</th>\n",
              "      <td>0</td>\n",
              "      <td>0.0%</td>\n",
              "    </tr>\n",
              "  </tbody>\n",
              "</table>\n",
              "</div>"
            ],
            "text/plain": [
              "                        Nulos Porcentaje\n",
              "id                          0       0.0%\n",
              "cod_provincia               0       0.0%\n",
              "tamanio_aglomerado          0       0.0%\n",
              "sexo                        0       0.0%\n",
              "edad                        0       0.0%\n",
              "condicion_actividad         0       0.0%\n",
              "ansiedad_depresion          0       0.0%\n",
              "nivel_actividad_fisica      0       0.0%\n",
              "condicion_fumador           0       0.0%\n",
              "mantiene_ha_alta            0       0.0%\n",
              "consumo_sal                 0       0.0%\n",
              "media_fv_diaria             0       0.0%\n",
              "colesterol_elevado          0       0.0%\n",
              "freq_cons_alc               0       0.0%\n",
              "es_diabetico                0       0.0%\n",
              "imc_numerico                0       0.0%"
            ]
          },
          "execution_count": 10,
          "metadata": {},
          "output_type": "execute_result"
        }
      ],
      "source": [
        "calcular_nulos_y_porcentaje(friesgo_cod)"
      ]
    },
    {
      "cell_type": "code",
      "execution_count": 11,
      "metadata": {},
      "outputs": [
        {
          "data": {
            "text/plain": [
              "(4461, 16)"
            ]
          },
          "execution_count": 11,
          "metadata": {},
          "output_type": "execute_result"
        }
      ],
      "source": [
        "friesgo_cod.shape"
      ]
    },
    {
      "cell_type": "code",
      "execution_count": 63,
      "metadata": {
        "id": "nrPHYlMgRaDd"
      },
      "outputs": [],
      "source": [
        "# Codifico las columnas\n",
        "le = LabelEncoder()\n",
        "for columnas in variables_categoricas:\n",
        "    friesgo_cod[columnas] = le.fit_transform(friesgo_cod[columnas])"
      ]
    },
    {
      "cell_type": "code",
      "execution_count": 64,
      "metadata": {},
      "outputs": [
        {
          "data": {
            "text/plain": [
              "array([1, 0, 2], dtype=int64)"
            ]
          },
          "execution_count": 64,
          "metadata": {},
          "output_type": "execute_result"
        }
      ],
      "source": [
        "friesgo_cod.mantiene_ha_alta.unique()"
      ]
    },
    {
      "cell_type": "code",
      "execution_count": 51,
      "metadata": {},
      "outputs": [
        {
          "data": {
            "text/plain": [
              "array([False, True, nan], dtype=object)"
            ]
          },
          "execution_count": 51,
          "metadata": {},
          "output_type": "execute_result"
        }
      ],
      "source": [
        "friesgo_cod.mantiene_ha_alta.unique()"
      ]
    },
    {
      "cell_type": "code",
      "execution_count": 52,
      "metadata": {},
      "outputs": [
        {
          "data": {
            "text/html": [
              "<div>\n",
              "<style scoped>\n",
              "    .dataframe tbody tr th:only-of-type {\n",
              "        vertical-align: middle;\n",
              "    }\n",
              "\n",
              "    .dataframe tbody tr th {\n",
              "        vertical-align: top;\n",
              "    }\n",
              "\n",
              "    .dataframe thead th {\n",
              "        text-align: right;\n",
              "    }\n",
              "</style>\n",
              "<table border=\"1\" class=\"dataframe\">\n",
              "  <thead>\n",
              "    <tr style=\"text-align: right;\">\n",
              "      <th></th>\n",
              "      <th>Nulos</th>\n",
              "      <th>Porcentaje</th>\n",
              "    </tr>\n",
              "  </thead>\n",
              "  <tbody>\n",
              "    <tr>\n",
              "      <th>id</th>\n",
              "      <td>0</td>\n",
              "      <td>0.0%</td>\n",
              "    </tr>\n",
              "    <tr>\n",
              "      <th>cod_provincia</th>\n",
              "      <td>0</td>\n",
              "      <td>0.0%</td>\n",
              "    </tr>\n",
              "    <tr>\n",
              "      <th>tamanio_aglomerado</th>\n",
              "      <td>0</td>\n",
              "      <td>0.0%</td>\n",
              "    </tr>\n",
              "    <tr>\n",
              "      <th>sexo</th>\n",
              "      <td>0</td>\n",
              "      <td>0.0%</td>\n",
              "    </tr>\n",
              "    <tr>\n",
              "      <th>edad</th>\n",
              "      <td>0</td>\n",
              "      <td>0.0%</td>\n",
              "    </tr>\n",
              "    <tr>\n",
              "      <th>condicion_actividad</th>\n",
              "      <td>0</td>\n",
              "      <td>0.0%</td>\n",
              "    </tr>\n",
              "    <tr>\n",
              "      <th>ansiedad_depresion</th>\n",
              "      <td>0</td>\n",
              "      <td>0.0%</td>\n",
              "    </tr>\n",
              "    <tr>\n",
              "      <th>nivel_actividad_fisica</th>\n",
              "      <td>0</td>\n",
              "      <td>0.0%</td>\n",
              "    </tr>\n",
              "    <tr>\n",
              "      <th>condicion_fumador</th>\n",
              "      <td>0</td>\n",
              "      <td>0.0%</td>\n",
              "    </tr>\n",
              "    <tr>\n",
              "      <th>mantiene_ha_alta</th>\n",
              "      <td>2235</td>\n",
              "      <td>7.65%</td>\n",
              "    </tr>\n",
              "    <tr>\n",
              "      <th>consumo_sal</th>\n",
              "      <td>0</td>\n",
              "      <td>0.0%</td>\n",
              "    </tr>\n",
              "    <tr>\n",
              "      <th>media_fv_diaria</th>\n",
              "      <td>753</td>\n",
              "      <td>2.58%</td>\n",
              "    </tr>\n",
              "    <tr>\n",
              "      <th>colesterol_elevado</th>\n",
              "      <td>0</td>\n",
              "      <td>0.0%</td>\n",
              "    </tr>\n",
              "    <tr>\n",
              "      <th>freq_cons_alc</th>\n",
              "      <td>0</td>\n",
              "      <td>0.0%</td>\n",
              "    </tr>\n",
              "    <tr>\n",
              "      <th>es_diabetico</th>\n",
              "      <td>0</td>\n",
              "      <td>0.0%</td>\n",
              "    </tr>\n",
              "    <tr>\n",
              "      <th>imc_numerico</th>\n",
              "      <td>705</td>\n",
              "      <td>2.41%</td>\n",
              "    </tr>\n",
              "  </tbody>\n",
              "</table>\n",
              "</div>"
            ],
            "text/plain": [
              "                        Nulos Porcentaje\n",
              "id                          0       0.0%\n",
              "cod_provincia               0       0.0%\n",
              "tamanio_aglomerado          0       0.0%\n",
              "sexo                        0       0.0%\n",
              "edad                        0       0.0%\n",
              "condicion_actividad         0       0.0%\n",
              "ansiedad_depresion          0       0.0%\n",
              "nivel_actividad_fisica      0       0.0%\n",
              "condicion_fumador           0       0.0%\n",
              "mantiene_ha_alta         2235      7.65%\n",
              "consumo_sal                 0       0.0%\n",
              "media_fv_diaria           753      2.58%\n",
              "colesterol_elevado          0       0.0%\n",
              "freq_cons_alc               0       0.0%\n",
              "es_diabetico                0       0.0%\n",
              "imc_numerico              705      2.41%"
            ]
          },
          "execution_count": 52,
          "metadata": {},
          "output_type": "execute_result"
        }
      ],
      "source": [
        "calcular_nulos_y_porcentaje(friesgo_cod)"
      ]
    },
    {
      "cell_type": "code",
      "execution_count": 53,
      "metadata": {},
      "outputs": [],
      "source": [
        "friesgo_cod = friesgo_cod.dropna()"
      ]
    },
    {
      "cell_type": "code",
      "execution_count": 54,
      "metadata": {},
      "outputs": [
        {
          "data": {
            "text/html": [
              "<div>\n",
              "<style scoped>\n",
              "    .dataframe tbody tr th:only-of-type {\n",
              "        vertical-align: middle;\n",
              "    }\n",
              "\n",
              "    .dataframe tbody tr th {\n",
              "        vertical-align: top;\n",
              "    }\n",
              "\n",
              "    .dataframe thead th {\n",
              "        text-align: right;\n",
              "    }\n",
              "</style>\n",
              "<table border=\"1\" class=\"dataframe\">\n",
              "  <thead>\n",
              "    <tr style=\"text-align: right;\">\n",
              "      <th></th>\n",
              "      <th>Nulos</th>\n",
              "      <th>Porcentaje</th>\n",
              "    </tr>\n",
              "  </thead>\n",
              "  <tbody>\n",
              "    <tr>\n",
              "      <th>id</th>\n",
              "      <td>0</td>\n",
              "      <td>0.0%</td>\n",
              "    </tr>\n",
              "    <tr>\n",
              "      <th>cod_provincia</th>\n",
              "      <td>0</td>\n",
              "      <td>0.0%</td>\n",
              "    </tr>\n",
              "    <tr>\n",
              "      <th>tamanio_aglomerado</th>\n",
              "      <td>0</td>\n",
              "      <td>0.0%</td>\n",
              "    </tr>\n",
              "    <tr>\n",
              "      <th>sexo</th>\n",
              "      <td>0</td>\n",
              "      <td>0.0%</td>\n",
              "    </tr>\n",
              "    <tr>\n",
              "      <th>edad</th>\n",
              "      <td>0</td>\n",
              "      <td>0.0%</td>\n",
              "    </tr>\n",
              "    <tr>\n",
              "      <th>condicion_actividad</th>\n",
              "      <td>0</td>\n",
              "      <td>0.0%</td>\n",
              "    </tr>\n",
              "    <tr>\n",
              "      <th>ansiedad_depresion</th>\n",
              "      <td>0</td>\n",
              "      <td>0.0%</td>\n",
              "    </tr>\n",
              "    <tr>\n",
              "      <th>nivel_actividad_fisica</th>\n",
              "      <td>0</td>\n",
              "      <td>0.0%</td>\n",
              "    </tr>\n",
              "    <tr>\n",
              "      <th>condicion_fumador</th>\n",
              "      <td>0</td>\n",
              "      <td>0.0%</td>\n",
              "    </tr>\n",
              "    <tr>\n",
              "      <th>mantiene_ha_alta</th>\n",
              "      <td>0</td>\n",
              "      <td>0.0%</td>\n",
              "    </tr>\n",
              "    <tr>\n",
              "      <th>consumo_sal</th>\n",
              "      <td>0</td>\n",
              "      <td>0.0%</td>\n",
              "    </tr>\n",
              "    <tr>\n",
              "      <th>media_fv_diaria</th>\n",
              "      <td>0</td>\n",
              "      <td>0.0%</td>\n",
              "    </tr>\n",
              "    <tr>\n",
              "      <th>colesterol_elevado</th>\n",
              "      <td>0</td>\n",
              "      <td>0.0%</td>\n",
              "    </tr>\n",
              "    <tr>\n",
              "      <th>freq_cons_alc</th>\n",
              "      <td>0</td>\n",
              "      <td>0.0%</td>\n",
              "    </tr>\n",
              "    <tr>\n",
              "      <th>es_diabetico</th>\n",
              "      <td>0</td>\n",
              "      <td>0.0%</td>\n",
              "    </tr>\n",
              "    <tr>\n",
              "      <th>imc_numerico</th>\n",
              "      <td>0</td>\n",
              "      <td>0.0%</td>\n",
              "    </tr>\n",
              "  </tbody>\n",
              "</table>\n",
              "</div>"
            ],
            "text/plain": [
              "                        Nulos Porcentaje\n",
              "id                          0       0.0%\n",
              "cod_provincia               0       0.0%\n",
              "tamanio_aglomerado          0       0.0%\n",
              "sexo                        0       0.0%\n",
              "edad                        0       0.0%\n",
              "condicion_actividad         0       0.0%\n",
              "ansiedad_depresion          0       0.0%\n",
              "nivel_actividad_fisica      0       0.0%\n",
              "condicion_fumador           0       0.0%\n",
              "mantiene_ha_alta            0       0.0%\n",
              "consumo_sal                 0       0.0%\n",
              "media_fv_diaria             0       0.0%\n",
              "colesterol_elevado          0       0.0%\n",
              "freq_cons_alc               0       0.0%\n",
              "es_diabetico                0       0.0%\n",
              "imc_numerico                0       0.0%"
            ]
          },
          "execution_count": 54,
          "metadata": {},
          "output_type": "execute_result"
        }
      ],
      "source": [
        "calcular_nulos_y_porcentaje(friesgo_cod)"
      ]
    },
    {
      "cell_type": "code",
      "execution_count": 55,
      "metadata": {},
      "outputs": [
        {
          "data": {
            "text/plain": [
              "(25742, 16)"
            ]
          },
          "execution_count": 55,
          "metadata": {},
          "output_type": "execute_result"
        }
      ],
      "source": [
        "friesgo_cod.shape"
      ]
    },
    {
      "cell_type": "markdown",
      "metadata": {
        "id": "-uCgmb0IRlzU"
      },
      "source": [
        "**Por ultimo, se realiza la division del modelo en train-test**"
      ]
    },
    {
      "cell_type": "code",
      "execution_count": 56,
      "metadata": {
        "id": "r2DahVs8dhqW"
      },
      "outputs": [],
      "source": [
        "# Division del dataset en train-test en este caso el tamaño de la muestra sera del 30%\n",
        "y = friesgo_cod['mantiene_ha_alta']\n",
        "X = friesgo_cod.drop(columns=['mantiene_ha_alta'])\n",
        "X_train, X_test, y_train, y_test = train_test_split(X, y, test_size=0.3, random_state=42)"
      ]
    },
    {
      "cell_type": "markdown",
      "metadata": {
        "id": "ap2jFvtod4RW"
      },
      "source": [
        "# Analisis modelos"
      ]
    },
    {
      "cell_type": "markdown",
      "metadata": {
        "id": "uMg2qE0JeLcW"
      },
      "source": [
        "## Modelo 1: Random Forest"
      ]
    },
    {
      "cell_type": "code",
      "execution_count": 35,
      "metadata": {},
      "outputs": [],
      "source": [
        "# Como realice el preprocesado en la primera seccion, voy a crear un pipeline solo con el clasificador\n",
        "pipeline = Pipeline(steps=[\n",
        "    ('classifier', RandomForestClassifier(random_state=42))\n",
        "])"
      ]
    },
    {
      "cell_type": "code",
      "execution_count": 36,
      "metadata": {},
      "outputs": [],
      "source": [
        "# Creare tambien un diccionario con parametros para Gridsearch, que me ayudara a buscar los mejores parametros para mi modelo de modo mas rapido/automatizado\n",
        "parametros = {\n",
        "    'classifier__n_estimators': [100, 200, 300],\n",
        "    'classifier__max_depth': [10, 20, 30],\n",
        "    'classifier__min_samples_split': [2, 5, 10],\n",
        "    'classifier__min_samples_leaf': [1, 2, 4]\n",
        "}"
      ]
    },
    {
      "cell_type": "code",
      "execution_count": 40,
      "metadata": {},
      "outputs": [],
      "source": [
        "# Creo mi GridSearchCV\n",
        "grid_search = GridSearchCV(pipeline, parametros, scoring='roc_auc',return_train_score = True)"
      ]
    },
    {
      "cell_type": "code",
      "execution_count": 43,
      "metadata": {},
      "outputs": [
        {
          "data": {
            "text/plain": [
              "dtype('O')"
            ]
          },
          "execution_count": 43,
          "metadata": {},
          "output_type": "execute_result"
        }
      ],
      "source": [
        "friesgo_cod.mantiene_ha_alta.dtype"
      ]
    },
    {
      "cell_type": "code",
      "execution_count": 41,
      "metadata": {},
      "outputs": [
        {
          "ename": "ValueError",
          "evalue": "\nAll the 405 fits failed.\nIt is very likely that your model is misconfigured.\nYou can try to debug the error by setting error_score='raise'.\n\nBelow are more details about the failures:\n--------------------------------------------------------------------------------\n405 fits failed with the following error:\nTraceback (most recent call last):\n  File \"c:\\Users\\Biank\\AppData\\Local\\Programs\\Python\\Python312\\Lib\\site-packages\\sklearn\\model_selection\\_validation.py\", line 888, in _fit_and_score\n    estimator.fit(X_train, y_train, **fit_params)\n  File \"c:\\Users\\Biank\\AppData\\Local\\Programs\\Python\\Python312\\Lib\\site-packages\\sklearn\\base.py\", line 1473, in wrapper\n    return fit_method(estimator, *args, **kwargs)\n           ^^^^^^^^^^^^^^^^^^^^^^^^^^^^^^^^^^^^^^\n  File \"c:\\Users\\Biank\\AppData\\Local\\Programs\\Python\\Python312\\Lib\\site-packages\\sklearn\\pipeline.py\", line 476, in fit\n    self._final_estimator.fit(Xt, y, **last_step_params[\"fit\"])\n  File \"c:\\Users\\Biank\\AppData\\Local\\Programs\\Python\\Python312\\Lib\\site-packages\\sklearn\\base.py\", line 1473, in wrapper\n    return fit_method(estimator, *args, **kwargs)\n           ^^^^^^^^^^^^^^^^^^^^^^^^^^^^^^^^^^^^^^\n  File \"c:\\Users\\Biank\\AppData\\Local\\Programs\\Python\\Python312\\Lib\\site-packages\\sklearn\\ensemble\\_forest.py\", line 421, in fit\n    y, expanded_class_weight = self._validate_y_class_weight(y)\n                               ^^^^^^^^^^^^^^^^^^^^^^^^^^^^^^^^\n  File \"c:\\Users\\Biank\\AppData\\Local\\Programs\\Python\\Python312\\Lib\\site-packages\\sklearn\\ensemble\\_forest.py\", line 831, in _validate_y_class_weight\n    check_classification_targets(y)\n  File \"c:\\Users\\Biank\\AppData\\Local\\Programs\\Python\\Python312\\Lib\\site-packages\\sklearn\\utils\\multiclass.py\", line 221, in check_classification_targets\n    raise ValueError(\nValueError: Unknown label type: unknown. Maybe you are trying to fit a classifier, which expects discrete classes on a regression target with continuous values.\n",
          "output_type": "error",
          "traceback": [
            "\u001b[1;31m---------------------------------------------------------------------------\u001b[0m",
            "\u001b[1;31mValueError\u001b[0m                                Traceback (most recent call last)",
            "Cell \u001b[1;32mIn[41], line 2\u001b[0m\n\u001b[0;32m      1\u001b[0m \u001b[38;5;66;03m# Ajustar GridSearchCV\u001b[39;00m\n\u001b[1;32m----> 2\u001b[0m \u001b[43mgrid_search\u001b[49m\u001b[38;5;241;43m.\u001b[39;49m\u001b[43mfit\u001b[49m\u001b[43m(\u001b[49m\u001b[43mX_train\u001b[49m\u001b[43m,\u001b[49m\u001b[43m \u001b[49m\u001b[43my_train\u001b[49m\u001b[43m)\u001b[49m\n",
            "File \u001b[1;32mc:\\Users\\Biank\\AppData\\Local\\Programs\\Python\\Python312\\Lib\\site-packages\\sklearn\\base.py:1473\u001b[0m, in \u001b[0;36m_fit_context.<locals>.decorator.<locals>.wrapper\u001b[1;34m(estimator, *args, **kwargs)\u001b[0m\n\u001b[0;32m   1466\u001b[0m     estimator\u001b[38;5;241m.\u001b[39m_validate_params()\n\u001b[0;32m   1468\u001b[0m \u001b[38;5;28;01mwith\u001b[39;00m config_context(\n\u001b[0;32m   1469\u001b[0m     skip_parameter_validation\u001b[38;5;241m=\u001b[39m(\n\u001b[0;32m   1470\u001b[0m         prefer_skip_nested_validation \u001b[38;5;129;01mor\u001b[39;00m global_skip_validation\n\u001b[0;32m   1471\u001b[0m     )\n\u001b[0;32m   1472\u001b[0m ):\n\u001b[1;32m-> 1473\u001b[0m     \u001b[38;5;28;01mreturn\u001b[39;00m \u001b[43mfit_method\u001b[49m\u001b[43m(\u001b[49m\u001b[43mestimator\u001b[49m\u001b[43m,\u001b[49m\u001b[43m \u001b[49m\u001b[38;5;241;43m*\u001b[39;49m\u001b[43margs\u001b[49m\u001b[43m,\u001b[49m\u001b[43m \u001b[49m\u001b[38;5;241;43m*\u001b[39;49m\u001b[38;5;241;43m*\u001b[39;49m\u001b[43mkwargs\u001b[49m\u001b[43m)\u001b[49m\n",
            "File \u001b[1;32mc:\\Users\\Biank\\AppData\\Local\\Programs\\Python\\Python312\\Lib\\site-packages\\sklearn\\model_selection\\_search.py:968\u001b[0m, in \u001b[0;36mBaseSearchCV.fit\u001b[1;34m(self, X, y, **params)\u001b[0m\n\u001b[0;32m    962\u001b[0m     results \u001b[38;5;241m=\u001b[39m \u001b[38;5;28mself\u001b[39m\u001b[38;5;241m.\u001b[39m_format_results(\n\u001b[0;32m    963\u001b[0m         all_candidate_params, n_splits, all_out, all_more_results\n\u001b[0;32m    964\u001b[0m     )\n\u001b[0;32m    966\u001b[0m     \u001b[38;5;28;01mreturn\u001b[39;00m results\n\u001b[1;32m--> 968\u001b[0m \u001b[38;5;28;43mself\u001b[39;49m\u001b[38;5;241;43m.\u001b[39;49m\u001b[43m_run_search\u001b[49m\u001b[43m(\u001b[49m\u001b[43mevaluate_candidates\u001b[49m\u001b[43m)\u001b[49m\n\u001b[0;32m    970\u001b[0m \u001b[38;5;66;03m# multimetric is determined here because in the case of a callable\u001b[39;00m\n\u001b[0;32m    971\u001b[0m \u001b[38;5;66;03m# self.scoring the return type is only known after calling\u001b[39;00m\n\u001b[0;32m    972\u001b[0m first_test_score \u001b[38;5;241m=\u001b[39m all_out[\u001b[38;5;241m0\u001b[39m][\u001b[38;5;124m\"\u001b[39m\u001b[38;5;124mtest_scores\u001b[39m\u001b[38;5;124m\"\u001b[39m]\n",
            "File \u001b[1;32mc:\\Users\\Biank\\AppData\\Local\\Programs\\Python\\Python312\\Lib\\site-packages\\sklearn\\model_selection\\_search.py:1543\u001b[0m, in \u001b[0;36mGridSearchCV._run_search\u001b[1;34m(self, evaluate_candidates)\u001b[0m\n\u001b[0;32m   1541\u001b[0m \u001b[38;5;28;01mdef\u001b[39;00m \u001b[38;5;21m_run_search\u001b[39m(\u001b[38;5;28mself\u001b[39m, evaluate_candidates):\n\u001b[0;32m   1542\u001b[0m \u001b[38;5;250m    \u001b[39m\u001b[38;5;124;03m\"\"\"Search all candidates in param_grid\"\"\"\u001b[39;00m\n\u001b[1;32m-> 1543\u001b[0m     \u001b[43mevaluate_candidates\u001b[49m\u001b[43m(\u001b[49m\u001b[43mParameterGrid\u001b[49m\u001b[43m(\u001b[49m\u001b[38;5;28;43mself\u001b[39;49m\u001b[38;5;241;43m.\u001b[39;49m\u001b[43mparam_grid\u001b[49m\u001b[43m)\u001b[49m\u001b[43m)\u001b[49m\n",
            "File \u001b[1;32mc:\\Users\\Biank\\AppData\\Local\\Programs\\Python\\Python312\\Lib\\site-packages\\sklearn\\model_selection\\_search.py:945\u001b[0m, in \u001b[0;36mBaseSearchCV.fit.<locals>.evaluate_candidates\u001b[1;34m(candidate_params, cv, more_results)\u001b[0m\n\u001b[0;32m    938\u001b[0m \u001b[38;5;28;01melif\u001b[39;00m \u001b[38;5;28mlen\u001b[39m(out) \u001b[38;5;241m!=\u001b[39m n_candidates \u001b[38;5;241m*\u001b[39m n_splits:\n\u001b[0;32m    939\u001b[0m     \u001b[38;5;28;01mraise\u001b[39;00m \u001b[38;5;167;01mValueError\u001b[39;00m(\n\u001b[0;32m    940\u001b[0m         \u001b[38;5;124m\"\u001b[39m\u001b[38;5;124mcv.split and cv.get_n_splits returned \u001b[39m\u001b[38;5;124m\"\u001b[39m\n\u001b[0;32m    941\u001b[0m         \u001b[38;5;124m\"\u001b[39m\u001b[38;5;124minconsistent results. Expected \u001b[39m\u001b[38;5;132;01m{}\u001b[39;00m\u001b[38;5;124m \u001b[39m\u001b[38;5;124m\"\u001b[39m\n\u001b[0;32m    942\u001b[0m         \u001b[38;5;124m\"\u001b[39m\u001b[38;5;124msplits, got \u001b[39m\u001b[38;5;132;01m{}\u001b[39;00m\u001b[38;5;124m\"\u001b[39m\u001b[38;5;241m.\u001b[39mformat(n_splits, \u001b[38;5;28mlen\u001b[39m(out) \u001b[38;5;241m/\u001b[39m\u001b[38;5;241m/\u001b[39m n_candidates)\n\u001b[0;32m    943\u001b[0m     )\n\u001b[1;32m--> 945\u001b[0m \u001b[43m_warn_or_raise_about_fit_failures\u001b[49m\u001b[43m(\u001b[49m\u001b[43mout\u001b[49m\u001b[43m,\u001b[49m\u001b[43m \u001b[49m\u001b[38;5;28;43mself\u001b[39;49m\u001b[38;5;241;43m.\u001b[39;49m\u001b[43merror_score\u001b[49m\u001b[43m)\u001b[49m\n\u001b[0;32m    947\u001b[0m \u001b[38;5;66;03m# For callable self.scoring, the return type is only know after\u001b[39;00m\n\u001b[0;32m    948\u001b[0m \u001b[38;5;66;03m# calling. If the return type is a dictionary, the error scores\u001b[39;00m\n\u001b[0;32m    949\u001b[0m \u001b[38;5;66;03m# can now be inserted with the correct key. The type checking\u001b[39;00m\n\u001b[0;32m    950\u001b[0m \u001b[38;5;66;03m# of out will be done in `_insert_error_scores`.\u001b[39;00m\n\u001b[0;32m    951\u001b[0m \u001b[38;5;28;01mif\u001b[39;00m \u001b[38;5;28mcallable\u001b[39m(\u001b[38;5;28mself\u001b[39m\u001b[38;5;241m.\u001b[39mscoring):\n",
            "File \u001b[1;32mc:\\Users\\Biank\\AppData\\Local\\Programs\\Python\\Python312\\Lib\\site-packages\\sklearn\\model_selection\\_validation.py:529\u001b[0m, in \u001b[0;36m_warn_or_raise_about_fit_failures\u001b[1;34m(results, error_score)\u001b[0m\n\u001b[0;32m    522\u001b[0m \u001b[38;5;28;01mif\u001b[39;00m num_failed_fits \u001b[38;5;241m==\u001b[39m num_fits:\n\u001b[0;32m    523\u001b[0m     all_fits_failed_message \u001b[38;5;241m=\u001b[39m (\n\u001b[0;32m    524\u001b[0m         \u001b[38;5;124mf\u001b[39m\u001b[38;5;124m\"\u001b[39m\u001b[38;5;130;01m\\n\u001b[39;00m\u001b[38;5;124mAll the \u001b[39m\u001b[38;5;132;01m{\u001b[39;00mnum_fits\u001b[38;5;132;01m}\u001b[39;00m\u001b[38;5;124m fits failed.\u001b[39m\u001b[38;5;130;01m\\n\u001b[39;00m\u001b[38;5;124m\"\u001b[39m\n\u001b[0;32m    525\u001b[0m         \u001b[38;5;124m\"\u001b[39m\u001b[38;5;124mIt is very likely that your model is misconfigured.\u001b[39m\u001b[38;5;130;01m\\n\u001b[39;00m\u001b[38;5;124m\"\u001b[39m\n\u001b[0;32m    526\u001b[0m         \u001b[38;5;124m\"\u001b[39m\u001b[38;5;124mYou can try to debug the error by setting error_score=\u001b[39m\u001b[38;5;124m'\u001b[39m\u001b[38;5;124mraise\u001b[39m\u001b[38;5;124m'\u001b[39m\u001b[38;5;124m.\u001b[39m\u001b[38;5;130;01m\\n\u001b[39;00m\u001b[38;5;130;01m\\n\u001b[39;00m\u001b[38;5;124m\"\u001b[39m\n\u001b[0;32m    527\u001b[0m         \u001b[38;5;124mf\u001b[39m\u001b[38;5;124m\"\u001b[39m\u001b[38;5;124mBelow are more details about the failures:\u001b[39m\u001b[38;5;130;01m\\n\u001b[39;00m\u001b[38;5;132;01m{\u001b[39;00mfit_errors_summary\u001b[38;5;132;01m}\u001b[39;00m\u001b[38;5;124m\"\u001b[39m\n\u001b[0;32m    528\u001b[0m     )\n\u001b[1;32m--> 529\u001b[0m     \u001b[38;5;28;01mraise\u001b[39;00m \u001b[38;5;167;01mValueError\u001b[39;00m(all_fits_failed_message)\n\u001b[0;32m    531\u001b[0m \u001b[38;5;28;01melse\u001b[39;00m:\n\u001b[0;32m    532\u001b[0m     some_fits_failed_message \u001b[38;5;241m=\u001b[39m (\n\u001b[0;32m    533\u001b[0m         \u001b[38;5;124mf\u001b[39m\u001b[38;5;124m\"\u001b[39m\u001b[38;5;130;01m\\n\u001b[39;00m\u001b[38;5;132;01m{\u001b[39;00mnum_failed_fits\u001b[38;5;132;01m}\u001b[39;00m\u001b[38;5;124m fits failed out of a total of \u001b[39m\u001b[38;5;132;01m{\u001b[39;00mnum_fits\u001b[38;5;132;01m}\u001b[39;00m\u001b[38;5;124m.\u001b[39m\u001b[38;5;130;01m\\n\u001b[39;00m\u001b[38;5;124m\"\u001b[39m\n\u001b[0;32m    534\u001b[0m         \u001b[38;5;124m\"\u001b[39m\u001b[38;5;124mThe score on these train-test partitions for these parameters\u001b[39m\u001b[38;5;124m\"\u001b[39m\n\u001b[1;32m   (...)\u001b[0m\n\u001b[0;32m    538\u001b[0m         \u001b[38;5;124mf\u001b[39m\u001b[38;5;124m\"\u001b[39m\u001b[38;5;124mBelow are more details about the failures:\u001b[39m\u001b[38;5;130;01m\\n\u001b[39;00m\u001b[38;5;132;01m{\u001b[39;00mfit_errors_summary\u001b[38;5;132;01m}\u001b[39;00m\u001b[38;5;124m\"\u001b[39m\n\u001b[0;32m    539\u001b[0m     )\n",
            "\u001b[1;31mValueError\u001b[0m: \nAll the 405 fits failed.\nIt is very likely that your model is misconfigured.\nYou can try to debug the error by setting error_score='raise'.\n\nBelow are more details about the failures:\n--------------------------------------------------------------------------------\n405 fits failed with the following error:\nTraceback (most recent call last):\n  File \"c:\\Users\\Biank\\AppData\\Local\\Programs\\Python\\Python312\\Lib\\site-packages\\sklearn\\model_selection\\_validation.py\", line 888, in _fit_and_score\n    estimator.fit(X_train, y_train, **fit_params)\n  File \"c:\\Users\\Biank\\AppData\\Local\\Programs\\Python\\Python312\\Lib\\site-packages\\sklearn\\base.py\", line 1473, in wrapper\n    return fit_method(estimator, *args, **kwargs)\n           ^^^^^^^^^^^^^^^^^^^^^^^^^^^^^^^^^^^^^^\n  File \"c:\\Users\\Biank\\AppData\\Local\\Programs\\Python\\Python312\\Lib\\site-packages\\sklearn\\pipeline.py\", line 476, in fit\n    self._final_estimator.fit(Xt, y, **last_step_params[\"fit\"])\n  File \"c:\\Users\\Biank\\AppData\\Local\\Programs\\Python\\Python312\\Lib\\site-packages\\sklearn\\base.py\", line 1473, in wrapper\n    return fit_method(estimator, *args, **kwargs)\n           ^^^^^^^^^^^^^^^^^^^^^^^^^^^^^^^^^^^^^^\n  File \"c:\\Users\\Biank\\AppData\\Local\\Programs\\Python\\Python312\\Lib\\site-packages\\sklearn\\ensemble\\_forest.py\", line 421, in fit\n    y, expanded_class_weight = self._validate_y_class_weight(y)\n                               ^^^^^^^^^^^^^^^^^^^^^^^^^^^^^^^^\n  File \"c:\\Users\\Biank\\AppData\\Local\\Programs\\Python\\Python312\\Lib\\site-packages\\sklearn\\ensemble\\_forest.py\", line 831, in _validate_y_class_weight\n    check_classification_targets(y)\n  File \"c:\\Users\\Biank\\AppData\\Local\\Programs\\Python\\Python312\\Lib\\site-packages\\sklearn\\utils\\multiclass.py\", line 221, in check_classification_targets\n    raise ValueError(\nValueError: Unknown label type: unknown. Maybe you are trying to fit a classifier, which expects discrete classes on a regression target with continuous values.\n"
          ]
        }
      ],
      "source": [
        "# Ajustar GridSearchCV\n",
        "grid_search.fit(X_train, y_train)"
      ]
    },
    {
      "cell_type": "code",
      "execution_count": null,
      "metadata": {},
      "outputs": [],
      "source": [
        "# Mejor modelo encontrado por GridSearchCV\n",
        "best_model = grid_search.best_estimator_"
      ]
    },
    {
      "cell_type": "code",
      "execution_count": null,
      "metadata": {},
      "outputs": [],
      "source": [
        "# Evaluar modelo en el conjunto de prueba\n",
        "y_pred = best_model.predict(X_test)\n",
        "print(classification_report(y_test, y_pred))"
      ]
    },
    {
      "cell_type": "markdown",
      "metadata": {
        "id": "NH8QJCA3eQFl"
      },
      "source": [
        "## Modelo 2"
      ]
    },
    {
      "cell_type": "markdown",
      "metadata": {
        "id": "E6HHqaWdeSDu"
      },
      "source": [
        "## Modelo 3"
      ]
    }
  ],
  "metadata": {
    "colab": {
      "provenance": []
    },
    "kernelspec": {
      "display_name": "Python 3",
      "name": "python3"
    },
    "language_info": {
      "codemirror_mode": {
        "name": "ipython",
        "version": 3
      },
      "file_extension": ".py",
      "mimetype": "text/x-python",
      "name": "python",
      "nbconvert_exporter": "python",
      "pygments_lexer": "ipython3",
      "version": "3.12.1"
    }
  },
  "nbformat": 4,
  "nbformat_minor": 0
}
