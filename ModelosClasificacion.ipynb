{
  "cells": [
    {
      "cell_type": "markdown",
      "metadata": {
        "id": "77G1NaOEdij4"
      },
      "source": [
        "# Programa Ingenias+ Data Science"
      ]
    },
    {
      "cell_type": "markdown",
      "metadata": {},
      "source": [
        "## Objetivo del proyecto\n",
        "\n",
        "Predecir si una persona tendra un IMC anormal o no, en base a sus habitos y/o condiciones socioeconomicas"
      ]
    },
    {
      "cell_type": "markdown",
      "metadata": {
        "id": "eE-jSERRQzjI"
      },
      "source": [
        "## Objetivo del notebook\n",
        "\n",
        "Este notebook tiene como objetivo probar diferentes algoritmos de clasificacion para determinar cual puede brindarnos mejores parametros\n"
      ]
    },
    {
      "cell_type": "markdown",
      "metadata": {
        "id": "xismw4RAdrgW"
      },
      "source": [
        "## Importacion archivos y librerias"
      ]
    },
    {
      "cell_type": "code",
      "execution_count": null,
      "metadata": {
        "id": "qB6woNjyeb2O"
      },
      "outputs": [],
      "source": [
        "# imports de librerias y funciones\n",
        "import pandas as pd\n",
        "import numpy as np\n",
        "import matplotlib.pyplot as plt\n",
        "import seaborn as sns\n",
        "import sklearn as skl\n",
        "\n",
        "from utils.codificaciones import *"
      ]
    },
    {
      "cell_type": "code",
      "execution_count": null,
      "metadata": {
        "id": "QfLBXRR5eure"
      },
      "outputs": [],
      "source": [
        "# importo mi csv\n",
        "friesgo = pd.read_csv(\"datasets/friesgo_2018_final.csv\")"
      ]
    },
    {
      "cell_type": "markdown",
      "metadata": {
        "id": "lVT2jhLdRWrN"
      },
      "source": [
        "# Preprocesado"
      ]
    },
    {
      "cell_type": "markdown",
      "metadata": {
        "id": "ZUQ4mty3RbyG"
      },
      "source": [
        "**Comenzaremos codificando las variables categoricas**"
      ]
    },
    {
      "cell_type": "code",
      "execution_count": null,
      "metadata": {
        "colab": {
          "base_uri": "https://localhost:8080/"
        },
        "id": "X-D6FSh6TB1U",
        "outputId": "f63a0cc2-2748-4827-9fd8-354c9348b8b6"
      },
      "outputs": [
        {
          "data": {
            "text/plain": [
              "Index(['id', 'cod_provincia', 'tamanio_aglomerado', 'submuestra', 'sexo',\n",
              "       'edad', 'situacion_conyugal', 'nivel_educ', 'cobertura_salud',\n",
              "       'condicion_actividad', 'condicion_fumador', 'edad_fuma_primera_vez',\n",
              "       'fumado_100_cigarrillos', 'periodicidad_fumador', 'cant_tipos_tabaco',\n",
              "       'es_diabetico', 'es_diabetes_gestacional', 'en_tratamiento_diabetes',\n",
              "       'ultima_medicion_glucemia', 'diagnostico_cosanguineos_ns_nc',\n",
              "       'diagnostico_cosanguineos_primario',\n",
              "       'diagnostico_cosanguineos_secundario',\n",
              "       'diagnostico_cosanguineos_sin_antecedentes', 'consumo_semanal_frutas',\n",
              "       'ranking_dieta', 'media_fv_diaria', 'medido_colesterol',\n",
              "       'colesterol_alto', 'tratamiento_medico_col', 'freq_cons_alc',\n",
              "       'tipo_bebida', 'bebio_cafeina', 'presion_arterial_elevada',\n",
              "       'imc_categoria'],\n",
              "      dtype='object')"
            ]
          },
          "execution_count": 6,
          "metadata": {},
          "output_type": "execute_result"
        }
      ],
      "source": [
        "friesgo.columns"
      ]
    },
    {
      "cell_type": "code",
      "execution_count": null,
      "metadata": {
        "id": "T72QvWGoSl2m"
      },
      "outputs": [],
      "source": [
        "# Primero busco cuales columnas efectivamente son categoricas y cuales numericas\n",
        "X = friesgo[[]]\n",
        "categorical_cols = X.select_dtypes(include=['object', 'category']).columns\n",
        "numeric_cols = X.select_dtypes(include=['int64', 'float64']).columns"
      ]
    },
    {
      "cell_type": "code",
      "execution_count": null,
      "metadata": {
        "id": "nrPHYlMgRaDd"
      },
      "outputs": [],
      "source": [
        "#Aca get dummies o onehot encoder"
      ]
    },
    {
      "cell_type": "markdown",
      "metadata": {
        "id": "-uCgmb0IRlzU"
      },
      "source": [
        "**Por ultimo, se realiza la division del modelo en train-test**"
      ]
    },
    {
      "cell_type": "code",
      "execution_count": null,
      "metadata": {
        "id": "r2DahVs8dhqW"
      },
      "outputs": [],
      "source": [
        "# division del dataset en train-test en este caso el tamaño de la muestra sera del 30%\n",
        "# X_train, X_test, y_train, y_test = train_test_split(X, y, test_size=0.3, random_state=42)"
      ]
    },
    {
      "cell_type": "markdown",
      "metadata": {
        "id": "ap2jFvtod4RW"
      },
      "source": [
        "# Analisis modelos"
      ]
    },
    {
      "cell_type": "code",
      "execution_count": null,
      "metadata": {
        "id": "zF28fsuVg07v"
      },
      "outputs": [],
      "source": []
    },
    {
      "cell_type": "markdown",
      "metadata": {
        "id": "uMg2qE0JeLcW"
      },
      "source": [
        "## Modelo 1"
      ]
    },
    {
      "cell_type": "markdown",
      "metadata": {
        "id": "NH8QJCA3eQFl"
      },
      "source": [
        "## Modelo 2"
      ]
    },
    {
      "cell_type": "markdown",
      "metadata": {
        "id": "E6HHqaWdeSDu"
      },
      "source": [
        "## Modelo 3"
      ]
    }
  ],
  "metadata": {
    "colab": {
      "provenance": []
    },
    "kernelspec": {
      "display_name": "Python 3",
      "name": "python3"
    },
    "language_info": {
      "name": "python"
    }
  },
  "nbformat": 4,
  "nbformat_minor": 0
}
