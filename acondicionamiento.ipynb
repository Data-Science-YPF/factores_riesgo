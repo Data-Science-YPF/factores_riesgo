{
 "cells": [
  {
   "cell_type": "markdown",
   "metadata": {},
   "source": [
    "# Factores de riesgo\n",
    "Este proyecto se corresponde al trabajo final del curso de Data Science dictado por la Fundación YPF en el año 2024."
   ]
  },
  {
   "cell_type": "markdown",
   "metadata": {},
   "source": [
    "## Objetivos del notebook \n",
    "\n",
    "A partir del dataset en crudo del INDEC, obtendremos una version delimitada utilizando las columnas que nos sean utiles para trabajar alineandose con el objetivo general del proyecto. Las acciones a realizar para lograrlo son:\n",
    "\n",
    "+ Delimitar los bloques tematicos\n",
    "+ Crear columnas derivadas de otras\n",
    "+ Renombrar todas las columnas del dataset\n",
    "+ Determinar el tipo de variables\n",
    "\n",
    "Luego, exportaremos un archivo CSV que servirá de entrada al EDA."
   ]
  },
  {
   "cell_type": "markdown",
   "metadata": {},
   "source": [
    "## Setup de archivos"
   ]
  },
  {
   "cell_type": "markdown",
   "metadata": {},
   "source": [
    "__Importacion de librerias__"
   ]
  },
  {
   "cell_type": "code",
   "execution_count": 1,
   "metadata": {},
   "outputs": [],
   "source": [
    "import pandas as pd\n",
    "import numpy as np\n",
    "import matplotlib.pyplot as plt\n",
    "import sklearn as skl\n",
    "import seaborn as sns\n",
    "\n",
    "from functools import reduce\n",
    "\n",
    "from utils.funcions import *\n",
    "from utils.codificaciones import *"
   ]
  },
  {
   "cell_type": "markdown",
   "metadata": {},
   "source": [
    "__Importacion de base de datos__"
   ]
  },
  {
   "cell_type": "code",
   "execution_count": 2,
   "metadata": {},
   "outputs": [],
   "source": [
    "friesgo_2018_raw = pd.read_csv('datasets/friesgo_2018_raw.txt', delimiter = '|')"
   ]
  },
  {
   "cell_type": "markdown",
   "metadata": {},
   "source": [
    "## Analisis estructural del dataset raw"
   ]
  },
  {
   "cell_type": "markdown",
   "metadata": {},
   "source": [
    "Se pretende conocer los datos generales acerca de la estructura del dataset raw (proveniente del INDEC) para poder tratarlo a posteriori de una manera adecuada"
   ]
  },
  {
   "cell_type": "code",
   "execution_count": 3,
   "metadata": {},
   "outputs": [
    {
     "data": {
      "text/plain": [
       "(29224, 287)"
      ]
     },
     "execution_count": 3,
     "metadata": {},
     "output_type": "execute_result"
    }
   ],
   "source": [
    "# Determino filas y columnas\n",
    "friesgo_2018_raw.shape"
   ]
  },
  {
   "cell_type": "code",
   "execution_count": 4,
   "metadata": {},
   "outputs": [
    {
     "data": {
      "text/html": [
       "<div>\n",
       "<style scoped>\n",
       "    .dataframe tbody tr th:only-of-type {\n",
       "        vertical-align: middle;\n",
       "    }\n",
       "\n",
       "    .dataframe tbody tr th {\n",
       "        vertical-align: top;\n",
       "    }\n",
       "\n",
       "    .dataframe thead th {\n",
       "        text-align: right;\n",
       "    }\n",
       "</style>\n",
       "<table border=\"1\" class=\"dataframe\">\n",
       "  <thead>\n",
       "    <tr style=\"text-align: right;\">\n",
       "      <th></th>\n",
       "      <th>id</th>\n",
       "      <th>cod_provincia</th>\n",
       "      <th>region</th>\n",
       "      <th>tamanio_aglomerado</th>\n",
       "      <th>aglomerado</th>\n",
       "      <th>localidades_150</th>\n",
       "      <th>submuestra</th>\n",
       "      <th>bhcv01</th>\n",
       "      <th>bhcv02</th>\n",
       "      <th>bhcv03</th>\n",
       "      <th>...</th>\n",
       "      <th>glucemia_elevada</th>\n",
       "      <th>prevalencia_glucemia_elevada_combinada</th>\n",
       "      <th>findrisc</th>\n",
       "      <th>bimq06</th>\n",
       "      <th>bimq06_01</th>\n",
       "      <th>colesterol_elevado</th>\n",
       "      <th>prevalencia_colesterol_combinada</th>\n",
       "      <th>wf1p</th>\n",
       "      <th>wf2p</th>\n",
       "      <th>wf3p</th>\n",
       "    </tr>\n",
       "  </thead>\n",
       "  <tbody>\n",
       "    <tr>\n",
       "      <th>0</th>\n",
       "      <td>1128639</td>\n",
       "      <td>2</td>\n",
       "      <td>1</td>\n",
       "      <td>1</td>\n",
       "      <td>1</td>\n",
       "      <td>1</td>\n",
       "      <td>1</td>\n",
       "      <td>3</td>\n",
       "      <td>2</td>\n",
       "      <td>1</td>\n",
       "      <td>...</td>\n",
       "      <td>NaN</td>\n",
       "      <td>NaN</td>\n",
       "      <td>2.0</td>\n",
       "      <td>NaN</td>\n",
       "      <td>NaN</td>\n",
       "      <td>NaN</td>\n",
       "      <td>NaN</td>\n",
       "      <td>2378</td>\n",
       "      <td>4464</td>\n",
       "      <td>0</td>\n",
       "    </tr>\n",
       "    <tr>\n",
       "      <th>1</th>\n",
       "      <td>1709939</td>\n",
       "      <td>2</td>\n",
       "      <td>1</td>\n",
       "      <td>1</td>\n",
       "      <td>1</td>\n",
       "      <td>1</td>\n",
       "      <td>0</td>\n",
       "      <td>1</td>\n",
       "      <td>4</td>\n",
       "      <td>1</td>\n",
       "      <td>...</td>\n",
       "      <td>NaN</td>\n",
       "      <td>NaN</td>\n",
       "      <td>NaN</td>\n",
       "      <td>NaN</td>\n",
       "      <td>NaN</td>\n",
       "      <td>NaN</td>\n",
       "      <td>NaN</td>\n",
       "      <td>3588</td>\n",
       "      <td>0</td>\n",
       "      <td>0</td>\n",
       "    </tr>\n",
       "    <tr>\n",
       "      <th>2</th>\n",
       "      <td>6874130</td>\n",
       "      <td>2</td>\n",
       "      <td>1</td>\n",
       "      <td>1</td>\n",
       "      <td>1</td>\n",
       "      <td>1</td>\n",
       "      <td>0</td>\n",
       "      <td>3</td>\n",
       "      <td>2</td>\n",
       "      <td>1</td>\n",
       "      <td>...</td>\n",
       "      <td>NaN</td>\n",
       "      <td>NaN</td>\n",
       "      <td>NaN</td>\n",
       "      <td>NaN</td>\n",
       "      <td>NaN</td>\n",
       "      <td>NaN</td>\n",
       "      <td>NaN</td>\n",
       "      <td>2740</td>\n",
       "      <td>0</td>\n",
       "      <td>0</td>\n",
       "    </tr>\n",
       "    <tr>\n",
       "      <th>3</th>\n",
       "      <td>10319375</td>\n",
       "      <td>2</td>\n",
       "      <td>1</td>\n",
       "      <td>1</td>\n",
       "      <td>1</td>\n",
       "      <td>1</td>\n",
       "      <td>1</td>\n",
       "      <td>3</td>\n",
       "      <td>1</td>\n",
       "      <td>1</td>\n",
       "      <td>...</td>\n",
       "      <td>NaN</td>\n",
       "      <td>NaN</td>\n",
       "      <td>NaN</td>\n",
       "      <td>NaN</td>\n",
       "      <td>NaN</td>\n",
       "      <td>NaN</td>\n",
       "      <td>NaN</td>\n",
       "      <td>493</td>\n",
       "      <td>0</td>\n",
       "      <td>0</td>\n",
       "    </tr>\n",
       "    <tr>\n",
       "      <th>4</th>\n",
       "      <td>11140857</td>\n",
       "      <td>2</td>\n",
       "      <td>1</td>\n",
       "      <td>1</td>\n",
       "      <td>1</td>\n",
       "      <td>1</td>\n",
       "      <td>0</td>\n",
       "      <td>3</td>\n",
       "      <td>3</td>\n",
       "      <td>1</td>\n",
       "      <td>...</td>\n",
       "      <td>NaN</td>\n",
       "      <td>NaN</td>\n",
       "      <td>NaN</td>\n",
       "      <td>NaN</td>\n",
       "      <td>NaN</td>\n",
       "      <td>NaN</td>\n",
       "      <td>NaN</td>\n",
       "      <td>2016</td>\n",
       "      <td>0</td>\n",
       "      <td>0</td>\n",
       "    </tr>\n",
       "  </tbody>\n",
       "</table>\n",
       "<p>5 rows × 287 columns</p>\n",
       "</div>"
      ],
      "text/plain": [
       "         id  cod_provincia  region  tamanio_aglomerado  aglomerado  \\\n",
       "0   1128639              2       1                   1           1   \n",
       "1   1709939              2       1                   1           1   \n",
       "2   6874130              2       1                   1           1   \n",
       "3  10319375              2       1                   1           1   \n",
       "4  11140857              2       1                   1           1   \n",
       "\n",
       "   localidades_150  submuestra  bhcv01  bhcv02  bhcv03  ...  glucemia_elevada  \\\n",
       "0                1           1       3       2       1  ...               NaN   \n",
       "1                1           0       1       4       1  ...               NaN   \n",
       "2                1           0       3       2       1  ...               NaN   \n",
       "3                1           1       3       1       1  ...               NaN   \n",
       "4                1           0       3       3       1  ...               NaN   \n",
       "\n",
       "   prevalencia_glucemia_elevada_combinada  findrisc  bimq06  bimq06_01  \\\n",
       "0                                     NaN       2.0     NaN        NaN   \n",
       "1                                     NaN       NaN     NaN        NaN   \n",
       "2                                     NaN       NaN     NaN        NaN   \n",
       "3                                     NaN       NaN     NaN        NaN   \n",
       "4                                     NaN       NaN     NaN        NaN   \n",
       "\n",
       "   colesterol_elevado  prevalencia_colesterol_combinada  wf1p  wf2p  wf3p  \n",
       "0                 NaN                               NaN  2378  4464     0  \n",
       "1                 NaN                               NaN  3588     0     0  \n",
       "2                 NaN                               NaN  2740     0     0  \n",
       "3                 NaN                               NaN   493     0     0  \n",
       "4                 NaN                               NaN  2016     0     0  \n",
       "\n",
       "[5 rows x 287 columns]"
      ]
     },
     "execution_count": 4,
     "metadata": {},
     "output_type": "execute_result"
    }
   ],
   "source": [
    "# Obtengo las 5 primeras filas del dataset\n",
    "friesgo_2018_raw.head()"
   ]
  },
  {
   "cell_type": "code",
   "execution_count": 5,
   "metadata": {},
   "outputs": [
    {
     "name": "stdout",
     "output_type": "stream",
     "text": [
      "['id', 'cod_provincia', 'region', 'tamanio_aglomerado', 'aglomerado', 'localidades_150', 'submuestra', 'bhcv01', 'bhcv02', 'bhcv03', 'bhcv04', 'bhcv05', 'bhcv06', 'bhcv07', 'bhcv08', 'bhcv09', 'bhcv10', 'bhcv11', 'bhho01', 'bhho02', 'bhho03', 'cant_componentes', 'miembros_18', 'tipo_hogar', 'bhih01', 'bhih01_02', 'rango_ingreso', 'quintil_uc', 'imputado', 'bhih03', 'bhch03_j', 'bhch04_j', 'rango_edad_j', 'bhch05_j', 'nivel_instruccion_j', 'nivel_instruccion_agrupado_j', 'bhch10_01_j', 'bhch10_02_j', 'bhch10_03_j', 'bhch10_04_j', 'bhch10_05_j', 'bhch10_06_j', 'bhch10_99_j', 'cobertura_salud_j', 'bhsl01', 'bhsl02', 'bhsl03', 'bhsl04', 'bhsl05', 'bhsl06', 'condicion_actividad_j', 'bhch02', 'bhch03', 'bhch04', 'rango_edad', 'bhch05', 'nivel_instruccion', 'nivel_instruccion_agrupado', 'bhch10_01', 'bhch10_02', 'bhch10_03', 'bhch10_04', 'bhch10_05', 'bhch10_06', 'bhch10_99', 'cobertura_salud', 'bisl01', 'bisl02', 'bisl03', 'bisl04', 'bisl05', 'bisl06', 'condicion_actividad', 'bisg01', 'bisg02', 'bisg03', 'bisg04', 'bisg05', 'bisg06', 'biaf01', 'biaf02_m', 'biaf02_99', 'biaf03', 'biaf04_m', 'biaf04_99', 'biaf05', 'biaf06_m', 'biaf06_99', 'biaf07_m', 'biaf07_99', 'biaf08', 'biaf09', 'biaf10_01', 'biaf10_02', 'biaf10_03', 'biaf10_04', 'nivel_actividad_fisica', 'barreras_actividad_fisica', 'bita01', 'bita02', 'bita02_99', 'bita03', 'bita04', 'bita04_01', 'bita04_02', 'bita05', 'bita06_a', 'bita06_b', 'bita06_b_99', 'bita06_c', 'bita06_d', 'bita07', 'bita07_99', 'bita08', 'bita09_01', 'bita09_02', 'bita09_03', 'bita09_04', 'bita09_05', 'bita09_06', 'bita10_01', 'bita10_02', 'bita10_03', 'bita10_04', 'bita10_05', 'bita10_06', 'bita11', 'bita12', 'bita13', 'bita14', 'bita15', 'bita16', 'consumo_tabaco_100', 'ta_paquete_y_armado', 'ta_dejar_fumar', 'ta_otros_productos', 'hta_nofumadores', 'ta_perc_publicidad', 'ta_percepcion_riesgo', 'imagenes_tabaco', 'biha01', 'biha02', 'biha03', 'biha04', 'biha05_01', 'biha05_02', 'biha06', 'biha06_99', 'biha07', 'biha08', 'biha09', 'biha10', 'biha11', 'biha11_99', 'biha12', 'biha13', 'biha14', 'biha15', 'control_hipertension', 'prevalencia_hipertension', 'bipc01', 'bipc02', 'bipc03', 'bipc04', 'bipc04_99', 'bipc05', 'bipc05_99', 'imc', 'imc_categorias', 'bial01', 'bial02', 'bial03', 'bial03_99', 'bial04', 'bial04_99', 'bial05', 'bial05_99', 'bial06', 'bial06_99', 'bial07', 'bial08', 'bial09', 'bial10', 'promedio_fv_diario', 'consumo_fv', 'barreras_fyv', 'tipo_dieta_razones', 'bico01', 'bico02', 'bico03', 'bico04', 'bico05_01', 'bico05_02', 'control_colesterol', 'prevalencia_colesterol', 'bica01', 'bica02', 'bica03_01', 'bica03_02', 'bica03_99', 'bica04_01_b', 'bica04_01_c', 'bica04_02_b', 'bica04_02_c', 'bica04_03_b', 'bica04_03_c', 'bica04_04', 'bica05_01_b', 'bica05_01_c', 'bica05_02_b', 'bica05_02_c', 'bica05_03_b', 'bica05_03_c', 'bica05_04', 'bica06', 'bica07', 'consumo_regular_riesgo', 'consumo_episodico_excesivo', 'bidi01', 'bidi02', 'bidi03', 'bidi04_01', 'bidi04_02', 'bidi04_03', 'bidi05', 'bidi06_01', 'bidi06_02', 'bidi07', 'bidi08', 'bidi09', 'bidi10', 'bidi11', 'bidi12', 'bidi13', 'bidi14', 'control_diabetes', 'prevalencia_diabetes', 'bile01', 'bile02', 'bile03', 'bipp01', 'bipp02', 'bipp03', 'bipp04', 'control_mamografia', 'control_pap', 'bicc01_01', 'bicc01_02', 'bicc01_03', 'bicc02', 'bicc03', 'control_colon', 'bima01', 'bima02', 'bima03', 'bima04_01_a', 'bima04_01_b', 'bima04_02_a', 'bima04_02_b', 'bima04_03_a', 'bima04_03_b', 'promedio_sistolica', 'promedio_diastolica', 'ta_elevada', 'prevalencia_hipertension_combinada', 'bima06', 'bima07', 'bima09', 'bima10', 'imc_bima', 'imc_categorias_bima', 'bima12', 'bima13', 'bima14', 'bimq01', 'bimq05', 'bimq05_01', 'glucemia_elevada', 'prevalencia_glucemia_elevada_combinada', 'findrisc', 'bimq06', 'bimq06_01', 'colesterol_elevado', 'prevalencia_colesterol_combinada', 'wf1p', 'wf2p', 'wf3p']\n"
     ]
    }
   ],
   "source": [
    "pd.set_option('display.max_columns',None)\n",
    "print(friesgo_2018_raw.columns.tolist())\n"
   ]
  },
  {
   "cell_type": "markdown",
   "metadata": {},
   "source": [
    "## Busqueda y localizacion de columnas"
   ]
  },
  {
   "cell_type": "code",
   "execution_count": 3,
   "metadata": {},
   "outputs": [],
   "source": [
    "#Busco el indice de una columna para dividir los bloques tematicos\n",
    "# friesgo_2018_raw.columns.get_loc('cobertura_salud')"
   ]
  },
  {
   "cell_type": "code",
   "execution_count": 4,
   "metadata": {},
   "outputs": [],
   "source": [
    "# Ubicacion\n",
    "ubicacion_raw = pd.DataFrame(friesgo_2018_raw.iloc[:, list(range(0,7))]).copy()\n",
    "# USAR EL SIGUIENTE CODIGO :\n",
    "# bloquetematico_raw = pd.DataFrame(friesgo_2018_raw.iloc[:, [0] + list(range(inicio,final))]).copy()"
   ]
  },
  {
   "cell_type": "code",
   "execution_count": 5,
   "metadata": {},
   "outputs": [],
   "source": [
    "# Caracteristicas del encuestado\n",
    "# Busqueda de la columna a añadir que describe la situacion laboral del individuo\n",
    "# friesgo_2018_raw.columns.get_loc('condicion_actividad')\n",
    "caract_encuestado_raw = pd.DataFrame(friesgo_2018_raw.iloc[:, [0] + list(range(51,66)) + [72]]).copy()"
   ]
  },
  {
   "cell_type": "code",
   "execution_count": 6,
   "metadata": {},
   "outputs": [],
   "source": [
    "# Salud general"
   ]
  },
  {
   "cell_type": "code",
   "execution_count": 7,
   "metadata": {},
   "outputs": [],
   "source": [
    "# Actividad fisica"
   ]
  },
  {
   "cell_type": "code",
   "execution_count": 8,
   "metadata": {},
   "outputs": [],
   "source": [
    "# Tabaquismo\n",
    "tabaquismo_raw = pd.DataFrame(friesgo_2018_raw.iloc[:, [0] + list(range(98, 133))]).copy()"
   ]
  },
  {
   "cell_type": "code",
   "execution_count": 9,
   "metadata": {},
   "outputs": [],
   "source": [
    "# Hipertension arterial"
   ]
  },
  {
   "cell_type": "code",
   "execution_count": 10,
   "metadata": {},
   "outputs": [],
   "source": [
    "# Peso corporal"
   ]
  },
  {
   "cell_type": "code",
   "execution_count": 11,
   "metadata": {},
   "outputs": [],
   "source": [
    "# Alimentacion\n",
    "alimentacion_raw = pd.DataFrame(friesgo_2018_raw.iloc[:, [0] + list(range(169,186))]).copy()"
   ]
  },
  {
   "cell_type": "code",
   "execution_count": 12,
   "metadata": {},
   "outputs": [],
   "source": [
    "# Colesterol\n",
    "colesterol_raw = pd.DataFrame(friesgo_2018_raw.iloc[:, [0] + list(range(187,195))]).copy()"
   ]
  },
  {
   "cell_type": "code",
   "execution_count": 13,
   "metadata": {},
   "outputs": [],
   "source": [
    "# Consumo de alcohol\n",
    "consumo_alcohol_raw = pd.DataFrame(friesgo_2018_raw.iloc[:, [0] + list(range(195,217))]).copy()"
   ]
  },
  {
   "cell_type": "code",
   "execution_count": 14,
   "metadata": {},
   "outputs": [],
   "source": [
    "# Diabetes\n",
    "diabetes_raw = pd.DataFrame(friesgo_2018_raw.iloc[:, [0] + list(range(218, 236))]).copy()"
   ]
  },
  {
   "cell_type": "code",
   "execution_count": 15,
   "metadata": {},
   "outputs": [],
   "source": [
    "# Mediciones atropometricas\n",
    "mediciones_antropometricas_raw = pd.DataFrame(friesgo_2018_raw.iloc[:, [0] + list(range(252, 273))]).copy()"
   ]
  },
  {
   "cell_type": "code",
   "execution_count": 16,
   "metadata": {},
   "outputs": [],
   "source": [
    "# Mediciones bioquimicas\n",
    "mediciones_bioquimicas_raw = pd.DataFrame(friesgo_2018_raw.iloc[:, [0] + list(range(274, 283))]).copy()"
   ]
  },
  {
   "cell_type": "markdown",
   "metadata": {},
   "source": [
    "## Tratamiento de columnas del dataset raw"
   ]
  },
  {
   "cell_type": "markdown",
   "metadata": {},
   "source": [
    "### UBICACION"
   ]
  },
  {
   "cell_type": "code",
   "execution_count": 17,
   "metadata": {},
   "outputs": [],
   "source": [
    "# filtrado de las columnas que me seran utiles\n",
    "ubicacion = ubicacion_raw.filter(items=['id', 'cod_provincia', 'tamanio_aglomerado', 'submuestra'])"
   ]
  },
  {
   "cell_type": "markdown",
   "metadata": {},
   "source": [
    "### CARACTERISTICAS DEL ENCUESTADO"
   ]
  },
  {
   "cell_type": "code",
   "execution_count": 18,
   "metadata": {},
   "outputs": [],
   "source": [
    "# Renombro\n",
    "caract_encuestado_raw.rename(columns = {\n",
    "    'bhch02': 'relacion_jefeh',\n",
    "    'bhch03': 'sexo',\n",
    "    'bhch04': 'edad',\n",
    "    'rango_edad': 'rango_etario',\n",
    "    'bhch05': 'situacion_conyugal',\n",
    "    'nivel_instruccion': 'nivel_educ',\n",
    "    'nivel_instruccion_agrupado': 'nivel_eduG',\n",
    "    'bhch10_01': 'obra_social',\n",
    "    'bhch10_02': 'o_social_prep',\n",
    "    'bhch10_03': 'o_soc_pre_vol',\n",
    "    'bhch10_04': 'sem',\n",
    "    'bhch10_05': 'asoc_prog_salud_estatal',\n",
    "    'bhch10_06': 'no_asociado_nada',\n",
    "    'bhch10_99': 'nosabe'\n",
    "}, inplace= True)\n"
   ]
  },
  {
   "cell_type": "code",
   "execution_count": 19,
   "metadata": {},
   "outputs": [],
   "source": [
    "#Filtrado de columnas necesarias\n",
    "caract_encuestado = caract_encuestado_raw.filter(items=['id', 'sexo', 'edad','situacion_conyugal', 'nivel_educ', 'cobertura_salud'])"
   ]
  },
  {
   "cell_type": "markdown",
   "metadata": {},
   "source": [
    "### SALUD GENERAL"
   ]
  },
  {
   "cell_type": "markdown",
   "metadata": {},
   "source": [
    "### ACTIVIDAD FISICA"
   ]
  },
  {
   "cell_type": "markdown",
   "metadata": {},
   "source": [
    "### TABAQUISMO"
   ]
  },
  {
   "cell_type": "markdown",
   "metadata": {},
   "source": [
    "__Creación de nuevas columnas__"
   ]
  },
  {
   "cell_type": "code",
   "execution_count": 20,
   "metadata": {},
   "outputs": [],
   "source": [
    "# Calculo de nueva columna cant_tipos_tabaco\n",
    "# Crearemos una nueva columna cant_tipos_tabaco que contendra la cantidad de tipos de tabaco que la persona consume.\n",
    "\n",
    "# Subconjunto de columnas donde queremos contar los 1s\n",
    "columnas_subconjunto = ['bita09_01', 'bita09_02', 'bita09_03', 'bita09_04', 'bita09_05', 'bita09_06']\n",
    "\n",
    "# Llamar a la función con el subconjunto de columnas\n",
    "tabaquismo_raw.loc[:, 'cant_tipos_tabaco'] = calcular_tipos_tabaco(tabaquismo_raw, columnas_subconjunto)"
   ]
  },
  {
   "cell_type": "markdown",
   "metadata": {},
   "source": [
    "__Renombre de columnas__"
   ]
  },
  {
   "cell_type": "code",
   "execution_count": 21,
   "metadata": {},
   "outputs": [],
   "source": [
    "# Renombro columnas\n",
    "tabaquismo_raw.rename(columns = {\n",
    "    'bita01':               'es_fumador',                                       # var categorica\n",
    "    'bita02':               'edad_fuma_primera_vez',                            # var numerica discreta\n",
    "    'bita02_99':            'edad_fuma_primera_vez_ns_nc',                      # var numerica discreta\n",
    "    'bita03':               'fumado_100_cigarrillos',                           # var categorica\n",
    "    'bita04':               'periodicidad_fumador',                             # var ordinal\n",
    "    'bita04_01':            'es_cigarrillo_armado',                             # var categorica\n",
    "    'bita04_02':            'es_cigarrillo_paquete',                            # var categorica\n",
    "    'bita05':               'marca_cigarrillos',                                # var categorica\n",
    "    'bita06_a':             'tipo_paquete_comprado',                            # var categorica\n",
    "    'bita06_b':             'cant_cigarrillos_comprados',                       # var numerica discreta\n",
    "    'bita06_b_99':          'cant_cigarrillos_comprados_ns_nc',                 # var numerica discreta\n",
    "    'bita06_c':             'cigarrillos_sabor',                                # var categorica\n",
    "    'bita06_d':             'cigarrillos_tipo_capsula',                         # var categorica\n",
    "    'bita07':               'dinero_pagado_ultima_compra_cigarrillos',          # var numerica discreta\n",
    "    'bita07_99':            'dinero_pagado_ultima_compra_cigarrillos_ns_nc',    # var categorica\n",
    "    'bita08':               'intento_dejar_fumar',                              # var categorica\n",
    "    'bita09_01':            'es_fumador_cigarro_habano',                        # var categorica\n",
    "    'bita09_02':            'es_fumador_cigarritos',                            # var categorica\n",
    "    'bita09_03':            'es_fumador_pipa_comun',                            # var categorica\n",
    "    'bita09_04':            'es_fumador_pipa_agua',                             # var categorica\n",
    "    'bita09_05':            'es_fumador_tabaco_masticar',                       # var categorica\n",
    "    'bita09_06':            'es_fumador_cigarrillo_electronico',                # var categorica\n",
    "    'bita10_01':            'hubo_fumadores_casa',                              # var categorica\n",
    "    'bita10_02':            'hubo_fumadores_trabajo',                           # var categorica\n",
    "    'bita10_03':            'hubo_fumadores_escuela',                           # var categorica\n",
    "    'bita10_04':            'hubo_fumadores_restaurant',                        # var categorica\n",
    "    'bita10_05':            'hubo_fumadores_hospital',                          # var categorica\n",
    "    'bita10_06':            'hubo_fumadores_otros_lugares',                     # var categorica\n",
    "    'bita11':               'publicidad_comercios',                             # var categorica\n",
    "    'bita12':               'publicidad_email',                                 # var categorica\n",
    "    'bita13':               'suscripcion_cigarrera',                            # var categorica\n",
    "    'bita14':               'vio_propaganda_riesgo_fumar',                      # var categorica\n",
    "    'bita15':               'propaganda_piensa_dejar_fumar',                    # var categorica\n",
    "    'bita16':               'acuerdo_impuesto_tabaco',                           # var categorica\n",
    "    'consumo_tabaco_100':   'condicion_fumador'\n",
    "}, inplace = True)"
   ]
  },
  {
   "cell_type": "markdown",
   "metadata": {},
   "source": [
    "### HIPERTENSION ARTERIAL"
   ]
  },
  {
   "cell_type": "markdown",
   "metadata": {},
   "source": [
    "### PESO CORPORAL"
   ]
  },
  {
   "cell_type": "markdown",
   "metadata": {},
   "source": [
    "### ALIMENTACION"
   ]
  },
  {
   "cell_type": "code",
   "execution_count": 22,
   "metadata": {},
   "outputs": [],
   "source": [
    "alimentacion_raw.rename(columns={\n",
    "    'bial01': 'sal1',\n",
    "    'bial02': 'sal2',\n",
    "    'bial03': 'consumo_semanal_futas',\n",
    "    'bial08': 'ranking_dieta',\n",
    "    'promedio_fv_diario': 'media_fv_diaria'\n",
    "}, inplace=True)"
   ]
  },
  {
   "cell_type": "code",
   "execution_count": 23,
   "metadata": {},
   "outputs": [],
   "source": [
    "#creo una tabla auxiliar para poder iterar solo en las columnas de mi interes\n",
    "columnas_sal = alimentacion_raw.iloc[:,[1,2]]"
   ]
  },
  {
   "cell_type": "code",
   "execution_count": 24,
   "metadata": {},
   "outputs": [],
   "source": [
    "#creo una nueva columna que combine sal1 y sal2 para hacer una columna que mida el consumo de sal\n",
    "consumo_sal = []\n",
    "for row in columnas_sal.itertuples():\n",
    "   suma = row.sal1 + row.sal2\n",
    "   if (suma <= 50):\n",
    "      consumo_sal.append(suma)\n",
    "   elif (suma >= 100):\n",
    "      consumo_sal.append(suma - 97)\n",
    "   else:\n",
    "      consumo_sal.append('valor no tomado en cuenta')"
   ]
  },
  {
   "cell_type": "code",
   "execution_count": 25,
   "metadata": {},
   "outputs": [
    {
     "data": {
      "text/plain": [
       "Index(['id', 'sal1', 'sal2', 'consumo_sal', 'consumo_semanal_futas',\n",
       "       'bial03_99', 'bial04', 'bial04_99', 'bial05', 'bial05_99', 'bial06',\n",
       "       'bial06_99', 'bial07', 'ranking_dieta', 'bial09', 'bial10',\n",
       "       'media_fv_diaria', 'consumo_fv', 'barreras_fyv'],\n",
       "      dtype='object')"
      ]
     },
     "execution_count": 25,
     "metadata": {},
     "output_type": "execute_result"
    }
   ],
   "source": [
    "#inserto la columna nueva en la tabla original y le inserto los valores que calcule anteriormente\n",
    "alimentacion_raw.insert(3, column='consumo_sal', value=consumo_sal)\n",
    "alimentacion_raw.columns"
   ]
  },
  {
   "cell_type": "code",
   "execution_count": 26,
   "metadata": {},
   "outputs": [
    {
     "data": {
      "text/html": [
       "<div>\n",
       "<style scoped>\n",
       "    .dataframe tbody tr th:only-of-type {\n",
       "        vertical-align: middle;\n",
       "    }\n",
       "\n",
       "    .dataframe tbody tr th {\n",
       "        vertical-align: top;\n",
       "    }\n",
       "\n",
       "    .dataframe thead th {\n",
       "        text-align: right;\n",
       "    }\n",
       "</style>\n",
       "<table border=\"1\" class=\"dataframe\">\n",
       "  <thead>\n",
       "    <tr style=\"text-align: right;\">\n",
       "      <th></th>\n",
       "      <th>id</th>\n",
       "      <th>consumo_sal</th>\n",
       "      <th>consumo_semanal_futas</th>\n",
       "      <th>ranking_dieta</th>\n",
       "      <th>media_fv_diaria</th>\n",
       "    </tr>\n",
       "  </thead>\n",
       "  <tbody>\n",
       "    <tr>\n",
       "      <th>0</th>\n",
       "      <td>1128639</td>\n",
       "      <td>5</td>\n",
       "      <td>7.0</td>\n",
       "      <td>2</td>\n",
       "      <td>4.00</td>\n",
       "    </tr>\n",
       "    <tr>\n",
       "      <th>1</th>\n",
       "      <td>1709939</td>\n",
       "      <td>4</td>\n",
       "      <td>7.0</td>\n",
       "      <td>2</td>\n",
       "      <td>6.43</td>\n",
       "    </tr>\n",
       "    <tr>\n",
       "      <th>2</th>\n",
       "      <td>6874130</td>\n",
       "      <td>2</td>\n",
       "      <td>5.0</td>\n",
       "      <td>2</td>\n",
       "      <td>2.86</td>\n",
       "    </tr>\n",
       "    <tr>\n",
       "      <th>3</th>\n",
       "      <td>10319375</td>\n",
       "      <td>3</td>\n",
       "      <td>3.0</td>\n",
       "      <td>2</td>\n",
       "      <td>1.43</td>\n",
       "    </tr>\n",
       "    <tr>\n",
       "      <th>4</th>\n",
       "      <td>11140857</td>\n",
       "      <td>4</td>\n",
       "      <td>7.0</td>\n",
       "      <td>2</td>\n",
       "      <td>1.43</td>\n",
       "    </tr>\n",
       "  </tbody>\n",
       "</table>\n",
       "</div>"
      ],
      "text/plain": [
       "         id  consumo_sal  consumo_semanal_futas  ranking_dieta  \\\n",
       "0   1128639            5                    7.0              2   \n",
       "1   1709939            4                    7.0              2   \n",
       "2   6874130            2                    5.0              2   \n",
       "3  10319375            3                    3.0              2   \n",
       "4  11140857            4                    7.0              2   \n",
       "\n",
       "   media_fv_diaria  \n",
       "0             4.00  \n",
       "1             6.43  \n",
       "2             2.86  \n",
       "3             1.43  \n",
       "4             1.43  "
      ]
     },
     "execution_count": 26,
     "metadata": {},
     "output_type": "execute_result"
    }
   ],
   "source": [
    "# filtro columnas\n",
    "alimentacion = alimentacion_raw.filter(items=['id','consumo_sal', 'consumo_semanal_futas', 'ranking_dieta','media_fv_diaria'])\n",
    "alimentacion.head()"
   ]
  },
  {
   "cell_type": "markdown",
   "metadata": {},
   "source": [
    "### COLESTEROL"
   ]
  },
  {
   "cell_type": "code",
   "execution_count": 27,
   "metadata": {},
   "outputs": [],
   "source": [
    "# Renombro las columnas \n",
    "colesterol_raw.rename( columns={\n",
    "    'bico01': 'medido_colesterol',\n",
    "    'bico02': 'fecha_med_colesterol',\n",
    "    'bico03': 'colesterol_alto',\n",
    "    'bico04': 'tratamiento_medico_col',\n",
    "    'bico05_01': 'trat_habitos_col',\n",
    "    'bico05_02': 'trat_farmac_col',\n",
    "    'control_colesterol': 'autocontrol_col'\n",
    "}, inplace= True)"
   ]
  },
  {
   "cell_type": "code",
   "execution_count": 28,
   "metadata": {},
   "outputs": [],
   "source": [
    "colesterol = colesterol_raw.filter(items=['id','medido_colesterol','colesterol_alto','tratamiento_medico_col'])"
   ]
  },
  {
   "cell_type": "markdown",
   "metadata": {},
   "source": [
    "### CONSUMO DE ALCOHOL"
   ]
  },
  {
   "cell_type": "code",
   "execution_count": 29,
   "metadata": {},
   "outputs": [
    {
     "data": {
      "text/html": [
       "<div>\n",
       "<style scoped>\n",
       "    .dataframe tbody tr th:only-of-type {\n",
       "        vertical-align: middle;\n",
       "    }\n",
       "\n",
       "    .dataframe tbody tr th {\n",
       "        vertical-align: top;\n",
       "    }\n",
       "\n",
       "    .dataframe thead th {\n",
       "        text-align: right;\n",
       "    }\n",
       "</style>\n",
       "<table border=\"1\" class=\"dataframe\">\n",
       "  <thead>\n",
       "    <tr style=\"text-align: right;\">\n",
       "      <th></th>\n",
       "      <th>id</th>\n",
       "      <th>bica01</th>\n",
       "      <th>bica02</th>\n",
       "      <th>bica03_01</th>\n",
       "      <th>bica03_02</th>\n",
       "      <th>bica03_99</th>\n",
       "      <th>bica04_01_b</th>\n",
       "      <th>bica04_01_c</th>\n",
       "      <th>bica04_02_b</th>\n",
       "      <th>bica04_02_c</th>\n",
       "      <th>...</th>\n",
       "      <th>bica05_01_b</th>\n",
       "      <th>bica05_01_c</th>\n",
       "      <th>bica05_02_b</th>\n",
       "      <th>bica05_02_c</th>\n",
       "      <th>bica05_03_b</th>\n",
       "      <th>bica05_03_c</th>\n",
       "      <th>bica05_04</th>\n",
       "      <th>bica06</th>\n",
       "      <th>bica07</th>\n",
       "      <th>consumo_regular_riesgo</th>\n",
       "    </tr>\n",
       "  </thead>\n",
       "  <tbody>\n",
       "    <tr>\n",
       "      <th>0</th>\n",
       "      <td>1128639</td>\n",
       "      <td>1</td>\n",
       "      <td>1.0</td>\n",
       "      <td>1.0</td>\n",
       "      <td>NaN</td>\n",
       "      <td>NaN</td>\n",
       "      <td>1.0</td>\n",
       "      <td>NaN</td>\n",
       "      <td>NaN</td>\n",
       "      <td>98.0</td>\n",
       "      <td>...</td>\n",
       "      <td>3.0</td>\n",
       "      <td>NaN</td>\n",
       "      <td>1.0</td>\n",
       "      <td>NaN</td>\n",
       "      <td>NaN</td>\n",
       "      <td>98.0</td>\n",
       "      <td>2.0</td>\n",
       "      <td>2.0</td>\n",
       "      <td>2</td>\n",
       "      <td>2.0</td>\n",
       "    </tr>\n",
       "    <tr>\n",
       "      <th>1</th>\n",
       "      <td>1709939</td>\n",
       "      <td>1</td>\n",
       "      <td>1.0</td>\n",
       "      <td>NaN</td>\n",
       "      <td>1.0</td>\n",
       "      <td>NaN</td>\n",
       "      <td>NaN</td>\n",
       "      <td>98.0</td>\n",
       "      <td>1.0</td>\n",
       "      <td>NaN</td>\n",
       "      <td>...</td>\n",
       "      <td>NaN</td>\n",
       "      <td>98.0</td>\n",
       "      <td>NaN</td>\n",
       "      <td>98.0</td>\n",
       "      <td>NaN</td>\n",
       "      <td>98.0</td>\n",
       "      <td>2.0</td>\n",
       "      <td>2.0</td>\n",
       "      <td>2</td>\n",
       "      <td>2.0</td>\n",
       "    </tr>\n",
       "    <tr>\n",
       "      <th>2</th>\n",
       "      <td>6874130</td>\n",
       "      <td>1</td>\n",
       "      <td>2.0</td>\n",
       "      <td>NaN</td>\n",
       "      <td>NaN</td>\n",
       "      <td>NaN</td>\n",
       "      <td>NaN</td>\n",
       "      <td>NaN</td>\n",
       "      <td>NaN</td>\n",
       "      <td>NaN</td>\n",
       "      <td>...</td>\n",
       "      <td>NaN</td>\n",
       "      <td>NaN</td>\n",
       "      <td>NaN</td>\n",
       "      <td>NaN</td>\n",
       "      <td>NaN</td>\n",
       "      <td>NaN</td>\n",
       "      <td>NaN</td>\n",
       "      <td>NaN</td>\n",
       "      <td>2</td>\n",
       "      <td>2.0</td>\n",
       "    </tr>\n",
       "    <tr>\n",
       "      <th>3</th>\n",
       "      <td>10319375</td>\n",
       "      <td>1</td>\n",
       "      <td>3.0</td>\n",
       "      <td>NaN</td>\n",
       "      <td>NaN</td>\n",
       "      <td>NaN</td>\n",
       "      <td>NaN</td>\n",
       "      <td>NaN</td>\n",
       "      <td>NaN</td>\n",
       "      <td>NaN</td>\n",
       "      <td>...</td>\n",
       "      <td>NaN</td>\n",
       "      <td>NaN</td>\n",
       "      <td>NaN</td>\n",
       "      <td>NaN</td>\n",
       "      <td>NaN</td>\n",
       "      <td>NaN</td>\n",
       "      <td>NaN</td>\n",
       "      <td>NaN</td>\n",
       "      <td>1</td>\n",
       "      <td>2.0</td>\n",
       "    </tr>\n",
       "    <tr>\n",
       "      <th>4</th>\n",
       "      <td>11140857</td>\n",
       "      <td>1</td>\n",
       "      <td>1.0</td>\n",
       "      <td>1.0</td>\n",
       "      <td>NaN</td>\n",
       "      <td>NaN</td>\n",
       "      <td>1.5</td>\n",
       "      <td>NaN</td>\n",
       "      <td>NaN</td>\n",
       "      <td>98.0</td>\n",
       "      <td>...</td>\n",
       "      <td>NaN</td>\n",
       "      <td>98.0</td>\n",
       "      <td>NaN</td>\n",
       "      <td>98.0</td>\n",
       "      <td>NaN</td>\n",
       "      <td>98.0</td>\n",
       "      <td>2.0</td>\n",
       "      <td>2.0</td>\n",
       "      <td>99</td>\n",
       "      <td>2.0</td>\n",
       "    </tr>\n",
       "    <tr>\n",
       "      <th>...</th>\n",
       "      <td>...</td>\n",
       "      <td>...</td>\n",
       "      <td>...</td>\n",
       "      <td>...</td>\n",
       "      <td>...</td>\n",
       "      <td>...</td>\n",
       "      <td>...</td>\n",
       "      <td>...</td>\n",
       "      <td>...</td>\n",
       "      <td>...</td>\n",
       "      <td>...</td>\n",
       "      <td>...</td>\n",
       "      <td>...</td>\n",
       "      <td>...</td>\n",
       "      <td>...</td>\n",
       "      <td>...</td>\n",
       "      <td>...</td>\n",
       "      <td>...</td>\n",
       "      <td>...</td>\n",
       "      <td>...</td>\n",
       "      <td>...</td>\n",
       "    </tr>\n",
       "    <tr>\n",
       "      <th>29219</th>\n",
       "      <td>2092256226</td>\n",
       "      <td>1</td>\n",
       "      <td>1.0</td>\n",
       "      <td>1.0</td>\n",
       "      <td>NaN</td>\n",
       "      <td>NaN</td>\n",
       "      <td>6.0</td>\n",
       "      <td>NaN</td>\n",
       "      <td>NaN</td>\n",
       "      <td>98.0</td>\n",
       "      <td>...</td>\n",
       "      <td>12.0</td>\n",
       "      <td>NaN</td>\n",
       "      <td>NaN</td>\n",
       "      <td>98.0</td>\n",
       "      <td>NaN</td>\n",
       "      <td>98.0</td>\n",
       "      <td>2.0</td>\n",
       "      <td>2.0</td>\n",
       "      <td>2</td>\n",
       "      <td>2.0</td>\n",
       "    </tr>\n",
       "    <tr>\n",
       "      <th>29220</th>\n",
       "      <td>2097771079</td>\n",
       "      <td>1</td>\n",
       "      <td>1.0</td>\n",
       "      <td>1.0</td>\n",
       "      <td>NaN</td>\n",
       "      <td>NaN</td>\n",
       "      <td>1.7</td>\n",
       "      <td>NaN</td>\n",
       "      <td>1.0</td>\n",
       "      <td>NaN</td>\n",
       "      <td>...</td>\n",
       "      <td>NaN</td>\n",
       "      <td>98.0</td>\n",
       "      <td>NaN</td>\n",
       "      <td>98.0</td>\n",
       "      <td>NaN</td>\n",
       "      <td>98.0</td>\n",
       "      <td>2.0</td>\n",
       "      <td>2.0</td>\n",
       "      <td>1</td>\n",
       "      <td>2.0</td>\n",
       "    </tr>\n",
       "    <tr>\n",
       "      <th>29221</th>\n",
       "      <td>2101464264</td>\n",
       "      <td>2</td>\n",
       "      <td>NaN</td>\n",
       "      <td>NaN</td>\n",
       "      <td>NaN</td>\n",
       "      <td>NaN</td>\n",
       "      <td>NaN</td>\n",
       "      <td>NaN</td>\n",
       "      <td>NaN</td>\n",
       "      <td>NaN</td>\n",
       "      <td>...</td>\n",
       "      <td>NaN</td>\n",
       "      <td>NaN</td>\n",
       "      <td>NaN</td>\n",
       "      <td>NaN</td>\n",
       "      <td>NaN</td>\n",
       "      <td>NaN</td>\n",
       "      <td>NaN</td>\n",
       "      <td>NaN</td>\n",
       "      <td>1</td>\n",
       "      <td>2.0</td>\n",
       "    </tr>\n",
       "    <tr>\n",
       "      <th>29222</th>\n",
       "      <td>2116612011</td>\n",
       "      <td>2</td>\n",
       "      <td>NaN</td>\n",
       "      <td>NaN</td>\n",
       "      <td>NaN</td>\n",
       "      <td>NaN</td>\n",
       "      <td>NaN</td>\n",
       "      <td>NaN</td>\n",
       "      <td>NaN</td>\n",
       "      <td>NaN</td>\n",
       "      <td>...</td>\n",
       "      <td>NaN</td>\n",
       "      <td>NaN</td>\n",
       "      <td>NaN</td>\n",
       "      <td>NaN</td>\n",
       "      <td>NaN</td>\n",
       "      <td>NaN</td>\n",
       "      <td>NaN</td>\n",
       "      <td>NaN</td>\n",
       "      <td>1</td>\n",
       "      <td>2.0</td>\n",
       "    </tr>\n",
       "    <tr>\n",
       "      <th>29223</th>\n",
       "      <td>2134624977</td>\n",
       "      <td>1</td>\n",
       "      <td>2.0</td>\n",
       "      <td>NaN</td>\n",
       "      <td>NaN</td>\n",
       "      <td>NaN</td>\n",
       "      <td>NaN</td>\n",
       "      <td>NaN</td>\n",
       "      <td>NaN</td>\n",
       "      <td>NaN</td>\n",
       "      <td>...</td>\n",
       "      <td>NaN</td>\n",
       "      <td>NaN</td>\n",
       "      <td>NaN</td>\n",
       "      <td>NaN</td>\n",
       "      <td>NaN</td>\n",
       "      <td>NaN</td>\n",
       "      <td>NaN</td>\n",
       "      <td>NaN</td>\n",
       "      <td>1</td>\n",
       "      <td>2.0</td>\n",
       "    </tr>\n",
       "  </tbody>\n",
       "</table>\n",
       "<p>29224 rows × 23 columns</p>\n",
       "</div>"
      ],
      "text/plain": [
       "               id  bica01  bica02  bica03_01  bica03_02  bica03_99  \\\n",
       "0         1128639       1     1.0        1.0        NaN        NaN   \n",
       "1         1709939       1     1.0        NaN        1.0        NaN   \n",
       "2         6874130       1     2.0        NaN        NaN        NaN   \n",
       "3        10319375       1     3.0        NaN        NaN        NaN   \n",
       "4        11140857       1     1.0        1.0        NaN        NaN   \n",
       "...           ...     ...     ...        ...        ...        ...   \n",
       "29219  2092256226       1     1.0        1.0        NaN        NaN   \n",
       "29220  2097771079       1     1.0        1.0        NaN        NaN   \n",
       "29221  2101464264       2     NaN        NaN        NaN        NaN   \n",
       "29222  2116612011       2     NaN        NaN        NaN        NaN   \n",
       "29223  2134624977       1     2.0        NaN        NaN        NaN   \n",
       "\n",
       "       bica04_01_b  bica04_01_c  bica04_02_b  bica04_02_c  ...  bica05_01_b  \\\n",
       "0              1.0          NaN          NaN         98.0  ...          3.0   \n",
       "1              NaN         98.0          1.0          NaN  ...          NaN   \n",
       "2              NaN          NaN          NaN          NaN  ...          NaN   \n",
       "3              NaN          NaN          NaN          NaN  ...          NaN   \n",
       "4              1.5          NaN          NaN         98.0  ...          NaN   \n",
       "...            ...          ...          ...          ...  ...          ...   \n",
       "29219          6.0          NaN          NaN         98.0  ...         12.0   \n",
       "29220          1.7          NaN          1.0          NaN  ...          NaN   \n",
       "29221          NaN          NaN          NaN          NaN  ...          NaN   \n",
       "29222          NaN          NaN          NaN          NaN  ...          NaN   \n",
       "29223          NaN          NaN          NaN          NaN  ...          NaN   \n",
       "\n",
       "       bica05_01_c  bica05_02_b  bica05_02_c  bica05_03_b  bica05_03_c  \\\n",
       "0              NaN          1.0          NaN          NaN         98.0   \n",
       "1             98.0          NaN         98.0          NaN         98.0   \n",
       "2              NaN          NaN          NaN          NaN          NaN   \n",
       "3              NaN          NaN          NaN          NaN          NaN   \n",
       "4             98.0          NaN         98.0          NaN         98.0   \n",
       "...            ...          ...          ...          ...          ...   \n",
       "29219          NaN          NaN         98.0          NaN         98.0   \n",
       "29220         98.0          NaN         98.0          NaN         98.0   \n",
       "29221          NaN          NaN          NaN          NaN          NaN   \n",
       "29222          NaN          NaN          NaN          NaN          NaN   \n",
       "29223          NaN          NaN          NaN          NaN          NaN   \n",
       "\n",
       "       bica05_04  bica06  bica07  consumo_regular_riesgo  \n",
       "0            2.0     2.0       2                     2.0  \n",
       "1            2.0     2.0       2                     2.0  \n",
       "2            NaN     NaN       2                     2.0  \n",
       "3            NaN     NaN       1                     2.0  \n",
       "4            2.0     2.0      99                     2.0  \n",
       "...          ...     ...     ...                     ...  \n",
       "29219        2.0     2.0       2                     2.0  \n",
       "29220        2.0     2.0       1                     2.0  \n",
       "29221        NaN     NaN       1                     2.0  \n",
       "29222        NaN     NaN       1                     2.0  \n",
       "29223        NaN     NaN       1                     2.0  \n",
       "\n",
       "[29224 rows x 23 columns]"
      ]
     },
     "execution_count": 29,
     "metadata": {},
     "output_type": "execute_result"
    }
   ],
   "source": [
    "consumo_alcohol_raw"
   ]
  },
  {
   "cell_type": "code",
   "execution_count": 30,
   "metadata": {},
   "outputs": [],
   "source": [
    "# Renombro las columnas\n",
    "consumo_alcohol_raw.rename( columns = {\n",
    "    'bica01': 'ha_consumido_alc',\n",
    "    'bica02': 'fecha_ult_cons',\n",
    "    'bica03_01': 'freq_30_ds',\n",
    "    'bica03_02': 'freq_30_dm',\n",
    "    'bica03_99': 'freq_30_nsnc',\n",
    "    'bica04_01_b': 'tragos_cerveza',\n",
    "    'bica04_01_c': 'tragos_cerveza_notoma',\n",
    "    'bica04_02_b': 'tragos_vino',\n",
    "    'bica04_02_c': 'tragos_vino_notoma',\n",
    "    'bica04_03_b': 'tragos_bebida_fuerte',\n",
    "    'bica04_03_c': 'tragos_bebida_fuerte_notoma',\n",
    "    'bica04_04': 'toma_otras_bebidas',\n",
    "    'bica05_01_b': 'sobrecon_cant_cerveza',\n",
    "    'bica05_01_c': 'sobrecon_cerv_notoma',\n",
    "    'bica05_02_b': 'sobrecon_cant_vino',\n",
    "    'bica05_02_c': 'sobrecon_vino_notoma',\n",
    "    'bica05_03_b': 'sobrecon_cant_bebfuerte',\n",
    "    'bica05_03_c': 'sobrecon_bebfuerte_notoma',\n",
    "    'bica05_04': 'sobrecon_otrasb',\n",
    "    'bica06': 'manejo_alcholizado30',\n",
    "    'bica07': 'aprueba_aumento_imp_alchol'\n",
    "}, inplace= True)"
   ]
  },
  {
   "cell_type": "code",
   "execution_count": 32,
   "metadata": {},
   "outputs": [],
   "source": [
    "# Voy a comenzar filtrando solo los consumos dentro de 30 dias que son los que me importan\n",
    "# asigno valor nan a los ns/nc\n",
    "reemplazos = {\n",
    "    99:np.nan\n",
    "}\n",
    "consumo_alcohol_raw['fecha_ult_cons'] = consumo_alcohol_raw['fecha_ult_cons'].replace(reemplazos)\n",
    "consumo_alcohol_raw['ha_consumido_alc'] = consumo_alcohol_raw['ha_consumido_alc'].replace(reemplazos)\n"
   ]
  },
  {
   "cell_type": "code",
   "execution_count": 33,
   "metadata": {},
   "outputs": [],
   "source": [
    "# Ahora voy a convertir la columna de dias a la semana a dias al mes y combinarlas en una'freq_30_dm 'freq_30_ds'\n",
    "consumo_alcohol_raw.freq_30_ds = consumo_alcohol_raw.freq_30_ds * 4"
   ]
  },
  {
   "cell_type": "code",
   "execution_count": 34,
   "metadata": {},
   "outputs": [
    {
     "data": {
      "text/html": [
       "<div>\n",
       "<style scoped>\n",
       "    .dataframe tbody tr th:only-of-type {\n",
       "        vertical-align: middle;\n",
       "    }\n",
       "\n",
       "    .dataframe tbody tr th {\n",
       "        vertical-align: top;\n",
       "    }\n",
       "\n",
       "    .dataframe thead th {\n",
       "        text-align: right;\n",
       "    }\n",
       "</style>\n",
       "<table border=\"1\" class=\"dataframe\">\n",
       "  <thead>\n",
       "    <tr style=\"text-align: right;\">\n",
       "      <th></th>\n",
       "      <th>id</th>\n",
       "      <th>ha_consumido_alc</th>\n",
       "      <th>fecha_ult_cons</th>\n",
       "      <th>freq_30_ds</th>\n",
       "      <th>freq_30_dm</th>\n",
       "      <th>freq_30_nsnc</th>\n",
       "      <th>tragos_cerveza</th>\n",
       "      <th>tragos_cerveza_notoma</th>\n",
       "      <th>tragos_vino</th>\n",
       "      <th>tragos_vino_notoma</th>\n",
       "      <th>...</th>\n",
       "      <th>sobrecon_cant_cerveza</th>\n",
       "      <th>sobrecon_cerv_notoma</th>\n",
       "      <th>sobrecon_cant_vino</th>\n",
       "      <th>sobrecon_vino_notoma</th>\n",
       "      <th>sobrecon_cant_bebfuerte</th>\n",
       "      <th>sobrecon_bebfuerte_notoma</th>\n",
       "      <th>sobrecon_otrasb</th>\n",
       "      <th>manejo_alcholizado30</th>\n",
       "      <th>aprueba_aumento_imp_alchol</th>\n",
       "      <th>consumo_regular_riesgo</th>\n",
       "    </tr>\n",
       "  </thead>\n",
       "  <tbody>\n",
       "    <tr>\n",
       "      <th>0</th>\n",
       "      <td>1128639</td>\n",
       "      <td>1.0</td>\n",
       "      <td>1.0</td>\n",
       "      <td>4.0</td>\n",
       "      <td>NaN</td>\n",
       "      <td>NaN</td>\n",
       "      <td>1.0</td>\n",
       "      <td>NaN</td>\n",
       "      <td>NaN</td>\n",
       "      <td>98.0</td>\n",
       "      <td>...</td>\n",
       "      <td>3.0</td>\n",
       "      <td>NaN</td>\n",
       "      <td>1.0</td>\n",
       "      <td>NaN</td>\n",
       "      <td>NaN</td>\n",
       "      <td>98.0</td>\n",
       "      <td>2.0</td>\n",
       "      <td>2.0</td>\n",
       "      <td>2</td>\n",
       "      <td>2.0</td>\n",
       "    </tr>\n",
       "    <tr>\n",
       "      <th>1</th>\n",
       "      <td>1709939</td>\n",
       "      <td>1.0</td>\n",
       "      <td>1.0</td>\n",
       "      <td>NaN</td>\n",
       "      <td>1.0</td>\n",
       "      <td>NaN</td>\n",
       "      <td>NaN</td>\n",
       "      <td>98.0</td>\n",
       "      <td>1.0</td>\n",
       "      <td>NaN</td>\n",
       "      <td>...</td>\n",
       "      <td>NaN</td>\n",
       "      <td>98.0</td>\n",
       "      <td>NaN</td>\n",
       "      <td>98.0</td>\n",
       "      <td>NaN</td>\n",
       "      <td>98.0</td>\n",
       "      <td>2.0</td>\n",
       "      <td>2.0</td>\n",
       "      <td>2</td>\n",
       "      <td>2.0</td>\n",
       "    </tr>\n",
       "    <tr>\n",
       "      <th>2</th>\n",
       "      <td>6874130</td>\n",
       "      <td>1.0</td>\n",
       "      <td>2.0</td>\n",
       "      <td>NaN</td>\n",
       "      <td>NaN</td>\n",
       "      <td>NaN</td>\n",
       "      <td>NaN</td>\n",
       "      <td>NaN</td>\n",
       "      <td>NaN</td>\n",
       "      <td>NaN</td>\n",
       "      <td>...</td>\n",
       "      <td>NaN</td>\n",
       "      <td>NaN</td>\n",
       "      <td>NaN</td>\n",
       "      <td>NaN</td>\n",
       "      <td>NaN</td>\n",
       "      <td>NaN</td>\n",
       "      <td>NaN</td>\n",
       "      <td>NaN</td>\n",
       "      <td>2</td>\n",
       "      <td>2.0</td>\n",
       "    </tr>\n",
       "    <tr>\n",
       "      <th>3</th>\n",
       "      <td>10319375</td>\n",
       "      <td>1.0</td>\n",
       "      <td>3.0</td>\n",
       "      <td>NaN</td>\n",
       "      <td>NaN</td>\n",
       "      <td>NaN</td>\n",
       "      <td>NaN</td>\n",
       "      <td>NaN</td>\n",
       "      <td>NaN</td>\n",
       "      <td>NaN</td>\n",
       "      <td>...</td>\n",
       "      <td>NaN</td>\n",
       "      <td>NaN</td>\n",
       "      <td>NaN</td>\n",
       "      <td>NaN</td>\n",
       "      <td>NaN</td>\n",
       "      <td>NaN</td>\n",
       "      <td>NaN</td>\n",
       "      <td>NaN</td>\n",
       "      <td>1</td>\n",
       "      <td>2.0</td>\n",
       "    </tr>\n",
       "    <tr>\n",
       "      <th>4</th>\n",
       "      <td>11140857</td>\n",
       "      <td>1.0</td>\n",
       "      <td>1.0</td>\n",
       "      <td>4.0</td>\n",
       "      <td>NaN</td>\n",
       "      <td>NaN</td>\n",
       "      <td>1.5</td>\n",
       "      <td>NaN</td>\n",
       "      <td>NaN</td>\n",
       "      <td>98.0</td>\n",
       "      <td>...</td>\n",
       "      <td>NaN</td>\n",
       "      <td>98.0</td>\n",
       "      <td>NaN</td>\n",
       "      <td>98.0</td>\n",
       "      <td>NaN</td>\n",
       "      <td>98.0</td>\n",
       "      <td>2.0</td>\n",
       "      <td>2.0</td>\n",
       "      <td>99</td>\n",
       "      <td>2.0</td>\n",
       "    </tr>\n",
       "  </tbody>\n",
       "</table>\n",
       "<p>5 rows × 23 columns</p>\n",
       "</div>"
      ],
      "text/plain": [
       "         id  ha_consumido_alc  fecha_ult_cons  freq_30_ds  freq_30_dm  \\\n",
       "0   1128639               1.0             1.0         4.0         NaN   \n",
       "1   1709939               1.0             1.0         NaN         1.0   \n",
       "2   6874130               1.0             2.0         NaN         NaN   \n",
       "3  10319375               1.0             3.0         NaN         NaN   \n",
       "4  11140857               1.0             1.0         4.0         NaN   \n",
       "\n",
       "   freq_30_nsnc  tragos_cerveza  tragos_cerveza_notoma  tragos_vino  \\\n",
       "0           NaN             1.0                    NaN          NaN   \n",
       "1           NaN             NaN                   98.0          1.0   \n",
       "2           NaN             NaN                    NaN          NaN   \n",
       "3           NaN             NaN                    NaN          NaN   \n",
       "4           NaN             1.5                    NaN          NaN   \n",
       "\n",
       "   tragos_vino_notoma  ...  sobrecon_cant_cerveza  sobrecon_cerv_notoma  \\\n",
       "0                98.0  ...                    3.0                   NaN   \n",
       "1                 NaN  ...                    NaN                  98.0   \n",
       "2                 NaN  ...                    NaN                   NaN   \n",
       "3                 NaN  ...                    NaN                   NaN   \n",
       "4                98.0  ...                    NaN                  98.0   \n",
       "\n",
       "   sobrecon_cant_vino  sobrecon_vino_notoma  sobrecon_cant_bebfuerte  \\\n",
       "0                 1.0                   NaN                      NaN   \n",
       "1                 NaN                  98.0                      NaN   \n",
       "2                 NaN                   NaN                      NaN   \n",
       "3                 NaN                   NaN                      NaN   \n",
       "4                 NaN                  98.0                      NaN   \n",
       "\n",
       "   sobrecon_bebfuerte_notoma  sobrecon_otrasb  manejo_alcholizado30  \\\n",
       "0                       98.0              2.0                   2.0   \n",
       "1                       98.0              2.0                   2.0   \n",
       "2                        NaN              NaN                   NaN   \n",
       "3                        NaN              NaN                   NaN   \n",
       "4                       98.0              2.0                   2.0   \n",
       "\n",
       "   aprueba_aumento_imp_alchol  consumo_regular_riesgo  \n",
       "0                           2                     2.0  \n",
       "1                           2                     2.0  \n",
       "2                           2                     2.0  \n",
       "3                           1                     2.0  \n",
       "4                          99                     2.0  \n",
       "\n",
       "[5 rows x 23 columns]"
      ]
     },
     "execution_count": 34,
     "metadata": {},
     "output_type": "execute_result"
    }
   ],
   "source": [
    "consumo_alcohol_raw.head()"
   ]
  },
  {
   "cell_type": "code",
   "execution_count": 35,
   "metadata": {},
   "outputs": [],
   "source": [
    "#uno las dos columnas en una nueva\n",
    "consumo_alcohol_raw['consumo_mensual'] = consumo_alcohol_raw.freq_30_dm.combine_first(consumo_alcohol_raw.freq_30_ds)"
   ]
  },
  {
   "cell_type": "code",
   "execution_count": 36,
   "metadata": {},
   "outputs": [
    {
     "data": {
      "text/html": [
       "<div>\n",
       "<style scoped>\n",
       "    .dataframe tbody tr th:only-of-type {\n",
       "        vertical-align: middle;\n",
       "    }\n",
       "\n",
       "    .dataframe tbody tr th {\n",
       "        vertical-align: top;\n",
       "    }\n",
       "\n",
       "    .dataframe thead th {\n",
       "        text-align: right;\n",
       "    }\n",
       "</style>\n",
       "<table border=\"1\" class=\"dataframe\">\n",
       "  <thead>\n",
       "    <tr style=\"text-align: right;\">\n",
       "      <th></th>\n",
       "      <th>id</th>\n",
       "      <th>ha_consumido_alc</th>\n",
       "      <th>fecha_ult_cons</th>\n",
       "      <th>consumo_mensual</th>\n",
       "    </tr>\n",
       "  </thead>\n",
       "  <tbody>\n",
       "    <tr>\n",
       "      <th>14300</th>\n",
       "      <td>1144545361</td>\n",
       "      <td>1.0</td>\n",
       "      <td>1.0</td>\n",
       "      <td>1.0</td>\n",
       "    </tr>\n",
       "    <tr>\n",
       "      <th>9498</th>\n",
       "      <td>745910909</td>\n",
       "      <td>1.0</td>\n",
       "      <td>2.0</td>\n",
       "      <td>NaN</td>\n",
       "    </tr>\n",
       "    <tr>\n",
       "      <th>7417</th>\n",
       "      <td>520253453</td>\n",
       "      <td>2.0</td>\n",
       "      <td>NaN</td>\n",
       "      <td>NaN</td>\n",
       "    </tr>\n",
       "    <tr>\n",
       "      <th>28069</th>\n",
       "      <td>1720566944</td>\n",
       "      <td>1.0</td>\n",
       "      <td>1.0</td>\n",
       "      <td>8.0</td>\n",
       "    </tr>\n",
       "    <tr>\n",
       "      <th>23217</th>\n",
       "      <td>1242790407</td>\n",
       "      <td>1.0</td>\n",
       "      <td>1.0</td>\n",
       "      <td>28.0</td>\n",
       "    </tr>\n",
       "  </tbody>\n",
       "</table>\n",
       "</div>"
      ],
      "text/plain": [
       "               id  ha_consumido_alc  fecha_ult_cons  consumo_mensual\n",
       "14300  1144545361               1.0             1.0              1.0\n",
       "9498    745910909               1.0             2.0              NaN\n",
       "7417    520253453               2.0             NaN              NaN\n",
       "28069  1720566944               1.0             1.0              8.0\n",
       "23217  1242790407               1.0             1.0             28.0"
      ]
     },
     "execution_count": 36,
     "metadata": {},
     "output_type": "execute_result"
    }
   ],
   "source": [
    "# Filtro solo las columnas utiles en una tabla auxiliar, con esperanza de optimizar el proceso de creacion de la tabla de frecuencia de consumo\n",
    "tabla_aux_ca = consumo_alcohol_raw.filter(items=['id','ha_consumido_alc', 'fecha_ult_cons','consumo_mensual'])\n",
    "tabla_aux_ca.sample(5)"
   ]
  },
  {
   "cell_type": "code",
   "execution_count": 37,
   "metadata": {},
   "outputs": [
    {
     "name": "stdout",
     "output_type": "stream",
     "text": [
      "[ 1.  2. nan]\n",
      "[ 1.  2.  3. nan]\n",
      "[ 4.  1. nan 12.  2. 28. 30.  8. 20. 16.  7.  3.  6. 15. 10.  5. 24. 25.\n",
      "  9. 13. 14. 26.]\n"
     ]
    }
   ],
   "source": [
    "# Chequeo los valores que componen cada una de mis columnas\n",
    "print(tabla_aux_ca.ha_consumido_alc.unique())\n",
    "print(tabla_aux_ca.fecha_ult_cons.unique())\n",
    "print(tabla_aux_ca.consumo_mensual.unique())"
   ]
  },
  {
   "cell_type": "code",
   "execution_count": 38,
   "metadata": {},
   "outputs": [],
   "source": [
    "def calcular_frecuencia_detallada(row):\n",
    "    if row[\"ha_consumido_alc\"] == 2:\n",
    "        return 100\n",
    "    elif row[\"ha_consumido_alc\"] == 1:\n",
    "        if pd.isna(row[\"fecha_ult_cons\"]):\n",
    "            return 404\n",
    "        elif row[\"fecha_ult_cons\"] == 3:\n",
    "            return 200\n",
    "        elif row[\"fecha_ult_cons\"] == 2:\n",
    "            return 300\n",
    "        elif row[\"fecha_ult_cons\"] == 1:\n",
    "            if pd.isna(row['consumo_mensual']):\n",
    "                return 404\n",
    "            consumo_mensual = int(row['consumo_mensual'])\n",
    "            if consumo_mensual >= 15:\n",
    "                return 400\n",
    "            else:\n",
    "                return 500\n",
    "    return 404"
   ]
  },
  {
   "cell_type": "code",
   "execution_count": 39,
   "metadata": {},
   "outputs": [
    {
     "data": {
      "text/html": [
       "<div>\n",
       "<style scoped>\n",
       "    .dataframe tbody tr th:only-of-type {\n",
       "        vertical-align: middle;\n",
       "    }\n",
       "\n",
       "    .dataframe tbody tr th {\n",
       "        vertical-align: top;\n",
       "    }\n",
       "\n",
       "    .dataframe thead th {\n",
       "        text-align: right;\n",
       "    }\n",
       "</style>\n",
       "<table border=\"1\" class=\"dataframe\">\n",
       "  <thead>\n",
       "    <tr style=\"text-align: right;\">\n",
       "      <th></th>\n",
       "      <th>id</th>\n",
       "      <th>ha_consumido_alc</th>\n",
       "      <th>fecha_ult_cons</th>\n",
       "      <th>consumo_mensual</th>\n",
       "      <th>freq_cons_alc</th>\n",
       "    </tr>\n",
       "  </thead>\n",
       "  <tbody>\n",
       "    <tr>\n",
       "      <th>16957</th>\n",
       "      <td>502435252</td>\n",
       "      <td>1.0</td>\n",
       "      <td>2.0</td>\n",
       "      <td>NaN</td>\n",
       "      <td>300</td>\n",
       "    </tr>\n",
       "    <tr>\n",
       "      <th>22759</th>\n",
       "      <td>277242896</td>\n",
       "      <td>1.0</td>\n",
       "      <td>1.0</td>\n",
       "      <td>8.0</td>\n",
       "      <td>500</td>\n",
       "    </tr>\n",
       "    <tr>\n",
       "      <th>12471</th>\n",
       "      <td>1626047949</td>\n",
       "      <td>1.0</td>\n",
       "      <td>3.0</td>\n",
       "      <td>NaN</td>\n",
       "      <td>200</td>\n",
       "    </tr>\n",
       "    <tr>\n",
       "      <th>22870</th>\n",
       "      <td>509852780</td>\n",
       "      <td>1.0</td>\n",
       "      <td>1.0</td>\n",
       "      <td>4.0</td>\n",
       "      <td>500</td>\n",
       "    </tr>\n",
       "    <tr>\n",
       "      <th>2546</th>\n",
       "      <td>1127391204</td>\n",
       "      <td>1.0</td>\n",
       "      <td>2.0</td>\n",
       "      <td>NaN</td>\n",
       "      <td>300</td>\n",
       "    </tr>\n",
       "  </tbody>\n",
       "</table>\n",
       "</div>"
      ],
      "text/plain": [
       "               id  ha_consumido_alc  fecha_ult_cons  consumo_mensual  \\\n",
       "16957   502435252               1.0             2.0              NaN   \n",
       "22759   277242896               1.0             1.0              8.0   \n",
       "12471  1626047949               1.0             3.0              NaN   \n",
       "22870   509852780               1.0             1.0              4.0   \n",
       "2546   1127391204               1.0             2.0              NaN   \n",
       "\n",
       "       freq_cons_alc  \n",
       "16957            300  \n",
       "22759            500  \n",
       "12471            200  \n",
       "22870            500  \n",
       "2546             300  "
      ]
     },
     "execution_count": 39,
     "metadata": {},
     "output_type": "execute_result"
    }
   ],
   "source": [
    "tabla_aux_ca['freq_cons_alc'] = tabla_aux_ca.apply(calcular_frecuencia_detallada, axis=1)\n",
    "tabla_aux_ca.sample(5)"
   ]
  },
  {
   "cell_type": "code",
   "execution_count": 40,
   "metadata": {},
   "outputs": [],
   "source": [
    "#agrego mi columna calculada y chekeada a la tabla de alcolismo\n",
    "consumo_alcohol_raw = pd.merge(consumo_alcohol_raw,tabla_aux_ca, how='left',on='id')"
   ]
  },
  {
   "cell_type": "markdown",
   "metadata": {},
   "source": [
    "__Ahora combino las columnas para los tipos de bebida__"
   ]
  },
  {
   "cell_type": "code",
   "execution_count": 41,
   "metadata": {},
   "outputs": [],
   "source": [
    "# Primero defino una funcion, que como indica, transforma en 1 la columna correspondiente a los tragos de x bebidas, y en 0 las respuestas positivas a no toma x bebida y luego las combina en 1 para indicar si toma o no esa bebida\n",
    "\n",
    "def combinar_y_transformar(col1, col2):\n",
    "    transformacioncol1 = col1.apply(lambda x: 1 if pd.notna(x) else x)\n",
    "    transformacioncol2 = col2.apply(lambda x: 0 if pd.notna(x) else x)\n",
    "    combinacioncols = transformacioncol1.combine_first(transformacioncol2)\n",
    "    return combinacioncols"
   ]
  },
  {
   "cell_type": "code",
   "execution_count": 42,
   "metadata": {},
   "outputs": [],
   "source": [
    "# Creo una columna para cada bebida para indicar 1: si toma, 0: si no toma esa bebida\n",
    "consumo_alcohol_raw['consumo_vino'] = combinar_y_transformar(consumo_alcohol_raw.tragos_vino,consumo_alcohol_raw.tragos_vino_notoma)\n",
    "consumo_alcohol_raw['consumo_cerveza'] = combinar_y_transformar(consumo_alcohol_raw.tragos_cerveza,consumo_alcohol_raw.tragos_cerveza_notoma)\n",
    "consumo_alcohol_raw['consumo_bebidas_fuertes'] = combinar_y_transformar(consumo_alcohol_raw.tragos_bebida_fuerte, consumo_alcohol_raw.tragos_bebida_fuerte_notoma)"
   ]
  },
  {
   "cell_type": "code",
   "execution_count": 43,
   "metadata": {},
   "outputs": [],
   "source": [
    "# Reemplazo los valores 2 por 0, para que concuerden con las otras categorias (use 1 y 0 para facilitar calculos posteriores)\n",
    "consumo_alcohol_raw['toma_otras_bebidas'] = consumo_alcohol_raw['toma_otras_bebidas'].replace(2,0)"
   ]
  },
  {
   "cell_type": "markdown",
   "metadata": {},
   "source": [
    "__Voy a utilizar las siguientes columnas__\n",
    "'id',''freq_cons_alc','consumo_vino', 'consumo_cerveza', 'consumo_bebidas_fuertes', 'toma_otras_bebidas'"
   ]
  },
  {
   "cell_type": "code",
   "execution_count": 44,
   "metadata": {},
   "outputs": [],
   "source": [
    "# Defino la funcion para determiar si toma una o varias bebidas\n",
    "def combinar_consumo(row):\n",
    "    bebidas = []\n",
    "    if row['consumo_vino'] == 1:\n",
    "        bebidas.append(1)\n",
    "    if row['consumo_cerveza'] == 1:\n",
    "        bebidas.append(2)\n",
    "    if row['consumo_bebidas_fuertes'] == 1:\n",
    "        bebidas.append(3)\n",
    "    if row['toma_otras_bebidas'] == 1:\n",
    "        bebidas.append(4) \n",
    "    if len(bebidas) == 0:\n",
    "        return np.nan\n",
    "    elif len(bebidas) == 1:\n",
    "        return bebidas[0]\n",
    "    else:\n",
    "        return 5"
   ]
  },
  {
   "cell_type": "code",
   "execution_count": 45,
   "metadata": {},
   "outputs": [],
   "source": [
    "# Creo la columna con los tipos de bebidas \n",
    "consumo_alcohol_raw['tipo_bebida'] = consumo_alcohol_raw.apply(combinar_consumo, axis=1)"
   ]
  },
  {
   "cell_type": "code",
   "execution_count": 46,
   "metadata": {},
   "outputs": [],
   "source": [
    "consumo_alcohol = consumo_alcohol_raw.filter(items=['id','freq_cons_alc','tipo_bebida'])"
   ]
  },
  {
   "cell_type": "code",
   "execution_count": 47,
   "metadata": {},
   "outputs": [
    {
     "data": {
      "text/html": [
       "<div>\n",
       "<style scoped>\n",
       "    .dataframe tbody tr th:only-of-type {\n",
       "        vertical-align: middle;\n",
       "    }\n",
       "\n",
       "    .dataframe tbody tr th {\n",
       "        vertical-align: top;\n",
       "    }\n",
       "\n",
       "    .dataframe thead th {\n",
       "        text-align: right;\n",
       "    }\n",
       "</style>\n",
       "<table border=\"1\" class=\"dataframe\">\n",
       "  <thead>\n",
       "    <tr style=\"text-align: right;\">\n",
       "      <th></th>\n",
       "      <th>id</th>\n",
       "      <th>freq_cons_alc</th>\n",
       "      <th>tipo_bebida</th>\n",
       "    </tr>\n",
       "  </thead>\n",
       "  <tbody>\n",
       "    <tr>\n",
       "      <th>0</th>\n",
       "      <td>1128639</td>\n",
       "      <td>500</td>\n",
       "      <td>2.0</td>\n",
       "    </tr>\n",
       "    <tr>\n",
       "      <th>1</th>\n",
       "      <td>1709939</td>\n",
       "      <td>500</td>\n",
       "      <td>1.0</td>\n",
       "    </tr>\n",
       "    <tr>\n",
       "      <th>2</th>\n",
       "      <td>6874130</td>\n",
       "      <td>300</td>\n",
       "      <td>NaN</td>\n",
       "    </tr>\n",
       "    <tr>\n",
       "      <th>3</th>\n",
       "      <td>10319375</td>\n",
       "      <td>200</td>\n",
       "      <td>NaN</td>\n",
       "    </tr>\n",
       "    <tr>\n",
       "      <th>4</th>\n",
       "      <td>11140857</td>\n",
       "      <td>500</td>\n",
       "      <td>2.0</td>\n",
       "    </tr>\n",
       "    <tr>\n",
       "      <th>...</th>\n",
       "      <td>...</td>\n",
       "      <td>...</td>\n",
       "      <td>...</td>\n",
       "    </tr>\n",
       "    <tr>\n",
       "      <th>29219</th>\n",
       "      <td>2092256226</td>\n",
       "      <td>500</td>\n",
       "      <td>2.0</td>\n",
       "    </tr>\n",
       "    <tr>\n",
       "      <th>29220</th>\n",
       "      <td>2097771079</td>\n",
       "      <td>500</td>\n",
       "      <td>5.0</td>\n",
       "    </tr>\n",
       "    <tr>\n",
       "      <th>29221</th>\n",
       "      <td>2101464264</td>\n",
       "      <td>100</td>\n",
       "      <td>NaN</td>\n",
       "    </tr>\n",
       "    <tr>\n",
       "      <th>29222</th>\n",
       "      <td>2116612011</td>\n",
       "      <td>100</td>\n",
       "      <td>NaN</td>\n",
       "    </tr>\n",
       "    <tr>\n",
       "      <th>29223</th>\n",
       "      <td>2134624977</td>\n",
       "      <td>300</td>\n",
       "      <td>NaN</td>\n",
       "    </tr>\n",
       "  </tbody>\n",
       "</table>\n",
       "<p>29224 rows × 3 columns</p>\n",
       "</div>"
      ],
      "text/plain": [
       "               id  freq_cons_alc  tipo_bebida\n",
       "0         1128639            500          2.0\n",
       "1         1709939            500          1.0\n",
       "2         6874130            300          NaN\n",
       "3        10319375            200          NaN\n",
       "4        11140857            500          2.0\n",
       "...           ...            ...          ...\n",
       "29219  2092256226            500          2.0\n",
       "29220  2097771079            500          5.0\n",
       "29221  2101464264            100          NaN\n",
       "29222  2116612011            100          NaN\n",
       "29223  2134624977            300          NaN\n",
       "\n",
       "[29224 rows x 3 columns]"
      ]
     },
     "execution_count": 47,
     "metadata": {},
     "output_type": "execute_result"
    }
   ],
   "source": [
    "consumo_alcohol"
   ]
  },
  {
   "cell_type": "markdown",
   "metadata": {},
   "source": [
    "### DIABETES"
   ]
  },
  {
   "cell_type": "markdown",
   "metadata": {},
   "source": [
    "__Creación de nuevas columnas__"
   ]
  },
  {
   "cell_type": "code",
   "execution_count": null,
   "metadata": {},
   "outputs": [],
   "source": [
    "# Creo una nueva columna para diagnostico en cosanguineos\n",
    "''' Resultados posibles\n",
    "   bidi06_01  bidi06_02    diagnostico_cosanguineos\n",
    "0        1.0        1.0        cosanguineo_primario\n",
    "1        2.0        2.0        sin_antecedentes\n",
    "2        NaN        1.0        cosanguineo_secundario\n",
    "3        1.0        NaN        cosanguineo_primario\n",
    "4        2.0        NaN        sin_antecedentes\n",
    "5        NaN        2.0        sin_antecedentes\n",
    "6        1.0        2.0        cosanguineo_primario\n",
    "7        2.0        1.0        cosanguineo_secundario\n",
    "8        NaN        NaN        ns_nc\n",
    "'''\n",
    "diabetes_raw['diagnostico_cosanguineos'] = np.where(\n",
    "    diabetes_raw['bidi06_01'] == 1, 'cosanguineo_primario',\n",
    "    np.where(\n",
    "        (diabetes_raw['bidi06_01'] != 1) & (diabetes_raw['bidi06_02'] == 1), 'cosanguineo_secundario',\n",
    "        np.where(\n",
    "            (diabetes_raw['bidi06_01'] == 2) | (diabetes_raw['bidi06_02'] == 2), 'sin_antecedentes',\n",
    "            'ns_nc'\n",
    "        )\n",
    "    )\n",
    ")"
   ]
  },
  {
   "cell_type": "markdown",
   "metadata": {},
   "source": [
    "__Renombre de columnas__"
   ]
  },
  {
   "cell_type": "code",
   "execution_count": null,
   "metadata": {},
   "outputs": [],
   "source": [
    "# Renombro columnas\n",
    "diabetes_raw.rename(columns = {\n",
    "    'bidi01':               'es_diabetico',                                     # var categorica\n",
    "    'bidi02':               'es_diabetes_gestacional',                          # var categorica\n",
    "    'bidi03':               'en_tratamiento_diabetes',                          # var categorica\n",
    "    'bidi04_01':            'en_tratamiento_diabetes_insulina',                 # var categorica\n",
    "    'bidi04_02':            'en_tratamiento_diabetes_otros',                    # var categorica\n",
    "    'bidi04_03':            'en_tratamiento_diabetes_medicamentos',             # var categorica\n",
    "    'bidi05':               'es_insulinodependiente',                           # var categorica\n",
    "    'bidi06_01':            'diagnostico_diabetes_cosanguineo_primario',        # var categorica\n",
    "    'bidi06_02':            'diagnostico_diabetes_cosanguineo_secundario',      # var categorica\n",
    "    'bidi07':               'ultima_medicion_glucemia',                         # var categorica\n",
    "    'bidi08':               'controla_diabetes',                                # var categorica\n",
    "    'bidi09':               'lugar_control_diabetes',                           # var categorica\n",
    "    'bidi10':               'atencion_diabetes_mismo_profesional',              # var categorica\n",
    "    'bidi11':               'atencion_diabetes_hc',                             # var categorica\n",
    "    'bidi12':               'revision_pies',                                    # var categorica\n",
    "    'bidi13':               'revision_pupilas',                                 # var categorica\n",
    "    'bidi14':               'educado_control_diabetes',                         # var categorica\n",
    "}, inplace = True)"
   ]
  },
  {
   "cell_type": "markdown",
   "metadata": {},
   "source": [
    "### MEDICIONES ANTROPOMETRICAS"
   ]
  },
  {
   "cell_type": "markdown",
   "metadata": {},
   "source": [
    "__Renombre de columnas__"
   ]
  },
  {
   "cell_type": "code",
   "execution_count": null,
   "metadata": {},
   "outputs": [],
   "source": [
    "# Renombro columnas\n",
    "mediciones_antropometricas_raw.rename(columns = {\n",
    "    'bima01':               'consentimiento_ma',                                # var categorica\n",
    "    'bima02':               'bebio_cafeina',                                    # var categorica\n",
    "    'bima03':               'consentimiento_presion',                           # var categorica\n",
    "    'bima04_01_a':          'primera_medicion_sistolica',                       # var numerica continua\n",
    "    'bima04_01_b':          'primera_medicion_diastolica',                      # var numerica continua\n",
    "    'bima04_02_a':          'segunda_medicion_sistolica',                       # var numerica continua\n",
    "    'bima04_02_b':          'segunda_medicion_diastolica',                      # var numerica continua\n",
    "    'bima04_03_a':          'tercera_medicion_sistolica',                       # var numerica coninua\n",
    "    'bima04_03_b':          'primera_medicion_diastolica',                      # var numerica continua\n",
    "    'ta_elevada':           'presion_arterial_elevada',                         # var categorica\n",
    "    'bima06':               'consentimiento_altura',                            # var categorica\n",
    "    'bima07':               'medicion_altura',                                  # var numerica continua\n",
    "    'bima09':               'consentimiento_peso',                              # var categorica\n",
    "    'bima10':               'medicion_peso',                                    # var numerica continua\n",
    "    'bima12':               'consentimiento_cintura',                           # var categorica\n",
    "    'bima13':               'medicion_cintura',                                 # var numerica continua\n",
    "    'bima14':               'tipo_medicion_cintura',                            # var categorica\n",
    "    'imc_bima':             'imc',                                              # var categorica\n",
    "    'imc_categorias_bima':  'imc_categoria'                                     # var categorica\n",
    "}, inplace = True)"
   ]
  },
  {
   "cell_type": "markdown",
   "metadata": {},
   "source": [
    "### MEDICIONES BIOQUIMICAS"
   ]
  },
  {
   "cell_type": "markdown",
   "metadata": {},
   "source": [
    "__Renombre de columnas__"
   ]
  },
  {
   "cell_type": "code",
   "execution_count": null,
   "metadata": {},
   "outputs": [],
   "source": [
    "# Renombro columnas\n",
    "mediciones_bioquimicas_raw.rename(columns = {\n",
    "    'bimq01':               'consentimiento_bq',                                # var categorica\n",
    "    'bimq05':               'medicion_glucosa',                                 # var numerica continua\n",
    "    'bimq05_01':            'medicion_glucosa_no_registrada',                   # var categorica\n",
    "    'bimq06':               'medicion_colesterol',                              # var numerica continua\n",
    "    'bimq06_01':            'medicion_colesterol_no_registrada'                 # var categorica                                  # var categorica\n",
    "}, inplace = True)"
   ]
  },
  {
   "cell_type": "markdown",
   "metadata": {},
   "source": [
    "### Union de bloques tematicos en dataset util/ final"
   ]
  },
  {
   "cell_type": "markdown",
   "metadata": {},
   "source": [
    "Aqui combinaremos las tablas correspondientes a cada bloque tematico ya acondicionadas, para crear el dataset sobre el que trabajaremos posteriormente. "
   ]
  },
  {
   "cell_type": "code",
   "execution_count": 49,
   "metadata": {},
   "outputs": [
    {
     "name": "stdout",
     "output_type": "stream",
     "text": [
      "(29224, 287)\n",
      "(29224, 102)\n"
     ]
    }
   ],
   "source": [
    "# Lista de los dataframes a unir\n",
    "dfs = [\n",
    "    ubicacion,\n",
    "    caract_encuestado,\n",
    "    tabaquismo_raw,\n",
    "    diabetes_raw,\n",
    "    alimentacion,\n",
    "    colesterol,\n",
    "    consumo_alcohol,\n",
    "    mediciones_antropometricas_raw,\n",
    "    mediciones_bioquimicas_raw\n",
    "]\n",
    "\n",
    "# Union de dataframes por la columna 'id', utilizando 'inner join' como metodo de union\n",
    "friesgo_2018 = reduce(lambda left, right: pd.merge(left, right, on='id', how='inner'), dfs)\n",
    "\n",
    "# Verificamos que el dataframe resultante contenga la misma cantidad de filas que el dataframe original\n",
    "print(friesgo_2018_raw.shape)\n",
    "print(friesgo_2018.shape)"
   ]
  },
  {
   "cell_type": "code",
   "execution_count": 50,
   "metadata": {},
   "outputs": [],
   "source": [
    "# Exportacion a CSV del dataframe resultante para ser utilizado en el EDA\n",
    "friesgo_2018.to_csv('datasets/friesgo_2018.csv', index=False)"
   ]
  }
 ],
 "metadata": {
  "kernelspec": {
   "display_name": "Python 3",
   "language": "python",
   "name": "python3"
  },
  "language_info": {
   "codemirror_mode": {
    "name": "ipython",
    "version": 3
   },
   "file_extension": ".py",
   "mimetype": "text/x-python",
   "name": "python",
   "nbconvert_exporter": "python",
   "pygments_lexer": "ipython3",
   "version": "3.12.1"
  }
 },
 "nbformat": 4,
 "nbformat_minor": 2
}
