{
 "cells": [
  {
   "cell_type": "markdown",
   "metadata": {},
   "source": [
    "# Factores de riesgo\n",
    "Este proyecto se corresponde al trabajo final del curso de Data Science dictado por la Fundación YPF en el año 2024."
   ]
  },
  {
   "cell_type": "markdown",
   "metadata": {},
   "source": [
    "## Objetivos del notebook \n",
    "\n",
    "A partir del dataset en crudo del INDEC, obtendremos una version delimitada utilizando las columnas que nos sean utiles para trabajar alineandose con el objetivo general del proyecto. Las acciones a realizar para lograrlo son:\n",
    "\n",
    "+ Delimitar los bloques tematicos\n",
    "+ Crear columnas derivadas de otras\n",
    "+ Renombrar todas las columnas del dataset\n",
    "+ Determinar el tipo de variables\n",
    "\n",
    "Luego, exportaremos un archivo CSV que servirá de entrada al EDA."
   ]
  },
  {
   "cell_type": "markdown",
   "metadata": {},
   "source": [
    "## Setup de archivos"
   ]
  },
  {
   "cell_type": "markdown",
   "metadata": {},
   "source": [
    "__Importacion de librerias__"
   ]
  },
  {
   "cell_type": "code",
   "execution_count": 1,
   "metadata": {},
   "outputs": [],
   "source": [
    "import pandas as pd\n",
    "import numpy as np\n",
    "import matplotlib.pyplot as plt\n",
    "import sklearn as skl\n",
    "import seaborn as sns\n",
    "\n",
    "from functools import reduce\n",
    "\n",
    "from utils.funcions import *\n",
    "from utils.codificaciones import *"
   ]
  },
  {
   "cell_type": "markdown",
   "metadata": {},
   "source": [
    "__Importacion de base de datos__"
   ]
  },
  {
   "cell_type": "code",
   "execution_count": 2,
   "metadata": {},
   "outputs": [],
   "source": [
    "friesgo_2018_raw = pd.read_csv('datasets/friesgo_2018_raw.txt', delimiter = '|')"
   ]
  },
  {
   "cell_type": "markdown",
   "metadata": {},
   "source": [
    "## Analisis estructural del dataset raw"
   ]
  },
  {
   "cell_type": "markdown",
   "metadata": {},
   "source": [
    "Se pretende conocer los datos generales acerca de la estructura del dataset raw (proveniente del INDEC) para poder tratarlo a posteriori de una manera adecuada"
   ]
  },
  {
   "cell_type": "code",
   "execution_count": 3,
   "metadata": {},
   "outputs": [
    {
     "data": {
      "text/plain": [
       "(29224, 287)"
      ]
     },
     "execution_count": 3,
     "metadata": {},
     "output_type": "execute_result"
    }
   ],
   "source": [
    "# Determino filas y columnas\n",
    "friesgo_2018_raw.shape"
   ]
  },
  {
   "cell_type": "code",
   "execution_count": 4,
   "metadata": {},
   "outputs": [
    {
     "data": {
      "text/html": [
       "<div>\n",
       "<style scoped>\n",
       "    .dataframe tbody tr th:only-of-type {\n",
       "        vertical-align: middle;\n",
       "    }\n",
       "\n",
       "    .dataframe tbody tr th {\n",
       "        vertical-align: top;\n",
       "    }\n",
       "\n",
       "    .dataframe thead th {\n",
       "        text-align: right;\n",
       "    }\n",
       "</style>\n",
       "<table border=\"1\" class=\"dataframe\">\n",
       "  <thead>\n",
       "    <tr style=\"text-align: right;\">\n",
       "      <th></th>\n",
       "      <th>id</th>\n",
       "      <th>cod_provincia</th>\n",
       "      <th>region</th>\n",
       "      <th>tamanio_aglomerado</th>\n",
       "      <th>aglomerado</th>\n",
       "      <th>localidades_150</th>\n",
       "      <th>submuestra</th>\n",
       "      <th>bhcv01</th>\n",
       "      <th>bhcv02</th>\n",
       "      <th>bhcv03</th>\n",
       "      <th>...</th>\n",
       "      <th>glucemia_elevada</th>\n",
       "      <th>prevalencia_glucemia_elevada_combinada</th>\n",
       "      <th>findrisc</th>\n",
       "      <th>bimq06</th>\n",
       "      <th>bimq06_01</th>\n",
       "      <th>colesterol_elevado</th>\n",
       "      <th>prevalencia_colesterol_combinada</th>\n",
       "      <th>wf1p</th>\n",
       "      <th>wf2p</th>\n",
       "      <th>wf3p</th>\n",
       "    </tr>\n",
       "  </thead>\n",
       "  <tbody>\n",
       "    <tr>\n",
       "      <th>0</th>\n",
       "      <td>1128639</td>\n",
       "      <td>2</td>\n",
       "      <td>1</td>\n",
       "      <td>1</td>\n",
       "      <td>1</td>\n",
       "      <td>1</td>\n",
       "      <td>1</td>\n",
       "      <td>3</td>\n",
       "      <td>2</td>\n",
       "      <td>1</td>\n",
       "      <td>...</td>\n",
       "      <td>NaN</td>\n",
       "      <td>NaN</td>\n",
       "      <td>2.0</td>\n",
       "      <td>NaN</td>\n",
       "      <td>NaN</td>\n",
       "      <td>NaN</td>\n",
       "      <td>NaN</td>\n",
       "      <td>2378</td>\n",
       "      <td>4464</td>\n",
       "      <td>0</td>\n",
       "    </tr>\n",
       "    <tr>\n",
       "      <th>1</th>\n",
       "      <td>1709939</td>\n",
       "      <td>2</td>\n",
       "      <td>1</td>\n",
       "      <td>1</td>\n",
       "      <td>1</td>\n",
       "      <td>1</td>\n",
       "      <td>0</td>\n",
       "      <td>1</td>\n",
       "      <td>4</td>\n",
       "      <td>1</td>\n",
       "      <td>...</td>\n",
       "      <td>NaN</td>\n",
       "      <td>NaN</td>\n",
       "      <td>NaN</td>\n",
       "      <td>NaN</td>\n",
       "      <td>NaN</td>\n",
       "      <td>NaN</td>\n",
       "      <td>NaN</td>\n",
       "      <td>3588</td>\n",
       "      <td>0</td>\n",
       "      <td>0</td>\n",
       "    </tr>\n",
       "    <tr>\n",
       "      <th>2</th>\n",
       "      <td>6874130</td>\n",
       "      <td>2</td>\n",
       "      <td>1</td>\n",
       "      <td>1</td>\n",
       "      <td>1</td>\n",
       "      <td>1</td>\n",
       "      <td>0</td>\n",
       "      <td>3</td>\n",
       "      <td>2</td>\n",
       "      <td>1</td>\n",
       "      <td>...</td>\n",
       "      <td>NaN</td>\n",
       "      <td>NaN</td>\n",
       "      <td>NaN</td>\n",
       "      <td>NaN</td>\n",
       "      <td>NaN</td>\n",
       "      <td>NaN</td>\n",
       "      <td>NaN</td>\n",
       "      <td>2740</td>\n",
       "      <td>0</td>\n",
       "      <td>0</td>\n",
       "    </tr>\n",
       "    <tr>\n",
       "      <th>3</th>\n",
       "      <td>10319375</td>\n",
       "      <td>2</td>\n",
       "      <td>1</td>\n",
       "      <td>1</td>\n",
       "      <td>1</td>\n",
       "      <td>1</td>\n",
       "      <td>1</td>\n",
       "      <td>3</td>\n",
       "      <td>1</td>\n",
       "      <td>1</td>\n",
       "      <td>...</td>\n",
       "      <td>NaN</td>\n",
       "      <td>NaN</td>\n",
       "      <td>NaN</td>\n",
       "      <td>NaN</td>\n",
       "      <td>NaN</td>\n",
       "      <td>NaN</td>\n",
       "      <td>NaN</td>\n",
       "      <td>493</td>\n",
       "      <td>0</td>\n",
       "      <td>0</td>\n",
       "    </tr>\n",
       "    <tr>\n",
       "      <th>4</th>\n",
       "      <td>11140857</td>\n",
       "      <td>2</td>\n",
       "      <td>1</td>\n",
       "      <td>1</td>\n",
       "      <td>1</td>\n",
       "      <td>1</td>\n",
       "      <td>0</td>\n",
       "      <td>3</td>\n",
       "      <td>3</td>\n",
       "      <td>1</td>\n",
       "      <td>...</td>\n",
       "      <td>NaN</td>\n",
       "      <td>NaN</td>\n",
       "      <td>NaN</td>\n",
       "      <td>NaN</td>\n",
       "      <td>NaN</td>\n",
       "      <td>NaN</td>\n",
       "      <td>NaN</td>\n",
       "      <td>2016</td>\n",
       "      <td>0</td>\n",
       "      <td>0</td>\n",
       "    </tr>\n",
       "  </tbody>\n",
       "</table>\n",
       "<p>5 rows × 287 columns</p>\n",
       "</div>"
      ],
      "text/plain": [
       "         id  cod_provincia  region  tamanio_aglomerado  aglomerado  \\\n",
       "0   1128639              2       1                   1           1   \n",
       "1   1709939              2       1                   1           1   \n",
       "2   6874130              2       1                   1           1   \n",
       "3  10319375              2       1                   1           1   \n",
       "4  11140857              2       1                   1           1   \n",
       "\n",
       "   localidades_150  submuestra  bhcv01  bhcv02  bhcv03  ...  glucemia_elevada  \\\n",
       "0                1           1       3       2       1  ...               NaN   \n",
       "1                1           0       1       4       1  ...               NaN   \n",
       "2                1           0       3       2       1  ...               NaN   \n",
       "3                1           1       3       1       1  ...               NaN   \n",
       "4                1           0       3       3       1  ...               NaN   \n",
       "\n",
       "   prevalencia_glucemia_elevada_combinada  findrisc  bimq06  bimq06_01  \\\n",
       "0                                     NaN       2.0     NaN        NaN   \n",
       "1                                     NaN       NaN     NaN        NaN   \n",
       "2                                     NaN       NaN     NaN        NaN   \n",
       "3                                     NaN       NaN     NaN        NaN   \n",
       "4                                     NaN       NaN     NaN        NaN   \n",
       "\n",
       "   colesterol_elevado  prevalencia_colesterol_combinada  wf1p  wf2p  wf3p  \n",
       "0                 NaN                               NaN  2378  4464     0  \n",
       "1                 NaN                               NaN  3588     0     0  \n",
       "2                 NaN                               NaN  2740     0     0  \n",
       "3                 NaN                               NaN   493     0     0  \n",
       "4                 NaN                               NaN  2016     0     0  \n",
       "\n",
       "[5 rows x 287 columns]"
      ]
     },
     "execution_count": 4,
     "metadata": {},
     "output_type": "execute_result"
    }
   ],
   "source": [
    "# Obtengo las 5 primeras filas del dataset\n",
    "friesgo_2018_raw.head()"
   ]
  },
  {
   "cell_type": "code",
   "execution_count": 5,
   "metadata": {},
   "outputs": [
    {
     "name": "stdout",
     "output_type": "stream",
     "text": [
      "['id', 'cod_provincia', 'region', 'tamanio_aglomerado', 'aglomerado', 'localidades_150', 'submuestra', 'bhcv01', 'bhcv02', 'bhcv03', 'bhcv04', 'bhcv05', 'bhcv06', 'bhcv07', 'bhcv08', 'bhcv09', 'bhcv10', 'bhcv11', 'bhho01', 'bhho02', 'bhho03', 'cant_componentes', 'miembros_18', 'tipo_hogar', 'bhih01', 'bhih01_02', 'rango_ingreso', 'quintil_uc', 'imputado', 'bhih03', 'bhch03_j', 'bhch04_j', 'rango_edad_j', 'bhch05_j', 'nivel_instruccion_j', 'nivel_instruccion_agrupado_j', 'bhch10_01_j', 'bhch10_02_j', 'bhch10_03_j', 'bhch10_04_j', 'bhch10_05_j', 'bhch10_06_j', 'bhch10_99_j', 'cobertura_salud_j', 'bhsl01', 'bhsl02', 'bhsl03', 'bhsl04', 'bhsl05', 'bhsl06', 'condicion_actividad_j', 'bhch02', 'bhch03', 'bhch04', 'rango_edad', 'bhch05', 'nivel_instruccion', 'nivel_instruccion_agrupado', 'bhch10_01', 'bhch10_02', 'bhch10_03', 'bhch10_04', 'bhch10_05', 'bhch10_06', 'bhch10_99', 'cobertura_salud', 'bisl01', 'bisl02', 'bisl03', 'bisl04', 'bisl05', 'bisl06', 'condicion_actividad', 'bisg01', 'bisg02', 'bisg03', 'bisg04', 'bisg05', 'bisg06', 'biaf01', 'biaf02_m', 'biaf02_99', 'biaf03', 'biaf04_m', 'biaf04_99', 'biaf05', 'biaf06_m', 'biaf06_99', 'biaf07_m', 'biaf07_99', 'biaf08', 'biaf09', 'biaf10_01', 'biaf10_02', 'biaf10_03', 'biaf10_04', 'nivel_actividad_fisica', 'barreras_actividad_fisica', 'bita01', 'bita02', 'bita02_99', 'bita03', 'bita04', 'bita04_01', 'bita04_02', 'bita05', 'bita06_a', 'bita06_b', 'bita06_b_99', 'bita06_c', 'bita06_d', 'bita07', 'bita07_99', 'bita08', 'bita09_01', 'bita09_02', 'bita09_03', 'bita09_04', 'bita09_05', 'bita09_06', 'bita10_01', 'bita10_02', 'bita10_03', 'bita10_04', 'bita10_05', 'bita10_06', 'bita11', 'bita12', 'bita13', 'bita14', 'bita15', 'bita16', 'consumo_tabaco_100', 'ta_paquete_y_armado', 'ta_dejar_fumar', 'ta_otros_productos', 'hta_nofumadores', 'ta_perc_publicidad', 'ta_percepcion_riesgo', 'imagenes_tabaco', 'biha01', 'biha02', 'biha03', 'biha04', 'biha05_01', 'biha05_02', 'biha06', 'biha06_99', 'biha07', 'biha08', 'biha09', 'biha10', 'biha11', 'biha11_99', 'biha12', 'biha13', 'biha14', 'biha15', 'control_hipertension', 'prevalencia_hipertension', 'bipc01', 'bipc02', 'bipc03', 'bipc04', 'bipc04_99', 'bipc05', 'bipc05_99', 'imc', 'imc_categorias', 'bial01', 'bial02', 'bial03', 'bial03_99', 'bial04', 'bial04_99', 'bial05', 'bial05_99', 'bial06', 'bial06_99', 'bial07', 'bial08', 'bial09', 'bial10', 'promedio_fv_diario', 'consumo_fv', 'barreras_fyv', 'tipo_dieta_razones', 'bico01', 'bico02', 'bico03', 'bico04', 'bico05_01', 'bico05_02', 'control_colesterol', 'prevalencia_colesterol', 'bica01', 'bica02', 'bica03_01', 'bica03_02', 'bica03_99', 'bica04_01_b', 'bica04_01_c', 'bica04_02_b', 'bica04_02_c', 'bica04_03_b', 'bica04_03_c', 'bica04_04', 'bica05_01_b', 'bica05_01_c', 'bica05_02_b', 'bica05_02_c', 'bica05_03_b', 'bica05_03_c', 'bica05_04', 'bica06', 'bica07', 'consumo_regular_riesgo', 'consumo_episodico_excesivo', 'bidi01', 'bidi02', 'bidi03', 'bidi04_01', 'bidi04_02', 'bidi04_03', 'bidi05', 'bidi06_01', 'bidi06_02', 'bidi07', 'bidi08', 'bidi09', 'bidi10', 'bidi11', 'bidi12', 'bidi13', 'bidi14', 'control_diabetes', 'prevalencia_diabetes', 'bile01', 'bile02', 'bile03', 'bipp01', 'bipp02', 'bipp03', 'bipp04', 'control_mamografia', 'control_pap', 'bicc01_01', 'bicc01_02', 'bicc01_03', 'bicc02', 'bicc03', 'control_colon', 'bima01', 'bima02', 'bima03', 'bima04_01_a', 'bima04_01_b', 'bima04_02_a', 'bima04_02_b', 'bima04_03_a', 'bima04_03_b', 'promedio_sistolica', 'promedio_diastolica', 'ta_elevada', 'prevalencia_hipertension_combinada', 'bima06', 'bima07', 'bima09', 'bima10', 'imc_bima', 'imc_categorias_bima', 'bima12', 'bima13', 'bima14', 'bimq01', 'bimq05', 'bimq05_01', 'glucemia_elevada', 'prevalencia_glucemia_elevada_combinada', 'findrisc', 'bimq06', 'bimq06_01', 'colesterol_elevado', 'prevalencia_colesterol_combinada', 'wf1p', 'wf2p', 'wf3p']\n"
     ]
    }
   ],
   "source": [
    "pd.set_option('display.max_columns',None)\n",
    "print(friesgo_2018_raw.columns.tolist())\n"
   ]
  },
  {
   "cell_type": "markdown",
   "metadata": {},
   "source": [
    "## Busqueda y localizacion de columnas"
   ]
  },
  {
   "cell_type": "code",
   "execution_count": 6,
   "metadata": {},
   "outputs": [],
   "source": [
    "#Busco el indice de una columna para dividir los bloques tematicos\n",
    "# friesgo_2018_raw.columns.get_loc('cobertura_salud')"
   ]
  },
  {
   "cell_type": "code",
   "execution_count": 7,
   "metadata": {},
   "outputs": [],
   "source": [
    "# Ubicacion\n",
    "ubicacion_raw = 'Aca ponemos la localizacion'\n",
    "# USAR EL SIGUIENTE CODIGO :\n",
    "# bloquetematico_raw = pd.DataFrame(friesgo_2018_raw.iloc[:, [0] + list(range(inicio,final))]).copy()"
   ]
  },
  {
   "cell_type": "code",
   "execution_count": 8,
   "metadata": {},
   "outputs": [],
   "source": [
    "# Tabaquismo\n",
    "tabaquismo_raw = pd.DataFrame(friesgo_2018_raw.iloc[:, [0] + list(range(98, 133))]).copy()"
   ]
  },
  {
   "cell_type": "code",
   "execution_count": 9,
   "metadata": {},
   "outputs": [],
   "source": [
    "# Salud general\n",
    "salud_raw = pd.DataFrame(friesgo_2018_raw.iloc[:, [0] + list(range(73,78))]).copy()"
   ]
  },
  {
   "cell_type": "code",
   "execution_count": 10,
   "metadata": {},
   "outputs": [],
   "source": [
    "#Actividad física\n",
    "actividad_fisica_raw = pd.DataFrame(friesgo_2018_raw.iloc[:, [0] + list(range(79,98))]).copy()"
   ]
  },
  {
   "cell_type": "code",
   "execution_count": null,
   "metadata": {},
   "outputs": [],
   "source": [
    "# Hipertension arterial\n",
    "hipertension_raw = pd.DataFrame(friesgo_2018_raw.iloc[:, [0] + list(range(140,159))]).copy()"
   ]
  },
  {
   "cell_type": "code",
   "execution_count": null,
   "metadata": {},
   "outputs": [],
   "source": [
    "# Peso corporal\n",
    "peso_raw = pd.DataFrame(friesgo_2018_raw.iloc[:, [0] + list(range(160,169))]).copy()"
   ]
  },
  {
   "cell_type": "code",
   "execution_count": 11,
   "metadata": {},
   "outputs": [],
   "source": [
    "# Alimentacion"
   ]
  },
  {
   "cell_type": "code",
   "execution_count": 12,
   "metadata": {},
   "outputs": [],
   "source": [
    "# Colesterol"
   ]
  },
  {
   "cell_type": "code",
   "execution_count": 13,
   "metadata": {},
   "outputs": [],
   "source": [
    "# Consumo de alcohol"
   ]
  },
  {
   "cell_type": "code",
   "execution_count": 14,
   "metadata": {},
   "outputs": [],
   "source": [
    "# Diabetes\n",
    "diabetes_raw = pd.DataFrame(friesgo_2018_raw.iloc[:, [0] + list(range(218, 236))]).copy()"
   ]
  },
  {
   "cell_type": "code",
   "execution_count": 15,
   "metadata": {},
   "outputs": [],
   "source": [
    "# Mediciones atropometricas\n",
    "mediciones_antropometricas_raw = pd.DataFrame(friesgo_2018_raw.iloc[:, [0] + list(range(252, 273))]).copy()"
   ]
  },
  {
   "cell_type": "code",
   "execution_count": 16,
   "metadata": {},
   "outputs": [],
   "source": [
    "# Mediciones bioquimicas\n",
    "mediciones_bioquimicas_raw = pd.DataFrame(friesgo_2018_raw.iloc[:, [0] + list(range(274, 283))]).copy()"
   ]
  },
  {
   "cell_type": "markdown",
   "metadata": {},
   "source": [
    "## Tratamiento de columnas del dataset raw"
   ]
  },
  {
   "cell_type": "markdown",
   "metadata": {},
   "source": [
    "### UBICACION"
   ]
  },
  {
   "cell_type": "code",
   "execution_count": 17,
   "metadata": {},
   "outputs": [],
   "source": [
    "# ESCRIBA su codigo aqui!"
   ]
  },
  {
   "cell_type": "markdown",
   "metadata": {},
   "source": [
    "### CARACTERISTICAS DEL ENCUESTADO"
   ]
  },
  {
   "cell_type": "markdown",
   "metadata": {},
   "source": [
    "### SALUD GENERAL"
   ]
  },
  {
   "cell_type": "code",
   "execution_count": null,
   "metadata": {},
   "outputs": [],
   "source": [
    "# Renombre de columnas\n",
    "salud_raw.rename(columns = {\n",
    "    #SALUD GENERAL \n",
    "\"bisg01\" : \"salud_actual\",\n",
    "\"bisg02\" : \"nivel_de_movilidad\",\n",
    "\"bisg03\" : \"capacidad_cuidado_personal\",\n",
    "\"bisg04\" : \"capacidad_actividades_cotidianas\",\n",
    "\"bisg05\" : \"dolor_malestar_general\",\n",
    "\"bisg06\" : \"ansiedad_depresion\"\n",
    "}, inplace = True)"
   ]
  },
  {
   "cell_type": "code",
   "execution_count": null,
   "metadata": {},
   "outputs": [],
   "source": [
    "salud_raw.head()"
   ]
  },
  {
   "cell_type": "code",
   "execution_count": null,
   "metadata": {},
   "outputs": [],
   "source": [
    "#análisis de nulos en el subset SALUD GENERAL\n",
    "#Análisis gráfico de la composición de no nulos en cada columna\n",
    "a1_salud=(salud_raw.notna().sum(axis = 0)  /  len(salud_raw))\n",
    "a1_salud.plot.bar()"
   ]
  },
  {
   "cell_type": "markdown",
   "metadata": {},
   "source": [
    "De este subset se aconseja mantener para el análisis a las columnas: \n",
    "\"salud_actual\"\n",
    "\"capacidad_actividades_cotidianas\"\n",
    "\"dolor_malestar_general\"\n",
    "\"ansiedad_depresion\""
   ]
  },
  {
   "cell_type": "markdown",
   "metadata": {},
   "source": [
    "### ACTIVIDAD FISICA"
   ]
  },
  {
   "cell_type": "code",
   "execution_count": null,
   "metadata": {},
   "outputs": [],
   "source": [
    "# Renombre de columnas\n",
    "actividad_fisica_raw.rename(columns = {\n",
    "    #ACTIVIDAD FÍSICA af\n",
    "\"biaf01\" : \"af_intensa_veces_por_semana\",\n",
    "\"biaf02_m\" : \"af_intensa_min_totales_por_semana\",\n",
    "\"biaf02_99\" : \"af_intensa_min_totales_por_semana_nsnc\",\n",
    "\"biaf03\" : \"af_moderada_veces_por_semana\",\n",
    "\"biaf04_m\" : \"af_moderada_min_totales_por_semana\",\n",
    "\"biaf04_99\" : \"actividad_fisica_moderada_min_totales_por_semana_nsnc\",\n",
    "\"biaf05\" : \"caminata_veces_por_semana\",\n",
    "\"biaf06_m\" : \"caminata_min_totales_por_semana\",\n",
    "\"biaf06_99\" : \"caminata_min_totales_por_semana_nsnc\",\n",
    "\"biaf07_m\" : \"tiempo_sentado_min_por_dia\",\n",
    "\"biaf07_99\" : \"tiempo_sentado_min_por_dia_nsnc\",\n",
    "\"biaf08\" : \"razon_ninguna_actividad_la_ultima_semana\",\n",
    "\"biaf09\" : \"razon_poca_actividad_la_ultima_semana\",\n",
    "\"biaf10_01\" : \"af_fue_actividad_domestica\",\n",
    "\"biaf10_02\" : \"af_fue_actividad_laboral\",\n",
    "\"biaf10_03\" : \"af_fue_traslado\",\n",
    "\"biaf10_04\" : \"af_fue_deporte\"\n",
    "#nivel_actividad_fisica mantiene el mismo nombre\n",
    "#barreras_actividad_fisica mantiene el mismo nombre\n",
    "\n",
    "}, inplace = True)"
   ]
  },
  {
   "cell_type": "code",
   "execution_count": null,
   "metadata": {},
   "outputs": [],
   "source": [
    "actividad_fisica_raw.head()"
   ]
  },
  {
   "cell_type": "code",
   "execution_count": null,
   "metadata": {},
   "outputs": [],
   "source": [
    "#Gráficamente, ver la proporción de valores no nulos en cada columna\n",
    "a1_actividad_fisica=(actividad_fisica_raw.notna().sum(axis = 0)  /  len(actividad_fisica_raw))\n",
    "a1_actividad_fisica.plot.bar()"
   ]
  },
  {
   "cell_type": "markdown",
   "metadata": {},
   "source": [
    "De este subset se aconseja mantener para el análisis a las columnas: \n",
    "\"razon_ninguna_actividad_la_ultima_semana\"\n",
    "\"razon_poca_actividad_la_ultima_semana\"\n",
    "\"nivel_actividad_fisica\"\n",
    "\"barreras_actividad_fisica\""
   ]
  },
  {
   "cell_type": "markdown",
   "metadata": {},
   "source": [
    "### TABAQUISMO"
   ]
  },
  {
   "cell_type": "markdown",
   "metadata": {},
   "source": [
    "__Creación de nuevas columnas__"
   ]
  },
  {
   "cell_type": "code",
   "execution_count": 18,
   "metadata": {},
   "outputs": [],
   "source": [
    "# Calculo de nueva columna cant_tipos_tabaco\n",
    "# Crearemos una nueva columna cant_tipos_tabaco que contendra la cantidad de tipos de tabaco que la persona consume.\n",
    "\n",
    "# Subconjunto de columnas donde queremos contar los 1s\n",
    "columnas_subconjunto = ['bita09_01', 'bita09_02', 'bita09_03', 'bita09_04', 'bita09_05', 'bita09_06']\n",
    "\n",
    "# Llamar a la función con el subconjunto de columnas\n",
    "tabaquismo_raw.loc[:, 'cant_tipos_tabaco'] = calcular_tipos_tabaco(tabaquismo_raw, columnas_subconjunto)"
   ]
  },
  {
   "cell_type": "markdown",
   "metadata": {},
   "source": [
    "__Renombre de columnas__"
   ]
  },
  {
   "cell_type": "code",
   "execution_count": 19,
   "metadata": {},
   "outputs": [],
   "source": [
    "# Renombro columnas\n",
    "tabaquismo_raw.rename(columns = {\n",
    "    'bita01':               'es_fumador',                                       # var categorica\n",
    "    'bita02':               'edad_fuma_primera_vez',                            # var numerica discreta\n",
    "    'bita02_99':            'edad_fuma_primera_vez_ns_nc',                      # var numerica discreta\n",
    "    'bita03':               'fumado_100_cigarrillos',                           # var categorica\n",
    "    'bita04':               'periodicidad_fumador',                             # var ordinal\n",
    "    'bita04_01':            'es_cigarrillo_armado',                             # var categorica\n",
    "    'bita04_02':            'es_cigarrillo_paquete',                            # var categorica\n",
    "    'bita05':               'marca_cigarrillos',                                # var categorica\n",
    "    'bita06_a':             'tipo_paquete_comprado',                            # var categorica\n",
    "    'bita06_b':             'cant_cigarrillos_comprados',                       # var numerica discreta\n",
    "    'bita06_b_99':          'cant_cigarrillos_comprados_ns_nc',                 # var numerica discreta\n",
    "    'bita06_c':             'cigarrillos_sabor',                                # var categorica\n",
    "    'bita06_d':             'cigarrillos_tipo_capsula',                         # var categorica\n",
    "    'bita07':               'dinero_pagado_ultima_compra_cigarrillos',          # var numerica discreta\n",
    "    'bita07_99':            'dinero_pagado_ultima_compra_cigarrillos_ns_nc',    # var categorica\n",
    "    'bita08':               'intento_dejar_fumar',                              # var categorica\n",
    "    'bita09_01':            'es_fumador_cigarro_habano',                        # var categorica\n",
    "    'bita09_02':            'es_fumador_cigarritos',                            # var categorica\n",
    "    'bita09_03':            'es_fumador_pipa_comun',                            # var categorica\n",
    "    'bita09_04':            'es_fumador_pipa_agua',                             # var categorica\n",
    "    'bita09_05':            'es_fumador_tabaco_masticar',                       # var categorica\n",
    "    'bita09_06':            'es_fumador_cigarrillo_electronico',                # var categorica\n",
    "    'bita10_01':            'hubo_fumadores_casa',                              # var categorica\n",
    "    'bita10_02':            'hubo_fumadores_trabajo',                           # var categorica\n",
    "    'bita10_03':            'hubo_fumadores_escuela',                           # var categorica\n",
    "    'bita10_04':            'hubo_fumadores_restaurant',                        # var categorica\n",
    "    'bita10_05':            'hubo_fumadores_hospital',                          # var categorica\n",
    "    'bita10_06':            'hubo_fumadores_otros_lugares',                     # var categorica\n",
    "    'bita11':               'publicidad_comercios',                             # var categorica\n",
    "    'bita12':               'publicidad_email',                                 # var categorica\n",
    "    'bita13':               'suscripcion_cigarrera',                            # var categorica\n",
    "    'bita14':               'vio_propaganda_riesgo_fumar',                      # var categorica\n",
    "    'bita15':               'propaganda_piensa_dejar_fumar',                    # var categorica\n",
    "    'bita16':               'acuerdo_impuesto_tabaco',                           # var categorica\n",
    "    'consumo_tabaco_100':   'condicion_fumador'\n",
    "}, inplace = True)"
   ]
  },
  {
   "cell_type": "markdown",
   "metadata": {},
   "source": [
    "### HIPERTENSION ARTERIAL"
   ]
  },
  {
   "cell_type": "code",
   "execution_count": null,
   "metadata": {},
   "outputs": [],
   "source": [
    "# Renombre de columnas\n",
    "hipertension_raw.rename(columns = {\n",
    "    #HIPERTENSION ARTERIAL ha\n",
    "\"biha01\" : \"hay_medicion_ha\",\n",
    "\"biha02\" : \"tiempo_ultima_medicion_ha\",\n",
    "\"biha03\" : \"cantidad_mediciones_ha_alta\",\n",
    "\"biha04\" : \"actualmente_en_tratamiento\",\n",
    "\"biha05_01\" : \"tratamiento_estilodevida\",\n",
    "\"biha05_02\" : \"tratamiento_medicacion\",\n",
    "\"biha06\" : \"cantidad_pastillas_ha_diarias\",\n",
    "\"biha06_99\" : \"cantidad_pastillas_ha_diarias_nsnc\",\n",
    "\"biha07\" : \"alguna_vez_olvido_medicacion_ha\",\n",
    "\"biha08\" : \"deja_medicacion_ha_por_bienestar\",\n",
    "\"biha09\" : \"deja_medicacion_ha_por_malestar\",\n",
    "\"biha10\" : \"cumplimiento_medicacion_ha_ultima_semana\",\n",
    "\"biha11\" : \"cantidad_pastillas_ha_olvidadas_ultima_semana\",\n",
    "\"biha11_99\" : \"cantidad_pastillas_ha_olvidadas_ultima_semana_nsnc\",\n",
    "\"biha12\" : \"realiza_otros_controles_ha\",\n",
    "\"biha13\" : \"donde_realiza_otros_controles_ha\",\n",
    "\"biha14\" : \"otros_controles_ha_con_seguimiento_profesional\",\n",
    "\"biha15\" : \"otros_controles_ha_considera_historia_clinica\",\n",
    "\"control_hipertension\" : \"control_ha_profesional_ultimos_2_anios\",\n",
    "\"prevalencia_hipertension\" : \"mantiene_ha_alta\" \n",
    "\n",
    "}, inplace = True)"
   ]
  },
  {
   "cell_type": "code",
   "execution_count": null,
   "metadata": {},
   "outputs": [],
   "source": [
    "hipertension_raw.head()"
   ]
  },
  {
   "cell_type": "code",
   "execution_count": null,
   "metadata": {},
   "outputs": [],
   "source": [
    "#Análisis de nulos\n",
    "hipertension_raw.isnull().sum(axis = 0)"
   ]
  },
  {
   "cell_type": "code",
   "execution_count": null,
   "metadata": {},
   "outputs": [],
   "source": [
    "#Gráficamente, ver la proporción de valores no nulos en cada columna\n",
    "a1_hipertension=(hipertension_raw.notna().sum(axis = 0)  /  len(hipertension_raw))\n",
    "a1_hipertension.plot.bar()"
   ]
  },
  {
   "cell_type": "markdown",
   "metadata": {},
   "source": [
    "Los nulos no se deben a un error o una falta de datos, se deben a individuos a los cuales no aplica la pregunta de dicha columna, porque repondieron no a una pregunta determinante anterior. Por ejemplo:\n",
    "La pregunta  \"alguna_vez_olvido_medicacion_ha\" no tendrán respuesta para las personas que respondieron NO a la pregunta \"tratamiento_medicación\" \n",
    "En caso de una persona que responde sí a una pregunta troncal pero no responde una pregunta consecuente, existen las columnas NoSabeNoContesta (\"..._nsnc\"), por ejemplo \"cantidad_pastillas_ha_diarias_nsnc\".\n",
    "Comprobamos estas afirmaciones comparando algunas columnas"
   ]
  },
  {
   "cell_type": "code",
   "execution_count": null,
   "metadata": {},
   "outputs": [],
   "source": [
    "#Una pregunta troncal, y la cantidad de personas que respondieron SI (1) o NO (2)\n",
    "#   ¿Toma medicación para la hipertensión?\n",
    "hipertension_raw.tratamiento_medicacion.value_count()"
   ]
  },
  {
   "cell_type": "code",
   "execution_count": null,
   "metadata": {},
   "outputs": [],
   "source": [
    "#La cantidad de valores no nulos (personas que respondieron ésta pregunta, sin importar con cual respuesta) que hay en la columna de la pregunta consecuente \n",
    "#   ¿Alguna vez olvidó tomar la medicación?\n",
    "hipertension_raw.alguna_vez_olvido_medicacion_ha.count()"
   ]
  },
  {
   "cell_type": "markdown",
   "metadata": {},
   "source": [
    "Las culumnas con gran proporción de valores NaN no necesariamente contienen errores, tienen información de un subgrupo de personas que coinciden en cierta variable, por ejemplo los que sí toman medicación para la hipertensión. \n",
    "Si desean incluirse en un análisis, debe considerarse que el tamaño de la muesta es considerablemente menor."
   ]
  },
  {
   "cell_type": "markdown",
   "metadata": {},
   "source": [
    "De este subset se aconseja mantener para el análisis a las columnas: \n",
    "\"control_ha_profesional_ultimos_2_anios\"\n",
    "\"prevalencia_hipertension\" \n",
    "\"tiempo_ultima_medicion_ha\"\n",
    "\"cantidad_mediciones_ha_alta\"\n",
    "\"actualmente_en_tratamiento\"\n",
    "\"tratamiento_estilodevida\"\n",
    "\"tratamiento_medicacion\"\n",
    "\"alguna_vez_olvido_medicacion_ha\""
   ]
  },
  {
   "cell_type": "markdown",
   "metadata": {},
   "source": [
    "### PESO CORPORAL"
   ]
  },
  {
   "cell_type": "code",
   "execution_count": null,
   "metadata": {},
   "outputs": [],
   "source": [
    "# Renombro columnas\n",
    "peso_raw.rename(columns = {\n",
    "    #PESO CORPORAL\n",
    "\"bipc01\" : \"profesional_indico_bajar_peso\",\n",
    "\"bipc02\" : \"actualmente_bajando_peso\",\n",
    "\"bipc03\" : \"actualmente_manteniendo_peso\",\n",
    "\"bipc04\" : \"peso_autoreportado_kg\",\n",
    "\"bipc04_99\" : \"peso_autoreportado_kg_nsnc\",\n",
    "\"bipc05\" : \"altura_autoreportado_cm\",\n",
    "\"bipc05_99\" : \"altura_autoreportado_cm_nsnc\"\n",
    "#\"imc\" mantiene el mismo nombre\n",
    "#\"imc_categorias\" mantiene el mismo nombre\n",
    "}, inplace = True)"
   ]
  },
  {
   "cell_type": "code",
   "execution_count": null,
   "metadata": {},
   "outputs": [],
   "source": []
  },
  {
   "cell_type": "code",
   "execution_count": null,
   "metadata": {},
   "outputs": [],
   "source": [
    "#Gráficamente, ver la proporción de valores no nulos en cada columna\n",
    "a1_peso=(peso_raw.notna().sum(axis = 0)  /  len(peso_raw))\n",
    "a1_peso.plot.bar()"
   ]
  },
  {
   "cell_type": "markdown",
   "metadata": {},
   "source": [
    "De este subset se aconseja mantener para el análisis a las columnas: \n",
    "\"imc\"\n",
    "\"imc_categorias\""
   ]
  },
  {
   "cell_type": "markdown",
   "metadata": {},
   "source": [
    "### ALIMENTACION"
   ]
  },
  {
   "cell_type": "markdown",
   "metadata": {},
   "source": [
    "### COLESTEROL"
   ]
  },
  {
   "cell_type": "markdown",
   "metadata": {},
   "source": [
    "### CONSUMO DE ALCOHOL"
   ]
  },
  {
   "cell_type": "markdown",
   "metadata": {},
   "source": [
    "### DIABETES"
   ]
  },
  {
   "cell_type": "markdown",
   "metadata": {},
   "source": [
    "__Creación de nuevas columnas__"
   ]
  },
  {
   "cell_type": "code",
   "execution_count": 20,
   "metadata": {},
   "outputs": [],
   "source": [
    "# Creo una nueva columna para diagnostico en cosanguineos\n",
    "''' Resultados posibles\n",
    "   bidi06_01  bidi06_02    diagnostico_cosanguineos\n",
    "0        1.0        1.0        cosanguineo_primario\n",
    "1        2.0        2.0        sin_antecedentes\n",
    "2        NaN        1.0        cosanguineo_secundario\n",
    "3        1.0        NaN        cosanguineo_primario\n",
    "4        2.0        NaN        sin_antecedentes\n",
    "5        NaN        2.0        sin_antecedentes\n",
    "6        1.0        2.0        cosanguineo_primario\n",
    "7        2.0        1.0        cosanguineo_secundario\n",
    "8        NaN        NaN        ns_nc\n",
    "'''\n",
    "diabetes_raw['diagnostico_cosanguineos'] = np.where(\n",
    "    diabetes_raw['bidi06_01'] == 1, 'cosanguineo_primario',\n",
    "    np.where(\n",
    "        (diabetes_raw['bidi06_01'] != 1) & (diabetes_raw['bidi06_02'] == 1), 'cosanguineo_secundario',\n",
    "        np.where(\n",
    "            (diabetes_raw['bidi06_01'] == 2) | (diabetes_raw['bidi06_02'] == 2), 'sin_antecedentes',\n",
    "            'ns_nc'\n",
    "        )\n",
    "    )\n",
    ")"
   ]
  },
  {
   "cell_type": "markdown",
   "metadata": {},
   "source": [
    "__Renombre de columnas__"
   ]
  },
  {
   "cell_type": "code",
   "execution_count": 21,
   "metadata": {},
   "outputs": [],
   "source": [
    "# Renombro columnas\n",
    "diabetes_raw.rename(columns = {\n",
    "    'bidi01':               'es_diabetico',                                     # var categorica\n",
    "    'bidi02':               'es_diabetes_gestacional',                          # var categorica\n",
    "    'bidi03':               'en_tratamiento_diabetes',                          # var categorica\n",
    "    'bidi04_01':            'en_tratamiento_diabetes_insulina',                 # var categorica\n",
    "    'bidi04_02':            'en_tratamiento_diabetes_otros',                    # var categorica\n",
    "    'bidi04_03':            'en_tratamiento_diabetes_medicamentos',             # var categorica\n",
    "    'bidi05':               'es_insulinodependiente',                           # var categorica\n",
    "    'bidi06_01':            'diagnostico_diabetes_cosanguineo_primario',        # var categorica\n",
    "    'bidi06_02':            'diagnostico_diabetes_cosanguineo_secundario',      # var categorica\n",
    "    'bidi07':               'ultima_medicion_glucemia',                         # var categorica\n",
    "    'bidi08':               'controla_diabetes',                                # var categorica\n",
    "    'bidi09':               'lugar_control_diabetes',                           # var categorica\n",
    "    'bidi10':               'atencion_diabetes_mismo_profesional',              # var categorica\n",
    "    'bidi11':               'atencion_diabetes_hc',                             # var categorica\n",
    "    'bidi12':               'revision_pies',                                    # var categorica\n",
    "    'bidi13':               'revision_pupilas',                                 # var categorica\n",
    "    'bidi14':               'educado_control_diabetes',                         # var categorica\n",
    "}, inplace = True)"
   ]
  },
  {
   "cell_type": "markdown",
   "metadata": {},
   "source": [
    "### MEDICIONES ANTROPOMETRICAS"
   ]
  },
  {
   "cell_type": "markdown",
   "metadata": {},
   "source": [
    "__Renombre de columnas__"
   ]
  },
  {
   "cell_type": "code",
   "execution_count": 22,
   "metadata": {},
   "outputs": [],
   "source": [
    "# Renombro columnas\n",
    "mediciones_antropometricas_raw.rename(columns = {\n",
    "    'bima01':               'consentimiento_ma',                                # var categorica\n",
    "    'bima02':               'bebio_cafeina',                                    # var categorica\n",
    "    'bima03':               'consentimiento_presion',                           # var categorica\n",
    "    'bima04_01_a':          'primera_medicion_sistolica',                       # var numerica continua\n",
    "    'bima04_01_b':          'primera_medicion_diastolica',                      # var numerica continua\n",
    "    'bima04_02_a':          'segunda_medicion_sistolica',                       # var numerica continua\n",
    "    'bima04_02_b':          'segunda_medicion_diastolica',                      # var numerica continua\n",
    "    'bima04_03_a':          'tercera_medicion_sistolica',                       # var numerica coninua\n",
    "    'bima04_03_b':          'primera_medicion_diastolica',                      # var numerica continua\n",
    "    'ta_elevada':           'presion_arterial_elevada',                         # var categorica\n",
    "    'bima06':               'consentimiento_altura',                            # var categorica\n",
    "    'bima07':               'medicion_altura',                                  # var numerica continua\n",
    "    'bima09':               'consentimiento_peso',                              # var categorica\n",
    "    'bima10':               'medicion_peso',                                    # var numerica continua\n",
    "    'bima12':               'consentimiento_cintura',                           # var categorica\n",
    "    'bima13':               'medicion_cintura',                                 # var numerica continua\n",
    "    'bima14':               'tipo_medicion_cintura',                            # var categorica\n",
    "    'imc_bima':             'imc',                                              # var categorica\n",
    "    'imc_categorias_bima':  'imc_categoria'                                     # var categorica\n",
    "}, inplace = True)"
   ]
  },
  {
   "cell_type": "markdown",
   "metadata": {},
   "source": [
    "### MEDICIONES BIOQUIMICAS"
   ]
  },
  {
   "cell_type": "markdown",
   "metadata": {},
   "source": [
    "__Renombre de columnas__"
   ]
  },
  {
   "cell_type": "code",
   "execution_count": 23,
   "metadata": {},
   "outputs": [],
   "source": [
    "# Renombro columnas\n",
    "mediciones_bioquimicas_raw.rename(columns = {\n",
    "    'bimq01':               'consentimiento_bq',                                # var categorica\n",
    "    'bimq05':               'medicion_glucosa',                                 # var numerica continua\n",
    "    'bimq05_01':            'medicion_glucosa_no_registrada',                   # var categorica\n",
    "    'bimq06':               'medicion_colesterol',                              # var numerica continua\n",
    "    'bimq06_01':            'medicion_colesterol_no_registrada'                 # var categorica                                  # var categorica\n",
    "}, inplace = True)"
   ]
  },
  {
   "cell_type": "markdown",
   "metadata": {},
   "source": [
    "### Union de bloques tematicos en dataset util/ final"
   ]
  },
  {
   "cell_type": "markdown",
   "metadata": {},
   "source": [
    "Aqui combinaremos las tablas correspondientes a cada bloque tematico ya acondicionadas, para crear el dataset sobre el que trabajaremos posteriormente. "
   ]
  },
  {
   "cell_type": "code",
   "execution_count": 28,
   "metadata": {},
   "outputs": [
    {
     "name": "stdout",
     "output_type": "stream",
     "text": [
      "(29224, 287)\n",
      "(29224, 86)\n"
     ]
    }
   ],
   "source": [
    "# Lista de los dataframes a unir\n",
    "dfs = [\n",
    "    tabaquismo_raw,\n",
    "    diabetes_raw,\n",
    "    mediciones_antropometricas_raw,\n",
    "    mediciones_bioquimicas_raw\n",
    "]\n",
    "\n",
    "# Union de dataframes por la columna 'id', utilizando 'inner join' como metodo de union\n",
    "friesgo_2018 = reduce(lambda left, right: pd.merge(left, right, on='id', how='inner'), dfs)\n",
    "\n",
    "# Verificamos que el dataframe resultante contenga la misma cantidad de filas que el dataframe original\n",
    "print(friesgo_2018_raw.shape)\n",
    "print(friesgo_2018.shape)"
   ]
  },
  {
   "cell_type": "code",
   "execution_count": 26,
   "metadata": {},
   "outputs": [],
   "source": [
    "# Exportacion a CSV del dataframe resultante para ser utilizado en el EDA\n",
    "friesgo_2018.to_csv('datasets/friesgo_2018.csv', index=False)"
   ]
  }
 ],
 "metadata": {
  "kernelspec": {
   "display_name": "Python 3",
   "language": "python",
   "name": "python3"
  },
  "language_info": {
   "codemirror_mode": {
    "name": "ipython",
    "version": 3
   },
   "file_extension": ".py",
   "mimetype": "text/x-python",
   "name": "python",
   "nbconvert_exporter": "python",
   "pygments_lexer": "ipython3",
   "version": "3.11.7"
  }
 },
 "nbformat": 4,
 "nbformat_minor": 2
}
