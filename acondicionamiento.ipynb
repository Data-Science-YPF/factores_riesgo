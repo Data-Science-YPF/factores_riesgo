{
 "cells": [
  {
   "cell_type": "markdown",
   "metadata": {},
   "source": [
    "# Factores de riesgo\n",
    "Este proyecto se corresponde al trabajo final del curso de Data Science dictado por la Fundación YPF en el año 2024."
   ]
  },
  {
   "cell_type": "markdown",
   "metadata": {},
   "source": [
    "## Objetivos del proyecto\n",
    "Desarrollar un modelo predictivo para identificar individuos con alto riesgo de desarrollar enfermedades crónicas (como hipertensión, diabetes, colesterol alto) basándose en sus comportamientos y condiciones de vida."
   ]
  },
  {
   "cell_type": "markdown",
   "metadata": {},
   "source": [
    "## Objetivos del notebook \n",
    "\n",
    "A partir del dataset en crudo del INDEC, obtendremos una version delimitada utilizando las columnas que nos sean utiles para trabajar alineandose con el objetivo general del proyecto. Las acciones a realizar para lograrlo son:\n",
    "\n",
    "+ Delimitar los bloques tematicos \n",
    "+ Renombrar todas las columnas del dataset\n",
    "+ Crear columnas derivadas de otras\n",
    "\n"
   ]
  },
  {
   "cell_type": "markdown",
   "metadata": {},
   "source": [
    "## Setup de archivos"
   ]
  },
  {
   "cell_type": "markdown",
   "metadata": {},
   "source": [
    "__Importacion de librerias__"
   ]
  },
  {
   "cell_type": "code",
   "execution_count": 2,
   "metadata": {},
   "outputs": [],
   "source": [
    "import pandas as pd\n",
    "import numpy as np\n",
    "import matplotlib.pyplot as plt\n",
    "import sklearn as skl\n",
    "import seaborn as sns\n",
    "\n",
    "from utils.funcions import *\n",
    "from utils.codificaciones import *"
   ]
  },
  {
   "cell_type": "markdown",
   "metadata": {},
   "source": [
    "__Importacion de base de datos__"
   ]
  },
  {
   "cell_type": "code",
   "execution_count": 3,
   "metadata": {},
   "outputs": [],
   "source": [
    "friesgo_2018_raw = pd.read_csv('datasets/friesgo_2018_raw.txt', delimiter = '|')"
   ]
  },
  {
   "cell_type": "markdown",
   "metadata": {},
   "source": [
    "## Analisis estructural del dataset raw"
   ]
  },
  {
   "cell_type": "markdown",
   "metadata": {},
   "source": [
    "Se pretende conocer los datos generales acerca de la estructura del dataset raw (proveniente del INDEC) para poder tratarlo a posteriori de una manera adecuada"
   ]
  },
  {
   "cell_type": "code",
   "execution_count": 4,
   "metadata": {},
   "outputs": [
    {
     "data": {
      "text/plain": [
       "(29224, 287)"
      ]
     },
     "execution_count": 4,
     "metadata": {},
     "output_type": "execute_result"
    }
   ],
   "source": [
    "# Determino filas y columnas\n",
    "friesgo_2018_raw.shape"
   ]
  },
  {
   "cell_type": "code",
   "execution_count": 5,
   "metadata": {},
   "outputs": [
    {
     "data": {
      "text/html": [
       "<div>\n",
       "<style scoped>\n",
       "    .dataframe tbody tr th:only-of-type {\n",
       "        vertical-align: middle;\n",
       "    }\n",
       "\n",
       "    .dataframe tbody tr th {\n",
       "        vertical-align: top;\n",
       "    }\n",
       "\n",
       "    .dataframe thead th {\n",
       "        text-align: right;\n",
       "    }\n",
       "</style>\n",
       "<table border=\"1\" class=\"dataframe\">\n",
       "  <thead>\n",
       "    <tr style=\"text-align: right;\">\n",
       "      <th></th>\n",
       "      <th>id</th>\n",
       "      <th>cod_provincia</th>\n",
       "      <th>region</th>\n",
       "      <th>tamanio_aglomerado</th>\n",
       "      <th>aglomerado</th>\n",
       "      <th>localidades_150</th>\n",
       "      <th>submuestra</th>\n",
       "      <th>bhcv01</th>\n",
       "      <th>bhcv02</th>\n",
       "      <th>bhcv03</th>\n",
       "      <th>...</th>\n",
       "      <th>glucemia_elevada</th>\n",
       "      <th>prevalencia_glucemia_elevada_combinada</th>\n",
       "      <th>findrisc</th>\n",
       "      <th>bimq06</th>\n",
       "      <th>bimq06_01</th>\n",
       "      <th>colesterol_elevado</th>\n",
       "      <th>prevalencia_colesterol_combinada</th>\n",
       "      <th>wf1p</th>\n",
       "      <th>wf2p</th>\n",
       "      <th>wf3p</th>\n",
       "    </tr>\n",
       "  </thead>\n",
       "  <tbody>\n",
       "    <tr>\n",
       "      <th>0</th>\n",
       "      <td>1128639</td>\n",
       "      <td>2</td>\n",
       "      <td>1</td>\n",
       "      <td>1</td>\n",
       "      <td>1</td>\n",
       "      <td>1</td>\n",
       "      <td>1</td>\n",
       "      <td>3</td>\n",
       "      <td>2</td>\n",
       "      <td>1</td>\n",
       "      <td>...</td>\n",
       "      <td>NaN</td>\n",
       "      <td>NaN</td>\n",
       "      <td>2.0</td>\n",
       "      <td>NaN</td>\n",
       "      <td>NaN</td>\n",
       "      <td>NaN</td>\n",
       "      <td>NaN</td>\n",
       "      <td>2378</td>\n",
       "      <td>4464</td>\n",
       "      <td>0</td>\n",
       "    </tr>\n",
       "    <tr>\n",
       "      <th>1</th>\n",
       "      <td>1709939</td>\n",
       "      <td>2</td>\n",
       "      <td>1</td>\n",
       "      <td>1</td>\n",
       "      <td>1</td>\n",
       "      <td>1</td>\n",
       "      <td>0</td>\n",
       "      <td>1</td>\n",
       "      <td>4</td>\n",
       "      <td>1</td>\n",
       "      <td>...</td>\n",
       "      <td>NaN</td>\n",
       "      <td>NaN</td>\n",
       "      <td>NaN</td>\n",
       "      <td>NaN</td>\n",
       "      <td>NaN</td>\n",
       "      <td>NaN</td>\n",
       "      <td>NaN</td>\n",
       "      <td>3588</td>\n",
       "      <td>0</td>\n",
       "      <td>0</td>\n",
       "    </tr>\n",
       "    <tr>\n",
       "      <th>2</th>\n",
       "      <td>6874130</td>\n",
       "      <td>2</td>\n",
       "      <td>1</td>\n",
       "      <td>1</td>\n",
       "      <td>1</td>\n",
       "      <td>1</td>\n",
       "      <td>0</td>\n",
       "      <td>3</td>\n",
       "      <td>2</td>\n",
       "      <td>1</td>\n",
       "      <td>...</td>\n",
       "      <td>NaN</td>\n",
       "      <td>NaN</td>\n",
       "      <td>NaN</td>\n",
       "      <td>NaN</td>\n",
       "      <td>NaN</td>\n",
       "      <td>NaN</td>\n",
       "      <td>NaN</td>\n",
       "      <td>2740</td>\n",
       "      <td>0</td>\n",
       "      <td>0</td>\n",
       "    </tr>\n",
       "    <tr>\n",
       "      <th>3</th>\n",
       "      <td>10319375</td>\n",
       "      <td>2</td>\n",
       "      <td>1</td>\n",
       "      <td>1</td>\n",
       "      <td>1</td>\n",
       "      <td>1</td>\n",
       "      <td>1</td>\n",
       "      <td>3</td>\n",
       "      <td>1</td>\n",
       "      <td>1</td>\n",
       "      <td>...</td>\n",
       "      <td>NaN</td>\n",
       "      <td>NaN</td>\n",
       "      <td>NaN</td>\n",
       "      <td>NaN</td>\n",
       "      <td>NaN</td>\n",
       "      <td>NaN</td>\n",
       "      <td>NaN</td>\n",
       "      <td>493</td>\n",
       "      <td>0</td>\n",
       "      <td>0</td>\n",
       "    </tr>\n",
       "    <tr>\n",
       "      <th>4</th>\n",
       "      <td>11140857</td>\n",
       "      <td>2</td>\n",
       "      <td>1</td>\n",
       "      <td>1</td>\n",
       "      <td>1</td>\n",
       "      <td>1</td>\n",
       "      <td>0</td>\n",
       "      <td>3</td>\n",
       "      <td>3</td>\n",
       "      <td>1</td>\n",
       "      <td>...</td>\n",
       "      <td>NaN</td>\n",
       "      <td>NaN</td>\n",
       "      <td>NaN</td>\n",
       "      <td>NaN</td>\n",
       "      <td>NaN</td>\n",
       "      <td>NaN</td>\n",
       "      <td>NaN</td>\n",
       "      <td>2016</td>\n",
       "      <td>0</td>\n",
       "      <td>0</td>\n",
       "    </tr>\n",
       "  </tbody>\n",
       "</table>\n",
       "<p>5 rows × 287 columns</p>\n",
       "</div>"
      ],
      "text/plain": [
       "         id  cod_provincia  region  tamanio_aglomerado  aglomerado  \\\n",
       "0   1128639              2       1                   1           1   \n",
       "1   1709939              2       1                   1           1   \n",
       "2   6874130              2       1                   1           1   \n",
       "3  10319375              2       1                   1           1   \n",
       "4  11140857              2       1                   1           1   \n",
       "\n",
       "   localidades_150  submuestra  bhcv01  bhcv02  bhcv03  ...  glucemia_elevada  \\\n",
       "0                1           1       3       2       1  ...               NaN   \n",
       "1                1           0       1       4       1  ...               NaN   \n",
       "2                1           0       3       2       1  ...               NaN   \n",
       "3                1           1       3       1       1  ...               NaN   \n",
       "4                1           0       3       3       1  ...               NaN   \n",
       "\n",
       "   prevalencia_glucemia_elevada_combinada  findrisc  bimq06  bimq06_01  \\\n",
       "0                                     NaN       2.0     NaN        NaN   \n",
       "1                                     NaN       NaN     NaN        NaN   \n",
       "2                                     NaN       NaN     NaN        NaN   \n",
       "3                                     NaN       NaN     NaN        NaN   \n",
       "4                                     NaN       NaN     NaN        NaN   \n",
       "\n",
       "   colesterol_elevado  prevalencia_colesterol_combinada  wf1p  wf2p  wf3p  \n",
       "0                 NaN                               NaN  2378  4464     0  \n",
       "1                 NaN                               NaN  3588     0     0  \n",
       "2                 NaN                               NaN  2740     0     0  \n",
       "3                 NaN                               NaN   493     0     0  \n",
       "4                 NaN                               NaN  2016     0     0  \n",
       "\n",
       "[5 rows x 287 columns]"
      ]
     },
     "execution_count": 5,
     "metadata": {},
     "output_type": "execute_result"
    }
   ],
   "source": [
    "# Obtengo las 5 primeras filas del dataset\n",
    "friesgo_2018_raw.head()"
   ]
  },
  {
   "cell_type": "code",
   "execution_count": 8,
   "metadata": {},
   "outputs": [
    {
     "name": "stdout",
     "output_type": "stream",
     "text": [
      "['id', 'cod_provincia', 'region', 'tamanio_aglomerado', 'aglomerado', 'localidades_150', 'submuestra', 'bhcv01', 'bhcv02', 'bhcv03', 'bhcv04', 'bhcv05', 'bhcv06', 'bhcv07', 'bhcv08', 'bhcv09', 'bhcv10', 'bhcv11', 'bhho01', 'bhho02', 'bhho03', 'cant_componentes', 'miembros_18', 'tipo_hogar', 'bhih01', 'bhih01_02', 'rango_ingreso', 'quintil_uc', 'imputado', 'bhih03', 'bhch03_j', 'bhch04_j', 'rango_edad_j', 'bhch05_j', 'nivel_instruccion_j', 'nivel_instruccion_agrupado_j', 'bhch10_01_j', 'bhch10_02_j', 'bhch10_03_j', 'bhch10_04_j', 'bhch10_05_j', 'bhch10_06_j', 'bhch10_99_j', 'cobertura_salud_j', 'bhsl01', 'bhsl02', 'bhsl03', 'bhsl04', 'bhsl05', 'bhsl06', 'condicion_actividad_j', 'bhch02', 'bhch03', 'bhch04', 'rango_edad', 'bhch05', 'nivel_instruccion', 'nivel_instruccion_agrupado', 'bhch10_01', 'bhch10_02', 'bhch10_03', 'bhch10_04', 'bhch10_05', 'bhch10_06', 'bhch10_99', 'cobertura_salud', 'bisl01', 'bisl02', 'bisl03', 'bisl04', 'bisl05', 'bisl06', 'condicion_actividad', 'bisg01', 'bisg02', 'bisg03', 'bisg04', 'bisg05', 'bisg06', 'biaf01', 'biaf02_m', 'biaf02_99', 'biaf03', 'biaf04_m', 'biaf04_99', 'biaf05', 'biaf06_m', 'biaf06_99', 'biaf07_m', 'biaf07_99', 'biaf08', 'biaf09', 'biaf10_01', 'biaf10_02', 'biaf10_03', 'biaf10_04', 'nivel_actividad_fisica', 'barreras_actividad_fisica', 'bita01', 'bita02', 'bita02_99', 'bita03', 'bita04', 'bita04_01', 'bita04_02', 'bita05', 'bita06_a', 'bita06_b', 'bita06_b_99', 'bita06_c', 'bita06_d', 'bita07', 'bita07_99', 'bita08', 'bita09_01', 'bita09_02', 'bita09_03', 'bita09_04', 'bita09_05', 'bita09_06', 'bita10_01', 'bita10_02', 'bita10_03', 'bita10_04', 'bita10_05', 'bita10_06', 'bita11', 'bita12', 'bita13', 'bita14', 'bita15', 'bita16', 'consumo_tabaco_100', 'ta_paquete_y_armado', 'ta_dejar_fumar', 'ta_otros_productos', 'hta_nofumadores', 'ta_perc_publicidad', 'ta_percepcion_riesgo', 'imagenes_tabaco', 'biha01', 'biha02', 'biha03', 'biha04', 'biha05_01', 'biha05_02', 'biha06', 'biha06_99', 'biha07', 'biha08', 'biha09', 'biha10', 'biha11', 'biha11_99', 'biha12', 'biha13', 'biha14', 'biha15', 'control_hipertension', 'prevalencia_hipertension', 'bipc01', 'bipc02', 'bipc03', 'bipc04', 'bipc04_99', 'bipc05', 'bipc05_99', 'imc', 'imc_categorias', 'bial01', 'bial02', 'bial03', 'bial03_99', 'bial04', 'bial04_99', 'bial05', 'bial05_99', 'bial06', 'bial06_99', 'bial07', 'bial08', 'bial09', 'bial10', 'promedio_fv_diario', 'consumo_fv', 'barreras_fyv', 'tipo_dieta_razones', 'bico01', 'bico02', 'bico03', 'bico04', 'bico05_01', 'bico05_02', 'control_colesterol', 'prevalencia_colesterol', 'bica01', 'bica02', 'bica03_01', 'bica03_02', 'bica03_99', 'bica04_01_b', 'bica04_01_c', 'bica04_02_b', 'bica04_02_c', 'bica04_03_b', 'bica04_03_c', 'bica04_04', 'bica05_01_b', 'bica05_01_c', 'bica05_02_b', 'bica05_02_c', 'bica05_03_b', 'bica05_03_c', 'bica05_04', 'bica06', 'bica07', 'consumo_regular_riesgo', 'consumo_episodico_excesivo', 'bidi01', 'bidi02', 'bidi03', 'bidi04_01', 'bidi04_02', 'bidi04_03', 'bidi05', 'bidi06_01', 'bidi06_02', 'bidi07', 'bidi08', 'bidi09', 'bidi10', 'bidi11', 'bidi12', 'bidi13', 'bidi14', 'control_diabetes', 'prevalencia_diabetes', 'bile01', 'bile02', 'bile03', 'bipp01', 'bipp02', 'bipp03', 'bipp04', 'control_mamografia', 'control_pap', 'bicc01_01', 'bicc01_02', 'bicc01_03', 'bicc02', 'bicc03', 'control_colon', 'bima01', 'bima02', 'bima03', 'bima04_01_a', 'bima04_01_b', 'bima04_02_a', 'bima04_02_b', 'bima04_03_a', 'bima04_03_b', 'promedio_sistolica', 'promedio_diastolica', 'ta_elevada', 'prevalencia_hipertension_combinada', 'bima06', 'bima07', 'bima09', 'bima10', 'imc_bima', 'imc_categorias_bima', 'bima12', 'bima13', 'bima14', 'bimq01', 'bimq05', 'bimq05_01', 'glucemia_elevada', 'prevalencia_glucemia_elevada_combinada', 'findrisc', 'bimq06', 'bimq06_01', 'colesterol_elevado', 'prevalencia_colesterol_combinada', 'wf1p', 'wf2p', 'wf3p']\n"
     ]
    }
   ],
   "source": [
    "pd.set_option('display.max_columns',None)\n",
    "print(friesgo_2018_raw.columns.tolist())\n"
   ]
  },
  {
   "cell_type": "markdown",
   "metadata": {},
   "source": [
    "## Busqueda y localizacion de columnas"
   ]
  },
  {
   "cell_type": "code",
   "execution_count": null,
   "metadata": {},
   "outputs": [],
   "source": [
    "#Busco el indice de una columna para dividir los bloques tematicos\n",
    "# friesgo_2018_raw.columns.get_loc('cobertura_salud')"
   ]
  },
  {
   "cell_type": "code",
   "execution_count": null,
   "metadata": {},
   "outputs": [],
   "source": [
    "# Ubicacion\n",
    "ubicacion_raw = 'Aca ponemos la localizacion'\n",
    "# USAR EL SIGUIENTE CODIGO :\n",
    "# bloquetematico_raw = pd.DataFrame(friesgo_2018_raw.iloc[:, [0] + list(range(inicio,final))]).copy()"
   ]
  },
  {
   "cell_type": "code",
   "execution_count": null,
   "metadata": {},
   "outputs": [],
   "source": [
    "# Tabaquismo"
   ]
  },
  {
   "cell_type": "code",
   "execution_count": null,
   "metadata": {},
   "outputs": [],
   "source": [
    "# Hipertension arterial"
   ]
  },
  {
   "cell_type": "code",
   "execution_count": null,
   "metadata": {},
   "outputs": [],
   "source": [
    "# Peso corporal"
   ]
  },
  {
   "cell_type": "code",
   "execution_count": null,
   "metadata": {},
   "outputs": [],
   "source": [
    "# Alimentacion"
   ]
  },
  {
   "cell_type": "code",
   "execution_count": null,
   "metadata": {},
   "outputs": [],
   "source": [
    "# Colesterol"
   ]
  },
  {
   "cell_type": "code",
   "execution_count": null,
   "metadata": {},
   "outputs": [],
   "source": [
    "# Consumo de alcohol"
   ]
  },
  {
   "cell_type": "code",
   "execution_count": null,
   "metadata": {},
   "outputs": [],
   "source": [
    "# Diabetes"
   ]
  },
  {
   "cell_type": "code",
   "execution_count": null,
   "metadata": {},
   "outputs": [],
   "source": [
    "# Mediciones atropometricas"
   ]
  },
  {
   "cell_type": "code",
   "execution_count": null,
   "metadata": {},
   "outputs": [],
   "source": [
    "# Mediciones bioquimicas"
   ]
  },
  {
   "cell_type": "markdown",
   "metadata": {},
   "source": [
    "## Tratamiento de columnas del dataset raw"
   ]
  },
  {
   "cell_type": "markdown",
   "metadata": {},
   "source": [
    "### UBICACION"
   ]
  },
  {
   "cell_type": "code",
   "execution_count": null,
   "metadata": {},
   "outputs": [],
   "source": [
    "# ESCRIBA su codigo aqui!"
   ]
  },
  {
   "cell_type": "markdown",
   "metadata": {},
   "source": [
    "### TABAQUISMO"
   ]
  },
  {
   "cell_type": "markdown",
   "metadata": {},
   "source": [
    "### HIPERTENSION ARTERIAL"
   ]
  },
  {
   "cell_type": "markdown",
   "metadata": {},
   "source": [
    "### PESO CORPORAL"
   ]
  },
  {
   "cell_type": "markdown",
   "metadata": {},
   "source": [
    "### ALIMENTACION"
   ]
  },
  {
   "cell_type": "markdown",
   "metadata": {},
   "source": [
    "### COLESTEROL"
   ]
  },
  {
   "cell_type": "markdown",
   "metadata": {},
   "source": [
    "### CONSUMO DE ALCOHOL"
   ]
  },
  {
   "cell_type": "markdown",
   "metadata": {},
   "source": [
    "### DIABETES"
   ]
  },
  {
   "cell_type": "markdown",
   "metadata": {},
   "source": [
    "### MEDICIONES ANTROPOMETRICAS"
   ]
  },
  {
   "cell_type": "markdown",
   "metadata": {},
   "source": [
    "### MEDICIONES BIOQUIMICAS"
   ]
  },
  {
   "cell_type": "markdown",
   "metadata": {},
   "source": [
    "### Union de bloques tematicos en dataset util/ final"
   ]
  },
  {
   "cell_type": "markdown",
   "metadata": {},
   "source": [
    "Aqui combinaremos las tablas correspondientes a cada bloque tematico ya acondicionadas, para crear el dataset sobre el que trabajaremos posteriormente. "
   ]
  },
  {
   "cell_type": "code",
   "execution_count": null,
   "metadata": {},
   "outputs": [],
   "source": [
    "# Uso el siguiente codigo\n",
    "# friesgo_2018 = ubicacion.merge(caract_encuest, on= 'id', how='left').merge(salud_y_af, on='id', how='left').merge(tabaquismo, on='id',how='left').merge(colesterol, on='id',how='left').merge(consumo_alcohol, on='id', how='left')\n",
    "print(1+2)"
   ]
  }
 ],
 "metadata": {
  "kernelspec": {
   "display_name": "Python 3",
   "language": "python",
   "name": "python3"
  },
  "language_info": {
   "codemirror_mode": {
    "name": "ipython",
    "version": 3
   },
   "file_extension": ".py",
   "mimetype": "text/x-python",
   "name": "python",
   "nbconvert_exporter": "python",
   "pygments_lexer": "ipython3",
   "version": "3.12.1"
  }
 },
 "nbformat": 4,
 "nbformat_minor": 2
}
